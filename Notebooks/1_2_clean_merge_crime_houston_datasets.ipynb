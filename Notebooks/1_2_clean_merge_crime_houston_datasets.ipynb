{
  "cells": [
    {
      "cell_type": "code",
      "execution_count": null,
      "metadata": {
        "id": "Ff-3LEnT_XTO"
      },
      "outputs": [],
      "source": [
        "#### Import the libraries needed\n",
        "import pickle\n",
        "import dill\n",
        "import json\n",
        "import glob\n",
        "import os\n",
        "from pathlib import Path\n",
        "import re\n",
        "\n",
        "import pandas as pd\n",
        "import numpy as np\n",
        "import matplotlib.pyplot as plt\n",
        "from matplotlib import rcParams\n",
        "import seaborn as sns\n",
        "\n",
        "import statsmodels.api as sm\n",
        "from statsmodels.stats.multicomp import pairwise_tukeyhsd\n",
        "from scipy import stats\n",
        "\n",
        "import warnings\n",
        "warnings.filterwarnings('ignore')\n",
        "%matplotlib inline"
      ]
    },
    {
      "cell_type": "code",
      "source": [],
      "metadata": {
        "id": "TuN-2tNa_bUZ"
      },
      "execution_count": null,
      "outputs": []
    },
    {
      "cell_type": "markdown",
      "metadata": {
        "id": "d_wtr8TM_XTS"
      },
      "source": [
        "## **Load Data**"
      ]
    },
    {
      "cell_type": "code",
      "execution_count": null,
      "metadata": {
        "id": "NHE4h2DD_XTT"
      },
      "outputs": [],
      "source": [
        "# Check jan2010_may2018.csv, jun2018_dec2018.csv and jan2019_jul2023.csv\n",
        "df_jan2010_may2018 = pd.read_csv('data/jan2010_may2018.csv', dtype={'Beat': str, 'Block Range':str})\n",
        "df_jun2018_dec2018 = pd.read_csv('data/jun2018_dec2018.csv', dtype={'Beat': str, 'Block Range':str})\n",
        "df_jan2019_jul2023 = pd.read_csv('data/jan2019_jul2023.csv', dtype={'Beat': str})"
      ]
    },
    {
      "cell_type": "markdown",
      "metadata": {
        "id": "9_pj1os__XTU"
      },
      "source": [
        "## **Clean df_jan2010_may2018**"
      ]
    },
    {
      "cell_type": "code",
      "execution_count": null,
      "metadata": {
        "id": "1eLljiXt_XTU",
        "outputId": "150cf2d0-9823-43ee-ca23-b02331e77cc6"
      },
      "outputs": [
        {
          "data": {
            "text/html": [
              "<div>\n",
              "<style scoped>\n",
              "    .dataframe tbody tr th:only-of-type {\n",
              "        vertical-align: middle;\n",
              "    }\n",
              "\n",
              "    .dataframe tbody tr th {\n",
              "        vertical-align: top;\n",
              "    }\n",
              "\n",
              "    .dataframe thead th {\n",
              "        text-align: right;\n",
              "    }\n",
              "</style>\n",
              "<table border=\"1\" class=\"dataframe\">\n",
              "  <thead>\n",
              "    <tr style=\"text-align: right;\">\n",
              "      <th></th>\n",
              "      <th>Date</th>\n",
              "      <th>Hour</th>\n",
              "      <th>Offense Type</th>\n",
              "      <th>Beat</th>\n",
              "      <th>Premise</th>\n",
              "      <th>Block Range</th>\n",
              "      <th>Street Name</th>\n",
              "      <th>Type</th>\n",
              "      <th>Suffix</th>\n",
              "      <th>Offenses</th>\n",
              "      <th>BlockRange</th>\n",
              "      <th>StreetName</th>\n",
              "      <th># offenses</th>\n",
              "      <th># Of Offenses</th>\n",
              "      <th># Offenses</th>\n",
              "      <th># Of</th>\n",
              "    </tr>\n",
              "  </thead>\n",
              "  <tbody>\n",
              "    <tr>\n",
              "      <th>0</th>\n",
              "      <td>01/16/2017</td>\n",
              "      <td>5</td>\n",
              "      <td>Theft</td>\n",
              "      <td>10H10</td>\n",
              "      <td>Commercial Parking Lot or Garage</td>\n",
              "      <td>6000-6099</td>\n",
              "      <td>CANAL</td>\n",
              "      <td>ST</td>\n",
              "      <td>-</td>\n",
              "      <td>1.0</td>\n",
              "      <td>NaN</td>\n",
              "      <td>NaN</td>\n",
              "      <td>NaN</td>\n",
              "      <td>NaN</td>\n",
              "      <td>NaN</td>\n",
              "      <td>NaN</td>\n",
              "    </tr>\n",
              "    <tr>\n",
              "      <th>1</th>\n",
              "      <td>03/31/2017</td>\n",
              "      <td>18</td>\n",
              "      <td>Rape</td>\n",
              "      <td>10H10</td>\n",
              "      <td>Residence or House</td>\n",
              "      <td>200-299</td>\n",
              "      <td>N LENOX ST</td>\n",
              "      <td>ST</td>\n",
              "      <td>-</td>\n",
              "      <td>1.0</td>\n",
              "      <td>NaN</td>\n",
              "      <td>NaN</td>\n",
              "      <td>NaN</td>\n",
              "      <td>NaN</td>\n",
              "      <td>NaN</td>\n",
              "      <td>NaN</td>\n",
              "    </tr>\n",
              "    <tr>\n",
              "      <th>2</th>\n",
              "      <td>09/03/2017</td>\n",
              "      <td>19</td>\n",
              "      <td>Burglary</td>\n",
              "      <td>10H10</td>\n",
              "      <td>Apartment</td>\n",
              "      <td>1900-1999</td>\n",
              "      <td>RUNNELS</td>\n",
              "      <td>-</td>\n",
              "      <td>-</td>\n",
              "      <td>1.0</td>\n",
              "      <td>NaN</td>\n",
              "      <td>NaN</td>\n",
              "      <td>NaN</td>\n",
              "      <td>NaN</td>\n",
              "      <td>NaN</td>\n",
              "      <td>NaN</td>\n",
              "    </tr>\n",
              "    <tr>\n",
              "      <th>3</th>\n",
              "      <td>09/03/2017</td>\n",
              "      <td>21</td>\n",
              "      <td>Aggravated Assault</td>\n",
              "      <td>10H10</td>\n",
              "      <td>Road, Street, or Sidewalk</td>\n",
              "      <td>2000-2099</td>\n",
              "      <td>RUNNELS</td>\n",
              "      <td>-</td>\n",
              "      <td>-</td>\n",
              "      <td>1.0</td>\n",
              "      <td>NaN</td>\n",
              "      <td>NaN</td>\n",
              "      <td>NaN</td>\n",
              "      <td>NaN</td>\n",
              "      <td>NaN</td>\n",
              "      <td>NaN</td>\n",
              "    </tr>\n",
              "    <tr>\n",
              "      <th>4</th>\n",
              "      <td>09/04/2017</td>\n",
              "      <td>13</td>\n",
              "      <td>Aggravated Assault</td>\n",
              "      <td>10H10</td>\n",
              "      <td>Road, Street, or Sidewalk</td>\n",
              "      <td>400-499</td>\n",
              "      <td>LOCKWOOD DR</td>\n",
              "      <td>-</td>\n",
              "      <td>-</td>\n",
              "      <td>1.0</td>\n",
              "      <td>NaN</td>\n",
              "      <td>NaN</td>\n",
              "      <td>NaN</td>\n",
              "      <td>NaN</td>\n",
              "      <td>NaN</td>\n",
              "      <td>NaN</td>\n",
              "    </tr>\n",
              "  </tbody>\n",
              "</table>\n",
              "</div>"
            ],
            "text/plain": [
              "         Date Hour        Offense Type   Beat  \\\n",
              "0  01/16/2017    5               Theft  10H10   \n",
              "1  03/31/2017   18                Rape  10H10   \n",
              "2  09/03/2017   19            Burglary  10H10   \n",
              "3  09/03/2017   21  Aggravated Assault  10H10   \n",
              "4  09/04/2017   13  Aggravated Assault  10H10   \n",
              "\n",
              "                            Premise Block Range  Street Name Type Suffix  \\\n",
              "0  Commercial Parking Lot or Garage   6000-6099        CANAL   ST      -   \n",
              "1                Residence or House     200-299   N LENOX ST   ST      -   \n",
              "2                         Apartment   1900-1999      RUNNELS    -      -   \n",
              "3         Road, Street, or Sidewalk   2000-2099      RUNNELS    -      -   \n",
              "4         Road, Street, or Sidewalk     400-499  LOCKWOOD DR    -      -   \n",
              "\n",
              "   Offenses BlockRange StreetName  # offenses  # Of Offenses  # Offenses  # Of  \n",
              "0       1.0        NaN        NaN         NaN            NaN         NaN   NaN  \n",
              "1       1.0        NaN        NaN         NaN            NaN         NaN   NaN  \n",
              "2       1.0        NaN        NaN         NaN            NaN         NaN   NaN  \n",
              "3       1.0        NaN        NaN         NaN            NaN         NaN   NaN  \n",
              "4       1.0        NaN        NaN         NaN            NaN         NaN   NaN  "
            ]
          },
          "execution_count": 3,
          "metadata": {},
          "output_type": "execute_result"
        }
      ],
      "source": [
        "df_jan2010_may2018.head()"
      ]
    },
    {
      "cell_type": "markdown",
      "metadata": {
        "id": "HURAYmRV_XTW"
      },
      "source": [
        "#### Restore Point"
      ]
    },
    {
      "cell_type": "code",
      "execution_count": null,
      "metadata": {
        "id": "OnyATWwJ_XTX"
      },
      "outputs": [],
      "source": [
        "temp = df_jan2010_may2018.copy()"
      ]
    },
    {
      "cell_type": "markdown",
      "metadata": {
        "id": "g1cjMTlU_XTY"
      },
      "source": [
        "#### Copy Values from One Column to Another Column\n",
        "    * 'BlockRange' --> 'Block Range'\n",
        "    * 'StreetName' --> 'Street Name'\n",
        "    * '# offenses' --> 'Offenses'\n",
        "    * '# Of Offenses' --> 'Offenses'\n",
        "    * '# Offenses' --> 'Offenses'\n",
        "    * '# Of' --> 'Offenses'"
      ]
    },
    {
      "cell_type": "code",
      "execution_count": null,
      "metadata": {
        "id": "-wdV1rfa_XTY",
        "outputId": "4139e58b-352e-4cc4-902d-8a4b21c93e47"
      },
      "outputs": [
        {
          "data": {
            "text/plain": [
              "Index(['Date', 'Hour', 'Offense Type', 'Beat', 'Premise', 'Block Range',\n",
              "       'Street Name', 'Type', 'Suffix', 'Offenses', 'BlockRange', 'StreetName',\n",
              "       '# offenses', '# Of Offenses', '# Offenses', '# Of'],\n",
              "      dtype='object')"
            ]
          },
          "execution_count": 4,
          "metadata": {},
          "output_type": "execute_result"
        }
      ],
      "source": [
        "# Check column header\n",
        "cols_jan2010_may2018 = df_jan2010_may2018.columns\n",
        "cols_jan2010_may2018"
      ]
    },
    {
      "cell_type": "code",
      "execution_count": null,
      "metadata": {
        "id": "Lctdm8N5_XTZ"
      },
      "outputs": [],
      "source": [
        "# Copy values in 'BlockRange' to 'Block Range'\n",
        "idx = df_jan2010_may2018['Block Range'].isnull() & ~df_jan2010_may2018['BlockRange'].isnull()\n",
        "df_jan2010_may2018['Block Range'] = [df_jan2010_may2018['BlockRange'][i] if idx[i] else df_jan2010_may2018['Block Range'][i] for i in range(len(df_jan2010_may2018))]"
      ]
    },
    {
      "cell_type": "code",
      "execution_count": null,
      "metadata": {
        "id": "AYJwSoo1_XTZ"
      },
      "outputs": [],
      "source": [
        "# Copy values in 'StreetName' to 'Street Name'\n",
        "idx = df_jan2010_may2018['Street Name'].isnull() & ~df_jan2010_may2018['StreetName'].isnull()\n",
        "temp = df_jan2010_may2018['Street Name']\n",
        "df_jan2010_may2018['Street Name'] = [df_jan2010_may2018['StreetName'][i] if idx[i] else df_jan2010_may2018['Street Name'][i] for i in range(len(df_jan2010_may2018))]"
      ]
    },
    {
      "cell_type": "code",
      "execution_count": null,
      "metadata": {
        "id": "qVKKXpQA_XTZ"
      },
      "outputs": [],
      "source": [
        "# Copy values in '# offenses' to 'Offenses'\n",
        "idx = df_jan2010_may2018['Offenses'].isnull() & ~df_jan2010_may2018['# offenses'].isnull()\n",
        "temp = df_jan2010_may2018['Offenses']\n",
        "df_jan2010_may2018['Offenses'] = [df_jan2010_may2018['# offenses'][i] if idx[i] else df_jan2010_may2018['Offenses'][i] for i in range(len(df_jan2010_may2018))]"
      ]
    },
    {
      "cell_type": "code",
      "execution_count": null,
      "metadata": {
        "id": "HPI_hY17_XTa"
      },
      "outputs": [],
      "source": [
        "# Copy values in '# Of Offenses' to 'Offenses'\n",
        "idx = df_jan2010_may2018['Offenses'].isnull() & ~df_jan2010_may2018['# Of Offenses'].isnull()\n",
        "df_jan2010_may2018['Offenses'] = [df_jan2010_may2018['# Of Offenses'][i] if idx[i] else df_jan2010_may2018['Offenses'][i] for i in range(len(df_jan2010_may2018))]"
      ]
    },
    {
      "cell_type": "code",
      "execution_count": null,
      "metadata": {
        "id": "4MSa0Bb4_XTa"
      },
      "outputs": [],
      "source": [
        "# Copy values in '# Offenses' to 'Offenses'\n",
        "idx = df_jan2010_may2018['Offenses'].isnull() & ~df_jan2010_may2018['# offenses'].isnull()\n",
        "df_jan2010_may2018['Offenses'] = [df_jan2010_may2018['# offenses'][i] if idx[i] else df_jan2010_may2018['Offenses'][i] for i in range(len(df_jan2010_may2018))]"
      ]
    },
    {
      "cell_type": "code",
      "execution_count": null,
      "metadata": {
        "id": "RBIcCwuz_XTa"
      },
      "outputs": [],
      "source": [
        "# Copy values in '# Of' to 'Offenses'\n",
        "idx = df_jan2010_may2018['Offenses'].isnull() & ~df_jan2010_may2018['# Of'].isnull()\n",
        "df_jan2010_may2018['Offenses'] = [df_jan2010_may2018['# Of'][i] if idx[i] else df_jan2010_may2018['Offenses'][i] for i in range(len(df_jan2010_may2018))]"
      ]
    },
    {
      "cell_type": "code",
      "execution_count": null,
      "metadata": {
        "id": "jxPFbJjd_XTa",
        "outputId": "87380c10-ba1c-4aac-a3ae-9ee57a435744"
      },
      "outputs": [
        {
          "name": "stdout",
          "output_type": "stream",
          "text": [
            "<class 'pandas.core.frame.DataFrame'>\n",
            "RangeIndex: 1053346 entries, 0 to 1053345\n",
            "Data columns (total 16 columns):\n",
            " #   Column         Non-Null Count    Dtype  \n",
            "---  ------         --------------    -----  \n",
            " 0   Date           1053341 non-null  object \n",
            " 1   Hour           1053345 non-null  object \n",
            " 2   Offense Type   1053345 non-null  object \n",
            " 3   Beat           1053329 non-null  object \n",
            " 4   Premise        1019749 non-null  object \n",
            " 5   Block Range    1053188 non-null  object \n",
            " 6   Street Name    1053344 non-null  object \n",
            " 7   Type           1053345 non-null  object \n",
            " 8   Suffix         1053345 non-null  object \n",
            " 9   Offenses       1043026 non-null  float64\n",
            " 10  BlockRange     334684 non-null   object \n",
            " 11  StreetName     334684 non-null   object \n",
            " 12  # offenses     334684 non-null   float64\n",
            " 13  # Of Offenses  574365 non-null   float64\n",
            " 14  # Offenses     10319 non-null    float64\n",
            " 15  # Of           7613 non-null     float64\n",
            "dtypes: float64(5), object(11)\n",
            "memory usage: 128.6+ MB\n"
          ]
        }
      ],
      "source": [
        "# Check df_jan2010_may2018\n",
        "df_jan2010_may2018.info()"
      ]
    },
    {
      "cell_type": "markdown",
      "metadata": {
        "id": "Azn_KCIX_XTb"
      },
      "source": [
        "#### Remove Duplicates and Drop Unnecesarry Columns\n",
        "    * 'BlockRange', 'StreetName', '# offenses', '# Of Offenses', '# Offenses', '# Of' --> Will be dropped"
      ]
    },
    {
      "cell_type": "code",
      "execution_count": null,
      "metadata": {
        "id": "ajbRRe8P_XTb",
        "outputId": "d8024403-8181-4233-fff1-f2fd29f4f81e"
      },
      "outputs": [
        {
          "name": "stdout",
          "output_type": "stream",
          "text": [
            "df_jan2010_may2018 contains 3560 duplicates\n"
          ]
        },
        {
          "data": {
            "text/html": [
              "<div>\n",
              "<style scoped>\n",
              "    .dataframe tbody tr th:only-of-type {\n",
              "        vertical-align: middle;\n",
              "    }\n",
              "\n",
              "    .dataframe tbody tr th {\n",
              "        vertical-align: top;\n",
              "    }\n",
              "\n",
              "    .dataframe thead th {\n",
              "        text-align: right;\n",
              "    }\n",
              "</style>\n",
              "<table border=\"1\" class=\"dataframe\">\n",
              "  <thead>\n",
              "    <tr style=\"text-align: right;\">\n",
              "      <th></th>\n",
              "      <th>Date</th>\n",
              "      <th>Hour</th>\n",
              "      <th>Offense Type</th>\n",
              "      <th>Beat</th>\n",
              "      <th>Premise</th>\n",
              "      <th>Block Range</th>\n",
              "      <th>Street Name</th>\n",
              "      <th>Type</th>\n",
              "      <th>Suffix</th>\n",
              "      <th>Offenses</th>\n",
              "      <th>BlockRange</th>\n",
              "      <th>StreetName</th>\n",
              "      <th># offenses</th>\n",
              "      <th># Of Offenses</th>\n",
              "      <th># Offenses</th>\n",
              "      <th># Of</th>\n",
              "    </tr>\n",
              "  </thead>\n",
              "  <tbody>\n",
              "    <tr>\n",
              "      <th>730092</th>\n",
              "      <td>01/21/2018</td>\n",
              "      <td>23</td>\n",
              "      <td>Rape</td>\n",
              "      <td>19G50</td>\n",
              "      <td>Apartment</td>\n",
              "      <td>9800-9899</td>\n",
              "      <td>FORUM PARK</td>\n",
              "      <td>DR</td>\n",
              "      <td>-</td>\n",
              "      <td>1.0</td>\n",
              "      <td>NaN</td>\n",
              "      <td>NaN</td>\n",
              "      <td>NaN</td>\n",
              "      <td>NaN</td>\n",
              "      <td>NaN</td>\n",
              "      <td>NaN</td>\n",
              "    </tr>\n",
              "    <tr>\n",
              "      <th>467651</th>\n",
              "      <td>01/21/2018</td>\n",
              "      <td>23</td>\n",
              "      <td>Rape</td>\n",
              "      <td>19G50</td>\n",
              "      <td>Apartment</td>\n",
              "      <td>9800-9899</td>\n",
              "      <td>FORUM PARK</td>\n",
              "      <td>DR</td>\n",
              "      <td>-</td>\n",
              "      <td>1.0</td>\n",
              "      <td>NaN</td>\n",
              "      <td>NaN</td>\n",
              "      <td>NaN</td>\n",
              "      <td>NaN</td>\n",
              "      <td>NaN</td>\n",
              "      <td>NaN</td>\n",
              "    </tr>\n",
              "    <tr>\n",
              "      <th>905</th>\n",
              "      <td>06/20/2017</td>\n",
              "      <td>18</td>\n",
              "      <td>Rape</td>\n",
              "      <td>12D20</td>\n",
              "      <td>Road, Street, or Sidewalk</td>\n",
              "      <td>10600-10699</td>\n",
              "      <td>SABO RD</td>\n",
              "      <td>RD</td>\n",
              "      <td>-</td>\n",
              "      <td>1.0</td>\n",
              "      <td>NaN</td>\n",
              "      <td>NaN</td>\n",
              "      <td>NaN</td>\n",
              "      <td>NaN</td>\n",
              "      <td>NaN</td>\n",
              "      <td>NaN</td>\n",
              "    </tr>\n",
              "    <tr>\n",
              "      <th>635236</th>\n",
              "      <td>06/20/2017</td>\n",
              "      <td>18</td>\n",
              "      <td>Rape</td>\n",
              "      <td>12D20</td>\n",
              "      <td>Road, Street, or Sidewalk</td>\n",
              "      <td>10600-10699</td>\n",
              "      <td>SABO RD</td>\n",
              "      <td>RD</td>\n",
              "      <td>-</td>\n",
              "      <td>1.0</td>\n",
              "      <td>NaN</td>\n",
              "      <td>NaN</td>\n",
              "      <td>NaN</td>\n",
              "      <td>NaN</td>\n",
              "      <td>NaN</td>\n",
              "      <td>NaN</td>\n",
              "    </tr>\n",
              "    <tr>\n",
              "      <th>556335</th>\n",
              "      <td>07/04/2017</td>\n",
              "      <td>20</td>\n",
              "      <td>Robbery</td>\n",
              "      <td>1A30</td>\n",
              "      <td>Drug Store or Medical Supply</td>\n",
              "      <td>1000-1099</td>\n",
              "      <td>RICHMOND</td>\n",
              "      <td>AVE</td>\n",
              "      <td>-</td>\n",
              "      <td>1.0</td>\n",
              "      <td>NaN</td>\n",
              "      <td>NaN</td>\n",
              "      <td>NaN</td>\n",
              "      <td>NaN</td>\n",
              "      <td>NaN</td>\n",
              "      <td>NaN</td>\n",
              "    </tr>\n",
              "    <tr>\n",
              "      <th>...</th>\n",
              "      <td>...</td>\n",
              "      <td>...</td>\n",
              "      <td>...</td>\n",
              "      <td>...</td>\n",
              "      <td>...</td>\n",
              "      <td>...</td>\n",
              "      <td>...</td>\n",
              "      <td>...</td>\n",
              "      <td>...</td>\n",
              "      <td>...</td>\n",
              "      <td>...</td>\n",
              "      <td>...</td>\n",
              "      <td>...</td>\n",
              "      <td>...</td>\n",
              "      <td>...</td>\n",
              "      <td>...</td>\n",
              "    </tr>\n",
              "    <tr>\n",
              "      <th>282331</th>\n",
              "      <td>2016-12-19 00:00:00</td>\n",
              "      <td>13</td>\n",
              "      <td>Theft</td>\n",
              "      <td>21I10</td>\n",
              "      <td>Airport Terminal</td>\n",
              "      <td>2800-2899</td>\n",
              "      <td>TERMINAL</td>\n",
              "      <td>RD</td>\n",
              "      <td>N</td>\n",
              "      <td>1.0</td>\n",
              "      <td>2800-2899</td>\n",
              "      <td>TERMINAL</td>\n",
              "      <td>1.0</td>\n",
              "      <td>NaN</td>\n",
              "      <td>NaN</td>\n",
              "      <td>NaN</td>\n",
              "    </tr>\n",
              "    <tr>\n",
              "      <th>364321</th>\n",
              "      <td>2017-02-26 00:00:00</td>\n",
              "      <td>17</td>\n",
              "      <td>Theft</td>\n",
              "      <td>20G60</td>\n",
              "      <td>Apartment</td>\n",
              "      <td>14800-14899</td>\n",
              "      <td>GRISBY</td>\n",
              "      <td>-</td>\n",
              "      <td>-</td>\n",
              "      <td>1.0</td>\n",
              "      <td>14800-14899</td>\n",
              "      <td>GRISBY</td>\n",
              "      <td>1.0</td>\n",
              "      <td>NaN</td>\n",
              "      <td>NaN</td>\n",
              "      <td>NaN</td>\n",
              "    </tr>\n",
              "    <tr>\n",
              "      <th>721922</th>\n",
              "      <td>2017-02-26 00:00:00</td>\n",
              "      <td>17</td>\n",
              "      <td>Theft</td>\n",
              "      <td>20G60</td>\n",
              "      <td>Apartment</td>\n",
              "      <td>14800-14899</td>\n",
              "      <td>GRISBY</td>\n",
              "      <td>-</td>\n",
              "      <td>-</td>\n",
              "      <td>1.0</td>\n",
              "      <td>14800-14899</td>\n",
              "      <td>GRISBY</td>\n",
              "      <td>1.0</td>\n",
              "      <td>NaN</td>\n",
              "      <td>NaN</td>\n",
              "      <td>NaN</td>\n",
              "    </tr>\n",
              "    <tr>\n",
              "      <th>108008</th>\n",
              "      <td>2017-03-03 00:00:00</td>\n",
              "      <td>6</td>\n",
              "      <td>Theft</td>\n",
              "      <td>1A40</td>\n",
              "      <td>Apartment</td>\n",
              "      <td>2400-2499</td>\n",
              "      <td>WESTHEIMER</td>\n",
              "      <td>RD</td>\n",
              "      <td>-</td>\n",
              "      <td>1.0</td>\n",
              "      <td>2400-2499</td>\n",
              "      <td>WESTHEIMER</td>\n",
              "      <td>1.0</td>\n",
              "      <td>NaN</td>\n",
              "      <td>NaN</td>\n",
              "      <td>NaN</td>\n",
              "    </tr>\n",
              "    <tr>\n",
              "      <th>721150</th>\n",
              "      <td>2017-03-03 00:00:00</td>\n",
              "      <td>6</td>\n",
              "      <td>Theft</td>\n",
              "      <td>1A40</td>\n",
              "      <td>Apartment</td>\n",
              "      <td>2400-2499</td>\n",
              "      <td>WESTHEIMER</td>\n",
              "      <td>RD</td>\n",
              "      <td>-</td>\n",
              "      <td>1.0</td>\n",
              "      <td>2400-2499</td>\n",
              "      <td>WESTHEIMER</td>\n",
              "      <td>1.0</td>\n",
              "      <td>NaN</td>\n",
              "      <td>NaN</td>\n",
              "      <td>NaN</td>\n",
              "    </tr>\n",
              "  </tbody>\n",
              "</table>\n",
              "<p>6835 rows × 16 columns</p>\n",
              "</div>"
            ],
            "text/plain": [
              "                       Date Hour Offense Type   Beat  \\\n",
              "730092           01/21/2018   23         Rape  19G50   \n",
              "467651           01/21/2018   23         Rape  19G50   \n",
              "905              06/20/2017   18         Rape  12D20   \n",
              "635236           06/20/2017   18         Rape  12D20   \n",
              "556335           07/04/2017   20      Robbery   1A30   \n",
              "...                     ...  ...          ...    ...   \n",
              "282331  2016-12-19 00:00:00   13        Theft  21I10   \n",
              "364321  2017-02-26 00:00:00   17        Theft  20G60   \n",
              "721922  2017-02-26 00:00:00   17        Theft  20G60   \n",
              "108008  2017-03-03 00:00:00    6        Theft   1A40   \n",
              "721150  2017-03-03 00:00:00    6        Theft   1A40   \n",
              "\n",
              "                             Premise  Block Range Street Name Type Suffix  \\\n",
              "730092                     Apartment    9800-9899  FORUM PARK   DR      -   \n",
              "467651                     Apartment    9800-9899  FORUM PARK   DR      -   \n",
              "905        Road, Street, or Sidewalk  10600-10699     SABO RD   RD      -   \n",
              "635236     Road, Street, or Sidewalk  10600-10699     SABO RD   RD      -   \n",
              "556335  Drug Store or Medical Supply    1000-1099    RICHMOND  AVE      -   \n",
              "...                              ...          ...         ...  ...    ...   \n",
              "282331              Airport Terminal    2800-2899    TERMINAL   RD      N   \n",
              "364321                     Apartment  14800-14899      GRISBY    -      -   \n",
              "721922                     Apartment  14800-14899      GRISBY    -      -   \n",
              "108008                     Apartment    2400-2499  WESTHEIMER   RD      -   \n",
              "721150                     Apartment    2400-2499  WESTHEIMER   RD      -   \n",
              "\n",
              "        Offenses   BlockRange  StreetName  # offenses  # Of Offenses  \\\n",
              "730092       1.0          NaN         NaN         NaN            NaN   \n",
              "467651       1.0          NaN         NaN         NaN            NaN   \n",
              "905          1.0          NaN         NaN         NaN            NaN   \n",
              "635236       1.0          NaN         NaN         NaN            NaN   \n",
              "556335       1.0          NaN         NaN         NaN            NaN   \n",
              "...          ...          ...         ...         ...            ...   \n",
              "282331       1.0    2800-2899    TERMINAL         1.0            NaN   \n",
              "364321       1.0  14800-14899      GRISBY         1.0            NaN   \n",
              "721922       1.0  14800-14899      GRISBY         1.0            NaN   \n",
              "108008       1.0    2400-2499  WESTHEIMER         1.0            NaN   \n",
              "721150       1.0    2400-2499  WESTHEIMER         1.0            NaN   \n",
              "\n",
              "        # Offenses  # Of  \n",
              "730092         NaN   NaN  \n",
              "467651         NaN   NaN  \n",
              "905            NaN   NaN  \n",
              "635236         NaN   NaN  \n",
              "556335         NaN   NaN  \n",
              "...            ...   ...  \n",
              "282331         NaN   NaN  \n",
              "364321         NaN   NaN  \n",
              "721922         NaN   NaN  \n",
              "108008         NaN   NaN  \n",
              "721150         NaN   NaN  \n",
              "\n",
              "[6835 rows x 16 columns]"
            ]
          },
          "execution_count": 12,
          "metadata": {},
          "output_type": "execute_result"
        }
      ],
      "source": [
        "# Check duplicates\n",
        "print(f\"df_jan2010_may2018 contains {df_jan2010_may2018.duplicated().sum()} duplicates\")\n",
        "# Check all cuplicates\n",
        "duplicates = df_jan2010_may2018.duplicated(keep=False)\n",
        "df_jan2010_may2018[duplicates].sort_values('Date')"
      ]
    },
    {
      "cell_type": "code",
      "execution_count": null,
      "metadata": {
        "id": "rmcy-4yQ_XTb"
      },
      "outputs": [],
      "source": [
        "# Remove duplicates\n",
        "cleaned_df_jan2010_may2018 = df_jan2010_may2018.drop_duplicates()\n",
        "\n",
        "# Drop 'BlockRange', 'StreetName', '# offenses', '# Of Offenses', '# Offenses', '# Of'\n",
        "drop_cols = ['BlockRange', 'StreetName', '# offenses', '# Of Offenses', '# Offenses', '# Of']\n",
        "cleaned_df_jan2010_may2018 = df_jan2010_may2018.drop(drop_cols, axis=1)"
      ]
    },
    {
      "cell_type": "code",
      "execution_count": null,
      "metadata": {
        "id": "wrxrxdds_XTb",
        "outputId": "f10e6a54-1543-4ad3-8299-4ce62ba7ac3a"
      },
      "outputs": [
        {
          "data": {
            "text/plain": [
              "Index(['Date', 'Hour', 'Offense Type', 'Beat', 'Premise', 'Block Range',\n",
              "       'Street Name', 'Type', 'Suffix', 'Offenses'],\n",
              "      dtype='object')"
            ]
          },
          "execution_count": 14,
          "metadata": {},
          "output_type": "execute_result"
        }
      ],
      "source": [
        "# Check column header\n",
        "cleaned_df_jan2010_may2018.columns"
      ]
    },
    {
      "cell_type": "markdown",
      "metadata": {
        "id": "o0T6Qit5_XTb"
      },
      "source": [
        "#### Extract Rows between 2010-01-01 and 2018-05-31"
      ]
    },
    {
      "cell_type": "code",
      "execution_count": null,
      "metadata": {
        "id": "lucibGkx_XTb",
        "outputId": "df2ded2a-6510-44ff-a6d5-92ca1791df45"
      },
      "outputs": [
        {
          "name": "stdout",
          "output_type": "stream",
          "text": [
            "Start Date: 1914-09-08 00:00:00\n",
            "End Date: 2033-04-21 00:00:00\n"
          ]
        }
      ],
      "source": [
        "# Check the date range\n",
        "cleaned_df_jan2010_may2018['Date'] = pd.to_datetime(cleaned_df_jan2010_may2018['Date'])\n",
        "print(f\"Start Date: {cleaned_df_jan2010_may2018['Date'].min()}\")\n",
        "print(f\"End Date: {cleaned_df_jan2010_may2018['Date'].max()}\")"
      ]
    },
    {
      "cell_type": "code",
      "execution_count": null,
      "metadata": {
        "id": "j7O9q5aC_XTc"
      },
      "outputs": [],
      "source": [
        "# Extract rows between 2010-01-01 and 2018-05-31\n",
        "cleaned_df_jan2010_may2018 = cleaned_df_jan2010_may2018[(cleaned_df_jan2010_may2018['Date'] >= '2010-01-01') & (cleaned_df_jan2010_may2018['Date'] <= '2018-05-31')]"
      ]
    },
    {
      "cell_type": "markdown",
      "metadata": {
        "id": "MQN-zkiR_XTc"
      },
      "source": [
        "#### Rename Columns\n",
        "* ['Date', 'Hour', 'Offense Type', 'Beat', 'Premise', 'Block Range', 'Street Name', 'Type', 'Suffix', 'Offenses']\n",
        "-->\n",
        "['Occurrence Date', 'Occurrence Hour', 'NIBRS Description', 'Beat', 'Premise', 'Block Range', 'Street Name', 'Street Type', 'Suffix', 'Offense Count']\n"
      ]
    },
    {
      "cell_type": "code",
      "execution_count": null,
      "metadata": {
        "id": "RMFUwOFh_XTc"
      },
      "outputs": [],
      "source": [
        "# Rename ['Date', 'Hour', 'Offense Type', 'Beat', 'Premise', 'Block Range', 'Street Name', 'Type', 'Suffix', 'Offenses']\n",
        "cleaned_df_jan2010_may2018.columns = ['Occurrence Date', 'Occurrence Hour', 'NIBRS Description', 'Beat', 'Premise',\n",
        "                                      'Block Range', 'Street Name', 'Street Type', 'Suffix', 'Offense Count']\n"
      ]
    },
    {
      "cell_type": "code",
      "execution_count": null,
      "metadata": {
        "id": "kP7zL4mX_XTd",
        "outputId": "34a27774-bf8f-4ce2-c1eb-d0a4234102a7"
      },
      "outputs": [
        {
          "data": {
            "text/plain": [
              "(1050760, 10)"
            ]
          },
          "execution_count": 18,
          "metadata": {},
          "output_type": "execute_result"
        }
      ],
      "source": [
        "# Check shape\n",
        "cleaned_df_jan2010_may2018.shape"
      ]
    },
    {
      "cell_type": "markdown",
      "metadata": {
        "id": "CPE6dleE_XTd"
      },
      "source": [
        "#### Change Column Order\n",
        "* ['Occurrence Date', 'Occurrence Hour', 'NIBRS Description', 'Beat', 'Premise', 'Block Range', 'Street Name', 'Street Type', 'Suffix', 'Offense Count'] --> ['Occurrence Date', 'Occurrence Hour', 'NIBRS Description', 'Offense Count', 'Beat', 'Premise', 'Block Range', 'Street Name', 'Street Type', 'Suffix']"
      ]
    },
    {
      "cell_type": "code",
      "execution_count": null,
      "metadata": {
        "id": "KaiZJPbC_XTd"
      },
      "outputs": [],
      "source": [
        "# Change the column order\n",
        "cleaned_df_jan2010_may2018 = cleaned_df_jan2010_may2018[['Occurrence Date', 'Occurrence Hour', 'NIBRS Description', 'Offense Count', 'Beat',\n",
        "                                                         'Premise', 'Block Range', 'Street Name', 'Street Type', 'Suffix']]"
      ]
    },
    {
      "cell_type": "code",
      "execution_count": null,
      "metadata": {
        "id": "9Ccl41Cn_XTe"
      },
      "outputs": [],
      "source": [
        "# Sort by 'Occurrence Date'\n",
        "cleaned_df_jan2010_may2018.sort_values('Occurrence Date', inplace=True)"
      ]
    },
    {
      "cell_type": "code",
      "execution_count": null,
      "metadata": {
        "id": "SMskrdKK_XTe",
        "outputId": "23921be3-0f4e-4179-9aae-9dbc01fd7ac9"
      },
      "outputs": [
        {
          "name": "stdout",
          "output_type": "stream",
          "text": [
            "<class 'pandas.core.frame.DataFrame'>\n",
            "Int64Index: 1050760 entries, 387594 to 831912\n",
            "Data columns (total 10 columns):\n",
            " #   Column             Non-Null Count    Dtype         \n",
            "---  ------             --------------    -----         \n",
            " 0   Occurrence Date    1050760 non-null  datetime64[ns]\n",
            " 1   Occurrence Hour    1050760 non-null  object        \n",
            " 2   NIBRS Description  1050760 non-null  object        \n",
            " 3   Offense Count      1040450 non-null  float64       \n",
            " 4   Beat               1050744 non-null  object        \n",
            " 5   Premise            1017228 non-null  object        \n",
            " 6   Block Range        1050604 non-null  object        \n",
            " 7   Street Name        1050759 non-null  object        \n",
            " 8   Street Type        1050760 non-null  object        \n",
            " 9   Suffix             1050760 non-null  object        \n",
            "dtypes: datetime64[ns](1), float64(1), object(8)\n",
            "memory usage: 88.2+ MB\n"
          ]
        }
      ],
      "source": [
        "cleaned_df_jan2010_may2018.info()"
      ]
    },
    {
      "cell_type": "code",
      "execution_count": null,
      "metadata": {
        "id": "3_MoiIA7_XTe",
        "outputId": "0b41dbfd-6fa0-457e-9a31-070441822ba2"
      },
      "outputs": [
        {
          "data": {
            "text/html": [
              "<div>\n",
              "<style scoped>\n",
              "    .dataframe tbody tr th:only-of-type {\n",
              "        vertical-align: middle;\n",
              "    }\n",
              "\n",
              "    .dataframe tbody tr th {\n",
              "        vertical-align: top;\n",
              "    }\n",
              "\n",
              "    .dataframe thead th {\n",
              "        text-align: right;\n",
              "    }\n",
              "</style>\n",
              "<table border=\"1\" class=\"dataframe\">\n",
              "  <thead>\n",
              "    <tr style=\"text-align: right;\">\n",
              "      <th></th>\n",
              "      <th>Occurrence Date</th>\n",
              "      <th>Occurrence Hour</th>\n",
              "      <th>NIBRS Description</th>\n",
              "      <th>Offense Count</th>\n",
              "      <th>Beat</th>\n",
              "      <th>Premise</th>\n",
              "      <th>Block Range</th>\n",
              "      <th>Street Name</th>\n",
              "      <th>Street Type</th>\n",
              "      <th>Suffix</th>\n",
              "    </tr>\n",
              "  </thead>\n",
              "  <tbody>\n",
              "    <tr>\n",
              "      <th>387594</th>\n",
              "      <td>2010-01-01</td>\n",
              "      <td>8</td>\n",
              "      <td>Theft</td>\n",
              "      <td>1.0</td>\n",
              "      <td>3B10</td>\n",
              "      <td>20R</td>\n",
              "      <td>4900-4999</td>\n",
              "      <td>POINCIANA</td>\n",
              "      <td>DR</td>\n",
              "      <td>-</td>\n",
              "    </tr>\n",
              "    <tr>\n",
              "      <th>383540</th>\n",
              "      <td>2010-01-01</td>\n",
              "      <td>18</td>\n",
              "      <td>Theft</td>\n",
              "      <td>1.0</td>\n",
              "      <td>5F20</td>\n",
              "      <td>20D</td>\n",
              "      <td>8700-8799</td>\n",
              "      <td>HAMMERLY</td>\n",
              "      <td>-</td>\n",
              "      <td>-</td>\n",
              "    </tr>\n",
              "    <tr>\n",
              "      <th>563390</th>\n",
              "      <td>2010-01-01</td>\n",
              "      <td>0</td>\n",
              "      <td>Burglary</td>\n",
              "      <td>1.0</td>\n",
              "      <td>1A10</td>\n",
              "      <td>05O</td>\n",
              "      <td>400-499</td>\n",
              "      <td>MAIN</td>\n",
              "      <td>ST</td>\n",
              "      <td>-</td>\n",
              "    </tr>\n",
              "    <tr>\n",
              "      <th>387303</th>\n",
              "      <td>2010-01-01</td>\n",
              "      <td>0</td>\n",
              "      <td>Theft</td>\n",
              "      <td>1.0</td>\n",
              "      <td>7C10</td>\n",
              "      <td>20R</td>\n",
              "      <td>1900-1999</td>\n",
              "      <td>LOCKWOOD</td>\n",
              "      <td>DR</td>\n",
              "      <td>-</td>\n",
              "    </tr>\n",
              "    <tr>\n",
              "      <th>303450</th>\n",
              "      <td>2010-01-01</td>\n",
              "      <td>10</td>\n",
              "      <td>Theft</td>\n",
              "      <td>1.0</td>\n",
              "      <td>18F20</td>\n",
              "      <td>18A</td>\n",
              "      <td>3300-3399</td>\n",
              "      <td>MCCUE</td>\n",
              "      <td>RD</td>\n",
              "      <td>-</td>\n",
              "    </tr>\n",
              "  </tbody>\n",
              "</table>\n",
              "</div>"
            ],
            "text/plain": [
              "       Occurrence Date Occurrence Hour NIBRS Description  Offense Count  \\\n",
              "387594      2010-01-01               8             Theft            1.0   \n",
              "383540      2010-01-01              18             Theft            1.0   \n",
              "563390      2010-01-01               0          Burglary            1.0   \n",
              "387303      2010-01-01               0             Theft            1.0   \n",
              "303450      2010-01-01              10             Theft            1.0   \n",
              "\n",
              "         Beat Premise Block Range Street Name Street Type Suffix  \n",
              "387594   3B10     20R   4900-4999   POINCIANA          DR      -  \n",
              "383540   5F20     20D   8700-8799    HAMMERLY           -      -  \n",
              "563390   1A10     05O     400-499        MAIN          ST      -  \n",
              "387303   7C10     20R   1900-1999    LOCKWOOD          DR      -  \n",
              "303450  18F20     18A   3300-3399       MCCUE          RD      -  "
            ]
          },
          "execution_count": 22,
          "metadata": {},
          "output_type": "execute_result"
        }
      ],
      "source": [
        "cleaned_df_jan2010_may2018.head()"
      ]
    },
    {
      "cell_type": "markdown",
      "metadata": {
        "id": "16LS9TmR_XTf"
      },
      "source": [
        "#### Check Null"
      ]
    },
    {
      "cell_type": "code",
      "execution_count": null,
      "metadata": {
        "id": "bfHcmTJm_XTf",
        "outputId": "0c410cb0-f70f-47df-d479-cf564821fb61"
      },
      "outputs": [
        {
          "data": {
            "text/plain": [
              "Occurrence Date          0\n",
              "Occurrence Hour          0\n",
              "NIBRS Description        0\n",
              "Offense Count        10310\n",
              "Beat                    16\n",
              "Premise              33532\n",
              "Block Range            156\n",
              "Street Name              1\n",
              "Street Type              0\n",
              "Suffix                   0\n",
              "dtype: int64"
            ]
          },
          "execution_count": 23,
          "metadata": {},
          "output_type": "execute_result"
        }
      ],
      "source": [
        "cleaned_df_jan2010_may2018.isnull().sum()"
      ]
    },
    {
      "cell_type": "code",
      "execution_count": null,
      "metadata": {
        "id": "taZivRXT_XTg",
        "outputId": "767ccc1a-833a-41d7-c933-57c68d6090d7"
      },
      "outputs": [
        {
          "data": {
            "text/plain": [
              "Index(['Occurrence Date', 'Occurrence Hour', 'NIBRS Description',\n",
              "       'Offense Count', 'Beat', 'Premise', 'Block Range', 'Street Name',\n",
              "       'Street Type', 'Suffix'],\n",
              "      dtype='object')"
            ]
          },
          "execution_count": 24,
          "metadata": {},
          "output_type": "execute_result"
        }
      ],
      "source": [
        "# Check the column header\n",
        "cleaned_df_jan2010_may2018.columns"
      ]
    },
    {
      "cell_type": "markdown",
      "metadata": {
        "id": "aLP6XQp2_XTg"
      },
      "source": [
        "#### Save cleaned_df_jan2010_may2018 to 'cleaned_jan2010_may2018.csv'"
      ]
    },
    {
      "cell_type": "code",
      "execution_count": null,
      "metadata": {
        "id": "AiKJ9Mi7_XTg"
      },
      "outputs": [],
      "source": [
        "# Save df_jan2010_may2018 to cleaned_jan2010_may2018.csv\n",
        "cleaned_df_jan2010_may2018.to_csv('data/cleaned_jan2010_may2018.csv', index=False)"
      ]
    },
    {
      "cell_type": "markdown",
      "metadata": {
        "id": "vJf23fnA_XTh"
      },
      "source": [
        "## **Clean df_jun2010_dec2018**"
      ]
    },
    {
      "cell_type": "code",
      "execution_count": null,
      "metadata": {
        "id": "rmmeOCuT_XTh",
        "outputId": "6b1050c7-6faa-47da-acbc-370f97e36e5f"
      },
      "outputs": [
        {
          "data": {
            "text/html": [
              "<div>\n",
              "<style scoped>\n",
              "    .dataframe tbody tr th:only-of-type {\n",
              "        vertical-align: middle;\n",
              "    }\n",
              "\n",
              "    .dataframe tbody tr th {\n",
              "        vertical-align: top;\n",
              "    }\n",
              "\n",
              "    .dataframe thead th {\n",
              "        text-align: right;\n",
              "    }\n",
              "</style>\n",
              "<table border=\"1\" class=\"dataframe\">\n",
              "  <thead>\n",
              "    <tr style=\"text-align: right;\">\n",
              "      <th></th>\n",
              "      <th>Occurrence Date</th>\n",
              "      <th>Occurrence Hour</th>\n",
              "      <th>NIBRS Description</th>\n",
              "      <th>Offense Count</th>\n",
              "      <th>Beat</th>\n",
              "      <th>Premise</th>\n",
              "      <th>Block Range</th>\n",
              "      <th>Street Name</th>\n",
              "      <th>Street Type</th>\n",
              "      <th>Suffix</th>\n",
              "    </tr>\n",
              "  </thead>\n",
              "  <tbody>\n",
              "    <tr>\n",
              "      <th>0</th>\n",
              "      <td>2018-09-01</td>\n",
              "      <td>0</td>\n",
              "      <td>Credit card, ATM fraud</td>\n",
              "      <td>1</td>\n",
              "      <td>5F30</td>\n",
              "      <td>Auto Dealership New/Used</td>\n",
              "      <td>12800-12899</td>\n",
              "      <td>HEMPSTEAD</td>\n",
              "      <td>RD</td>\n",
              "      <td>NaN</td>\n",
              "    </tr>\n",
              "    <tr>\n",
              "      <th>1</th>\n",
              "      <td>2018-09-01</td>\n",
              "      <td>0</td>\n",
              "      <td>Intimidation</td>\n",
              "      <td>1</td>\n",
              "      <td>8C30</td>\n",
              "      <td>Residence, Home (Includes Apartment)</td>\n",
              "      <td>8100-8199</td>\n",
              "      <td>SNOWDEN</td>\n",
              "      <td>NaN</td>\n",
              "      <td>NaN</td>\n",
              "    </tr>\n",
              "    <tr>\n",
              "      <th>2</th>\n",
              "      <td>2018-09-01</td>\n",
              "      <td>0</td>\n",
              "      <td>Weapon law violations</td>\n",
              "      <td>1</td>\n",
              "      <td>14D10</td>\n",
              "      <td>Parking Lot, Garage</td>\n",
              "      <td>6600-6699</td>\n",
              "      <td>MADRID</td>\n",
              "      <td>ST</td>\n",
              "      <td>NaN</td>\n",
              "    </tr>\n",
              "    <tr>\n",
              "      <th>3</th>\n",
              "      <td>2018-09-01</td>\n",
              "      <td>0</td>\n",
              "      <td>Trespass of real property</td>\n",
              "      <td>1</td>\n",
              "      <td>10H40</td>\n",
              "      <td>Service, Gas Station</td>\n",
              "      <td>2100-2199</td>\n",
              "      <td>FANNIN</td>\n",
              "      <td>ST</td>\n",
              "      <td>NaN</td>\n",
              "    </tr>\n",
              "    <tr>\n",
              "      <th>4</th>\n",
              "      <td>2018-09-01</td>\n",
              "      <td>0</td>\n",
              "      <td>Driving under the influence</td>\n",
              "      <td>1</td>\n",
              "      <td>9C20</td>\n",
              "      <td>Highway, Road, Street, Alley</td>\n",
              "      <td>6100-6199</td>\n",
              "      <td>EAST</td>\n",
              "      <td>FWY</td>\n",
              "      <td>NaN</td>\n",
              "    </tr>\n",
              "  </tbody>\n",
              "</table>\n",
              "</div>"
            ],
            "text/plain": [
              "  Occurrence Date  Occurrence Hour            NIBRS Description  \\\n",
              "0      2018-09-01                0       Credit card, ATM fraud   \n",
              "1      2018-09-01                0                 Intimidation   \n",
              "2      2018-09-01                0        Weapon law violations   \n",
              "3      2018-09-01                0    Trespass of real property   \n",
              "4      2018-09-01                0  Driving under the influence   \n",
              "\n",
              "   Offense Count   Beat                               Premise  Block Range  \\\n",
              "0              1   5F30              Auto Dealership New/Used  12800-12899   \n",
              "1              1   8C30  Residence, Home (Includes Apartment)    8100-8199   \n",
              "2              1  14D10                   Parking Lot, Garage    6600-6699   \n",
              "3              1  10H40                  Service, Gas Station    2100-2199   \n",
              "4              1   9C20          Highway, Road, Street, Alley    6100-6199   \n",
              "\n",
              "  Street Name Street Type Suffix  \n",
              "0   HEMPSTEAD          RD    NaN  \n",
              "1     SNOWDEN         NaN    NaN  \n",
              "2      MADRID          ST    NaN  \n",
              "3      FANNIN          ST    NaN  \n",
              "4        EAST         FWY    NaN  "
            ]
          },
          "execution_count": 26,
          "metadata": {},
          "output_type": "execute_result"
        }
      ],
      "source": [
        "df_jun2018_dec2018.head()"
      ]
    },
    {
      "cell_type": "code",
      "execution_count": null,
      "metadata": {
        "id": "RcG4DOSc_XTh"
      },
      "outputs": [],
      "source": [
        "col_names_jun2018_dec2018 = ['Occurrence Date', 'Occurrence Hour', 'NIBRS Description' 'Offense Count', 'Beat', 'Premise',\n",
        "                 'Block Range', 'Street Name', 'Street Type', 'Suffix']"
      ]
    },
    {
      "cell_type": "code",
      "execution_count": null,
      "metadata": {
        "id": "-8eCE8Vg_XTs",
        "outputId": "db74c290-1c70-4c4b-cc1d-e8c88ecf2b87"
      },
      "outputs": [
        {
          "data": {
            "text/plain": [
              "Index(['Occurrence Date', 'Occurrence Hour', 'NIBRS Description',\n",
              "       'Offense Count', 'Beat', 'Premise', 'Block Range', 'Street Name',\n",
              "       'Street Type', 'Suffix'],\n",
              "      dtype='object')"
            ]
          },
          "execution_count": 28,
          "metadata": {},
          "output_type": "execute_result"
        }
      ],
      "source": [
        "cols_jun2018_dec2018 = df_jun2018_dec2018.columns\n",
        "cols_jun2018_dec2018"
      ]
    },
    {
      "cell_type": "code",
      "execution_count": null,
      "metadata": {
        "id": "ABC_bopm_XTs",
        "outputId": "54f373e6-f922-486f-d4b7-238f7b642d7d"
      },
      "outputs": [
        {
          "name": "stdout",
          "output_type": "stream",
          "text": [
            "<class 'pandas.core.frame.DataFrame'>\n",
            "RangeIndex: 145713 entries, 0 to 145712\n",
            "Data columns (total 10 columns):\n",
            " #   Column             Non-Null Count   Dtype \n",
            "---  ------             --------------   ----- \n",
            " 0   Occurrence Date    145713 non-null  object\n",
            " 1   Occurrence Hour    145713 non-null  int64 \n",
            " 2   NIBRS Description  145713 non-null  object\n",
            " 3   Offense Count      145713 non-null  int64 \n",
            " 4   Beat               145564 non-null  object\n",
            " 5   Premise            145713 non-null  object\n",
            " 6   Block Range        144823 non-null  object\n",
            " 7   Street Name        145713 non-null  object\n",
            " 8   Street Type        133976 non-null  object\n",
            " 9   Suffix             20532 non-null   object\n",
            "dtypes: int64(2), object(8)\n",
            "memory usage: 11.1+ MB\n"
          ]
        }
      ],
      "source": [
        "# Check df_jan2010_may2018\n",
        "df_jun2018_dec2018.info()"
      ]
    },
    {
      "cell_type": "markdown",
      "metadata": {
        "id": "-ud4YvGu_XTt"
      },
      "source": [
        "#### Remove Duplicates"
      ]
    },
    {
      "cell_type": "code",
      "execution_count": null,
      "metadata": {
        "id": "2mOOh2KD_XTt",
        "outputId": "b61c8417-f981-4fa3-d772-336c38ad8d77"
      },
      "outputs": [
        {
          "name": "stdout",
          "output_type": "stream",
          "text": [
            "df_jun2018_dec2018 contains 658 duplicates\n"
          ]
        },
        {
          "data": {
            "text/html": [
              "<div>\n",
              "<style scoped>\n",
              "    .dataframe tbody tr th:only-of-type {\n",
              "        vertical-align: middle;\n",
              "    }\n",
              "\n",
              "    .dataframe tbody tr th {\n",
              "        vertical-align: top;\n",
              "    }\n",
              "\n",
              "    .dataframe thead th {\n",
              "        text-align: right;\n",
              "    }\n",
              "</style>\n",
              "<table border=\"1\" class=\"dataframe\">\n",
              "  <thead>\n",
              "    <tr style=\"text-align: right;\">\n",
              "      <th></th>\n",
              "      <th>Occurrence Date</th>\n",
              "      <th>Occurrence Hour</th>\n",
              "      <th>NIBRS Description</th>\n",
              "      <th>Offense Count</th>\n",
              "      <th>Beat</th>\n",
              "      <th>Premise</th>\n",
              "      <th>Block Range</th>\n",
              "      <th>Street Name</th>\n",
              "      <th>Street Type</th>\n",
              "      <th>Suffix</th>\n",
              "    </tr>\n",
              "  </thead>\n",
              "  <tbody>\n",
              "    <tr>\n",
              "      <th>81743</th>\n",
              "      <td>2018-06-01</td>\n",
              "      <td>11</td>\n",
              "      <td>All other larceny</td>\n",
              "      <td>1</td>\n",
              "      <td>10H40</td>\n",
              "      <td>School-Elementary/Secondary</td>\n",
              "      <td>1800-1899</td>\n",
              "      <td>STUART</td>\n",
              "      <td>NaN</td>\n",
              "      <td>NaN</td>\n",
              "    </tr>\n",
              "    <tr>\n",
              "      <th>81744</th>\n",
              "      <td>2018-06-01</td>\n",
              "      <td>11</td>\n",
              "      <td>All other larceny</td>\n",
              "      <td>1</td>\n",
              "      <td>10H40</td>\n",
              "      <td>School-Elementary/Secondary</td>\n",
              "      <td>1800-1899</td>\n",
              "      <td>STUART</td>\n",
              "      <td>NaN</td>\n",
              "      <td>NaN</td>\n",
              "    </tr>\n",
              "    <tr>\n",
              "      <th>82277</th>\n",
              "      <td>2018-06-02</td>\n",
              "      <td>0</td>\n",
              "      <td>Theft from motor vehicle</td>\n",
              "      <td>1</td>\n",
              "      <td>15E40</td>\n",
              "      <td>Parking Lot, Garage</td>\n",
              "      <td>8800-8899</td>\n",
              "      <td>LAKES AT 610</td>\n",
              "      <td>DR</td>\n",
              "      <td>NaN</td>\n",
              "    </tr>\n",
              "    <tr>\n",
              "      <th>82286</th>\n",
              "      <td>2018-06-02</td>\n",
              "      <td>0</td>\n",
              "      <td>Theft from motor vehicle</td>\n",
              "      <td>1</td>\n",
              "      <td>15E40</td>\n",
              "      <td>Parking Lot, Garage</td>\n",
              "      <td>8800-8899</td>\n",
              "      <td>LAKES AT 610</td>\n",
              "      <td>DR</td>\n",
              "      <td>NaN</td>\n",
              "    </tr>\n",
              "    <tr>\n",
              "      <th>82436</th>\n",
              "      <td>2018-06-02</td>\n",
              "      <td>9</td>\n",
              "      <td>Burglary, Breaking and Entering</td>\n",
              "      <td>1</td>\n",
              "      <td>11H10</td>\n",
              "      <td>Commercial, Office Building</td>\n",
              "      <td>2100-2199</td>\n",
              "      <td>WAYSIDE</td>\n",
              "      <td>DR</td>\n",
              "      <td>S</td>\n",
              "    </tr>\n",
              "    <tr>\n",
              "      <th>...</th>\n",
              "      <td>...</td>\n",
              "      <td>...</td>\n",
              "      <td>...</td>\n",
              "      <td>...</td>\n",
              "      <td>...</td>\n",
              "      <td>...</td>\n",
              "      <td>...</td>\n",
              "      <td>...</td>\n",
              "      <td>...</td>\n",
              "      <td>...</td>\n",
              "    </tr>\n",
              "    <tr>\n",
              "      <th>80682</th>\n",
              "      <td>2018-12-30</td>\n",
              "      <td>20</td>\n",
              "      <td>Theft from motor vehicle</td>\n",
              "      <td>1</td>\n",
              "      <td>5F30</td>\n",
              "      <td>Restaurant</td>\n",
              "      <td>12900-12999</td>\n",
              "      <td>NORTHWEST</td>\n",
              "      <td>FWY</td>\n",
              "      <td>NaN</td>\n",
              "    </tr>\n",
              "    <tr>\n",
              "      <th>80943</th>\n",
              "      <td>2018-12-31</td>\n",
              "      <td>8</td>\n",
              "      <td>All other offenses</td>\n",
              "      <td>1</td>\n",
              "      <td>14D30</td>\n",
              "      <td>Government, Public Building</td>\n",
              "      <td>8300-8399</td>\n",
              "      <td>MYKAWA</td>\n",
              "      <td>RD</td>\n",
              "      <td>NaN</td>\n",
              "    </tr>\n",
              "    <tr>\n",
              "      <th>80946</th>\n",
              "      <td>2018-12-31</td>\n",
              "      <td>8</td>\n",
              "      <td>All other offenses</td>\n",
              "      <td>1</td>\n",
              "      <td>14D30</td>\n",
              "      <td>Government, Public Building</td>\n",
              "      <td>8300-8399</td>\n",
              "      <td>MYKAWA</td>\n",
              "      <td>RD</td>\n",
              "      <td>NaN</td>\n",
              "    </tr>\n",
              "    <tr>\n",
              "      <th>81154</th>\n",
              "      <td>2018-12-31</td>\n",
              "      <td>15</td>\n",
              "      <td>Theft from motor vehicle</td>\n",
              "      <td>1</td>\n",
              "      <td>13D40</td>\n",
              "      <td>Parking Lot, Garage</td>\n",
              "      <td>8400-8499</td>\n",
              "      <td>SAM HOUSTON</td>\n",
              "      <td>PKWY</td>\n",
              "      <td>S</td>\n",
              "    </tr>\n",
              "    <tr>\n",
              "      <th>81155</th>\n",
              "      <td>2018-12-31</td>\n",
              "      <td>15</td>\n",
              "      <td>Theft from motor vehicle</td>\n",
              "      <td>1</td>\n",
              "      <td>13D40</td>\n",
              "      <td>Parking Lot, Garage</td>\n",
              "      <td>8400-8499</td>\n",
              "      <td>SAM HOUSTON</td>\n",
              "      <td>PKWY</td>\n",
              "      <td>S</td>\n",
              "    </tr>\n",
              "  </tbody>\n",
              "</table>\n",
              "<p>1207 rows × 10 columns</p>\n",
              "</div>"
            ],
            "text/plain": [
              "      Occurrence Date  Occurrence Hour                NIBRS Description  \\\n",
              "81743      2018-06-01               11                All other larceny   \n",
              "81744      2018-06-01               11                All other larceny   \n",
              "82277      2018-06-02                0         Theft from motor vehicle   \n",
              "82286      2018-06-02                0         Theft from motor vehicle   \n",
              "82436      2018-06-02                9  Burglary, Breaking and Entering   \n",
              "...               ...              ...                              ...   \n",
              "80682      2018-12-30               20         Theft from motor vehicle   \n",
              "80943      2018-12-31                8               All other offenses   \n",
              "80946      2018-12-31                8               All other offenses   \n",
              "81154      2018-12-31               15         Theft from motor vehicle   \n",
              "81155      2018-12-31               15         Theft from motor vehicle   \n",
              "\n",
              "       Offense Count   Beat                      Premise  Block Range  \\\n",
              "81743              1  10H40  School-Elementary/Secondary    1800-1899   \n",
              "81744              1  10H40  School-Elementary/Secondary    1800-1899   \n",
              "82277              1  15E40          Parking Lot, Garage    8800-8899   \n",
              "82286              1  15E40          Parking Lot, Garage    8800-8899   \n",
              "82436              1  11H10  Commercial, Office Building    2100-2199   \n",
              "...              ...    ...                          ...          ...   \n",
              "80682              1   5F30                   Restaurant  12900-12999   \n",
              "80943              1  14D30  Government, Public Building    8300-8399   \n",
              "80946              1  14D30  Government, Public Building    8300-8399   \n",
              "81154              1  13D40          Parking Lot, Garage    8400-8499   \n",
              "81155              1  13D40          Parking Lot, Garage    8400-8499   \n",
              "\n",
              "        Street Name Street Type Suffix  \n",
              "81743        STUART         NaN    NaN  \n",
              "81744        STUART         NaN    NaN  \n",
              "82277  LAKES AT 610          DR    NaN  \n",
              "82286  LAKES AT 610          DR    NaN  \n",
              "82436       WAYSIDE          DR      S  \n",
              "...             ...         ...    ...  \n",
              "80682     NORTHWEST         FWY    NaN  \n",
              "80943        MYKAWA          RD    NaN  \n",
              "80946        MYKAWA          RD    NaN  \n",
              "81154   SAM HOUSTON        PKWY      S  \n",
              "81155   SAM HOUSTON        PKWY      S  \n",
              "\n",
              "[1207 rows x 10 columns]"
            ]
          },
          "execution_count": 30,
          "metadata": {},
          "output_type": "execute_result"
        }
      ],
      "source": [
        "# Check duplicates\n",
        "print(f\"df_jun2018_dec2018 contains {df_jun2018_dec2018.duplicated().sum()} duplicates\")\n",
        "# Check all cuplicates\n",
        "duplicates = df_jun2018_dec2018.duplicated(keep=False)\n",
        "df_jun2018_dec2018[duplicates].sort_values('Occurrence Date')"
      ]
    },
    {
      "cell_type": "code",
      "execution_count": null,
      "metadata": {
        "id": "vJfYgq1q_XTt"
      },
      "outputs": [],
      "source": [
        "# Remove duplicates\n",
        "cleaned_df_jun2018_dec2018 = df_jun2018_dec2018.drop_duplicates()"
      ]
    },
    {
      "cell_type": "code",
      "execution_count": null,
      "metadata": {
        "id": "nTR2r1jJ_XTt",
        "outputId": "e29d4e38-e7ba-4923-cadb-9a856500c9bc"
      },
      "outputs": [
        {
          "name": "stdout",
          "output_type": "stream",
          "text": [
            "Start Date: 2018-06-01\n",
            "End Date: 2018-12-31\n"
          ]
        }
      ],
      "source": [
        "# Check the date range\n",
        "print(f\"Start Date: {cleaned_df_jun2018_dec2018['Occurrence Date'].min()}\")\n",
        "print(f\"End Date: {cleaned_df_jun2018_dec2018['Occurrence Date'].max()}\")"
      ]
    },
    {
      "cell_type": "code",
      "execution_count": null,
      "metadata": {
        "id": "G7E84uIH_XTt",
        "outputId": "04ac6a21-0884-4974-eddf-b690210bc844"
      },
      "outputs": [
        {
          "data": {
            "text/plain": [
              "(145055, 10)"
            ]
          },
          "execution_count": 33,
          "metadata": {},
          "output_type": "execute_result"
        }
      ],
      "source": [
        "# Check shape\n",
        "cleaned_df_jun2018_dec2018.shape"
      ]
    },
    {
      "cell_type": "code",
      "execution_count": null,
      "metadata": {
        "id": "eoEvvvQQ_XTv",
        "outputId": "89481d8d-26e3-4db3-e7a4-33a93a2f0d83"
      },
      "outputs": [
        {
          "name": "stdout",
          "output_type": "stream",
          "text": [
            "<class 'pandas.core.frame.DataFrame'>\n",
            "Int64Index: 145055 entries, 0 to 145712\n",
            "Data columns (total 10 columns):\n",
            " #   Column             Non-Null Count   Dtype \n",
            "---  ------             --------------   ----- \n",
            " 0   Occurrence Date    145055 non-null  object\n",
            " 1   Occurrence Hour    145055 non-null  int64 \n",
            " 2   NIBRS Description  145055 non-null  object\n",
            " 3   Offense Count      145055 non-null  int64 \n",
            " 4   Beat               144906 non-null  object\n",
            " 5   Premise            145055 non-null  object\n",
            " 6   Block Range        144165 non-null  object\n",
            " 7   Street Name        145055 non-null  object\n",
            " 8   Street Type        133355 non-null  object\n",
            " 9   Suffix             20455 non-null   object\n",
            "dtypes: int64(2), object(8)\n",
            "memory usage: 12.2+ MB\n"
          ]
        }
      ],
      "source": [
        "cleaned_df_jun2018_dec2018.info()"
      ]
    },
    {
      "cell_type": "code",
      "execution_count": null,
      "metadata": {
        "id": "wjKJg-___XTv"
      },
      "outputs": [],
      "source": [
        "cleaned_df_jun2018_dec2018.sort_values('Occurrence Date', inplace=True)"
      ]
    },
    {
      "cell_type": "code",
      "execution_count": null,
      "metadata": {
        "id": "Z3TbHuXj_XTv",
        "outputId": "773a20f4-bc63-49f4-b9d0-b1ca4edbd341"
      },
      "outputs": [
        {
          "data": {
            "text/html": [
              "<div>\n",
              "<style scoped>\n",
              "    .dataframe tbody tr th:only-of-type {\n",
              "        vertical-align: middle;\n",
              "    }\n",
              "\n",
              "    .dataframe tbody tr th {\n",
              "        vertical-align: top;\n",
              "    }\n",
              "\n",
              "    .dataframe thead th {\n",
              "        text-align: right;\n",
              "    }\n",
              "</style>\n",
              "<table border=\"1\" class=\"dataframe\">\n",
              "  <thead>\n",
              "    <tr style=\"text-align: right;\">\n",
              "      <th></th>\n",
              "      <th>Occurrence Date</th>\n",
              "      <th>Occurrence Hour</th>\n",
              "      <th>NIBRS Description</th>\n",
              "      <th>Offense Count</th>\n",
              "      <th>Beat</th>\n",
              "      <th>Premise</th>\n",
              "      <th>Block Range</th>\n",
              "      <th>Street Name</th>\n",
              "      <th>Street Type</th>\n",
              "      <th>Suffix</th>\n",
              "    </tr>\n",
              "  </thead>\n",
              "  <tbody>\n",
              "    <tr>\n",
              "      <th>82109</th>\n",
              "      <td>2018-06-01</td>\n",
              "      <td>20</td>\n",
              "      <td>Simple assault</td>\n",
              "      <td>1</td>\n",
              "      <td>20G40</td>\n",
              "      <td>Residence, Home (Includes Apartment)</td>\n",
              "      <td>11700-11799</td>\n",
              "      <td>WESTHEIMER</td>\n",
              "      <td>RD</td>\n",
              "      <td>NaN</td>\n",
              "    </tr>\n",
              "    <tr>\n",
              "      <th>81979</th>\n",
              "      <td>2018-06-01</td>\n",
              "      <td>17</td>\n",
              "      <td>All other offenses</td>\n",
              "      <td>1</td>\n",
              "      <td>8C20</td>\n",
              "      <td>Highway, Road, Street, Alley</td>\n",
              "      <td>8000-8099</td>\n",
              "      <td>DARIEN</td>\n",
              "      <td>ST</td>\n",
              "      <td>NaN</td>\n",
              "    </tr>\n",
              "    <tr>\n",
              "      <th>81980</th>\n",
              "      <td>2018-06-01</td>\n",
              "      <td>17</td>\n",
              "      <td>Simple assault</td>\n",
              "      <td>1</td>\n",
              "      <td>20G80</td>\n",
              "      <td>Residence, Home (Includes Apartment)</td>\n",
              "      <td>15100-15199</td>\n",
              "      <td>RICHMOND</td>\n",
              "      <td>AVE</td>\n",
              "      <td>NaN</td>\n",
              "    </tr>\n",
              "    <tr>\n",
              "      <th>81981</th>\n",
              "      <td>2018-06-01</td>\n",
              "      <td>17</td>\n",
              "      <td>Destruction, damage, vandalism</td>\n",
              "      <td>1</td>\n",
              "      <td>19G40</td>\n",
              "      <td>Residence, Home (Includes Apartment)</td>\n",
              "      <td>12000-12099</td>\n",
              "      <td>BISSONNET</td>\n",
              "      <td>ST</td>\n",
              "      <td>NaN</td>\n",
              "    </tr>\n",
              "    <tr>\n",
              "      <th>81982</th>\n",
              "      <td>2018-06-01</td>\n",
              "      <td>17</td>\n",
              "      <td>Shoplifting</td>\n",
              "      <td>1</td>\n",
              "      <td>18F20</td>\n",
              "      <td>Shopping Mall</td>\n",
              "      <td>5000-5099</td>\n",
              "      <td>WESTHEIMER</td>\n",
              "      <td>RD</td>\n",
              "      <td>NaN</td>\n",
              "    </tr>\n",
              "  </tbody>\n",
              "</table>\n",
              "</div>"
            ],
            "text/plain": [
              "      Occurrence Date  Occurrence Hour               NIBRS Description  \\\n",
              "82109      2018-06-01               20                  Simple assault   \n",
              "81979      2018-06-01               17              All other offenses   \n",
              "81980      2018-06-01               17                  Simple assault   \n",
              "81981      2018-06-01               17  Destruction, damage, vandalism   \n",
              "81982      2018-06-01               17                     Shoplifting   \n",
              "\n",
              "       Offense Count   Beat                               Premise  \\\n",
              "82109              1  20G40  Residence, Home (Includes Apartment)   \n",
              "81979              1   8C20          Highway, Road, Street, Alley   \n",
              "81980              1  20G80  Residence, Home (Includes Apartment)   \n",
              "81981              1  19G40  Residence, Home (Includes Apartment)   \n",
              "81982              1  18F20                         Shopping Mall   \n",
              "\n",
              "       Block Range Street Name Street Type Suffix  \n",
              "82109  11700-11799  WESTHEIMER          RD    NaN  \n",
              "81979    8000-8099      DARIEN          ST    NaN  \n",
              "81980  15100-15199    RICHMOND         AVE    NaN  \n",
              "81981  12000-12099   BISSONNET          ST    NaN  \n",
              "81982    5000-5099  WESTHEIMER          RD    NaN  "
            ]
          },
          "execution_count": 36,
          "metadata": {},
          "output_type": "execute_result"
        }
      ],
      "source": [
        "cleaned_df_jun2018_dec2018.head()"
      ]
    },
    {
      "cell_type": "markdown",
      "metadata": {
        "id": "K-COquE1_XTv"
      },
      "source": [
        "#### Check Null"
      ]
    },
    {
      "cell_type": "code",
      "execution_count": null,
      "metadata": {
        "id": "huW03zBE_XTv",
        "outputId": "4b5c5c70-42cb-437e-e8bb-1e3012a0a1d3"
      },
      "outputs": [
        {
          "data": {
            "text/plain": [
              "Occurrence Date           0\n",
              "Occurrence Hour           0\n",
              "NIBRS Description         0\n",
              "Offense Count             0\n",
              "Beat                    149\n",
              "Premise                   0\n",
              "Block Range             890\n",
              "Street Name               0\n",
              "Street Type           11700\n",
              "Suffix               124600\n",
              "dtype: int64"
            ]
          },
          "execution_count": 37,
          "metadata": {},
          "output_type": "execute_result"
        }
      ],
      "source": [
        "cleaned_df_jun2018_dec2018.isnull().sum()"
      ]
    },
    {
      "cell_type": "code",
      "execution_count": null,
      "metadata": {
        "id": "6NjbsIvI_XTw",
        "outputId": "6563d9ce-6cb0-4a4c-ba71-21ae187dc109"
      },
      "outputs": [
        {
          "data": {
            "text/plain": [
              "Index(['Occurrence Date', 'Occurrence Hour', 'NIBRS Description',\n",
              "       'Offense Count', 'Beat', 'Premise', 'Block Range', 'Street Name',\n",
              "       'Street Type', 'Suffix'],\n",
              "      dtype='object')"
            ]
          },
          "execution_count": 38,
          "metadata": {},
          "output_type": "execute_result"
        }
      ],
      "source": [
        "cleaned_df_jun2018_dec2018.columns"
      ]
    },
    {
      "cell_type": "markdown",
      "metadata": {
        "id": "gcKlf53c_XTw"
      },
      "source": [
        "#### Save cleaned_df_jun2018_dec2018 to 'cleaned_jun2018_dec2018.csv'"
      ]
    },
    {
      "cell_type": "code",
      "execution_count": null,
      "metadata": {
        "id": "Bbf5p4VH_XTw"
      },
      "outputs": [],
      "source": [
        "# Save df_jun2018_dec2018 to cleaned_jun2018_dec2018.csv\n",
        "cleaned_df_jun2018_dec2018.to_csv('data/cleaned_jun2018_dec2018.csv', index=False)"
      ]
    },
    {
      "cell_type": "markdown",
      "metadata": {
        "id": "XPcVB0yo_XTw"
      },
      "source": [
        "## **Clean df_jan2019_jul2023**"
      ]
    },
    {
      "cell_type": "code",
      "execution_count": null,
      "metadata": {
        "id": "t6HgtTkz_XTw",
        "outputId": "d031455b-52c9-454b-f2ad-3269a39f9b4d"
      },
      "outputs": [
        {
          "data": {
            "text/html": [
              "<div>\n",
              "<style scoped>\n",
              "    .dataframe tbody tr th:only-of-type {\n",
              "        vertical-align: middle;\n",
              "    }\n",
              "\n",
              "    .dataframe tbody tr th {\n",
              "        vertical-align: top;\n",
              "    }\n",
              "\n",
              "    .dataframe thead th {\n",
              "        text-align: right;\n",
              "    }\n",
              "</style>\n",
              "<table border=\"1\" class=\"dataframe\">\n",
              "  <thead>\n",
              "    <tr style=\"text-align: right;\">\n",
              "      <th></th>\n",
              "      <th>Incident</th>\n",
              "      <th>Occurrence\\nDate</th>\n",
              "      <th>Occurrence\\nHour</th>\n",
              "      <th>NIBRS\\nClass</th>\n",
              "      <th>NIBRSDescription</th>\n",
              "      <th>Offense\\nCount</th>\n",
              "      <th>Beat</th>\n",
              "      <th>Premise</th>\n",
              "      <th>Block Range</th>\n",
              "      <th>StreetName</th>\n",
              "      <th>...</th>\n",
              "      <th>ZIP Code</th>\n",
              "      <th>RMSOccurrenceDate</th>\n",
              "      <th>RMSOccurrenceHour</th>\n",
              "      <th>NIBRSClass</th>\n",
              "      <th>OffenseCount</th>\n",
              "      <th>StreetNo</th>\n",
              "      <th>StreetType</th>\n",
              "      <th>ZIPCode</th>\n",
              "      <th>MapLongitude</th>\n",
              "      <th>MapLatitude</th>\n",
              "    </tr>\n",
              "  </thead>\n",
              "  <tbody>\n",
              "    <tr>\n",
              "      <th>0</th>\n",
              "      <td>5619</td>\n",
              "      <td>2019-01-01</td>\n",
              "      <td>0.0</td>\n",
              "      <td>290</td>\n",
              "      <td>Destruction, damage, vandalism</td>\n",
              "      <td>1.0</td>\n",
              "      <td>9C30</td>\n",
              "      <td>Residence, Home (Includes Apartment)</td>\n",
              "      <td>9622</td>\n",
              "      <td>SAN CARLOS</td>\n",
              "      <td>...</td>\n",
              "      <td>77013</td>\n",
              "      <td>NaN</td>\n",
              "      <td>NaN</td>\n",
              "      <td>NaN</td>\n",
              "      <td>NaN</td>\n",
              "      <td>NaN</td>\n",
              "      <td>NaN</td>\n",
              "      <td>NaN</td>\n",
              "      <td>NaN</td>\n",
              "      <td>NaN</td>\n",
              "    </tr>\n",
              "    <tr>\n",
              "      <th>1</th>\n",
              "      <td>17319</td>\n",
              "      <td>2019-01-01</td>\n",
              "      <td>0.0</td>\n",
              "      <td>35A</td>\n",
              "      <td>Drug, narcotic violations</td>\n",
              "      <td>1.0</td>\n",
              "      <td>7C10</td>\n",
              "      <td>Highway, Road, Street, Alley</td>\n",
              "      <td>NaN</td>\n",
              "      <td>EAST</td>\n",
              "      <td>...</td>\n",
              "      <td>77020</td>\n",
              "      <td>NaN</td>\n",
              "      <td>NaN</td>\n",
              "      <td>NaN</td>\n",
              "      <td>NaN</td>\n",
              "      <td>NaN</td>\n",
              "      <td>NaN</td>\n",
              "      <td>NaN</td>\n",
              "      <td>NaN</td>\n",
              "      <td>NaN</td>\n",
              "    </tr>\n",
              "    <tr>\n",
              "      <th>2</th>\n",
              "      <td>18119</td>\n",
              "      <td>2019-01-01</td>\n",
              "      <td>0.0</td>\n",
              "      <td>290</td>\n",
              "      <td>Destruction, damage, vandalism</td>\n",
              "      <td>1.0</td>\n",
              "      <td>16E40</td>\n",
              "      <td>Residence, Home (Includes Apartment)</td>\n",
              "      <td>16718</td>\n",
              "      <td>LONE QUAIL</td>\n",
              "      <td>...</td>\n",
              "      <td>77489</td>\n",
              "      <td>NaN</td>\n",
              "      <td>NaN</td>\n",
              "      <td>NaN</td>\n",
              "      <td>NaN</td>\n",
              "      <td>NaN</td>\n",
              "      <td>NaN</td>\n",
              "      <td>NaN</td>\n",
              "      <td>NaN</td>\n",
              "      <td>NaN</td>\n",
              "    </tr>\n",
              "    <tr>\n",
              "      <th>3</th>\n",
              "      <td>19019</td>\n",
              "      <td>2019-01-01</td>\n",
              "      <td>0.0</td>\n",
              "      <td>520</td>\n",
              "      <td>Weapon law violations</td>\n",
              "      <td>1.0</td>\n",
              "      <td>NaN</td>\n",
              "      <td>Residence, Home (Includes Apartment)</td>\n",
              "      <td>1909</td>\n",
              "      <td>MELBOURNE</td>\n",
              "      <td>...</td>\n",
              "      <td>77026-0000</td>\n",
              "      <td>NaN</td>\n",
              "      <td>NaN</td>\n",
              "      <td>NaN</td>\n",
              "      <td>NaN</td>\n",
              "      <td>NaN</td>\n",
              "      <td>NaN</td>\n",
              "      <td>NaN</td>\n",
              "      <td>NaN</td>\n",
              "      <td>NaN</td>\n",
              "    </tr>\n",
              "    <tr>\n",
              "      <th>4</th>\n",
              "      <td>20519</td>\n",
              "      <td>2019-01-01</td>\n",
              "      <td>0.0</td>\n",
              "      <td>13A</td>\n",
              "      <td>Aggravated Assault</td>\n",
              "      <td>1.0</td>\n",
              "      <td>15E30</td>\n",
              "      <td>Residence, Home (Includes Apartment)</td>\n",
              "      <td>4034</td>\n",
              "      <td>OSBY</td>\n",
              "      <td>...</td>\n",
              "      <td>77025</td>\n",
              "      <td>NaN</td>\n",
              "      <td>NaN</td>\n",
              "      <td>NaN</td>\n",
              "      <td>NaN</td>\n",
              "      <td>NaN</td>\n",
              "      <td>NaN</td>\n",
              "      <td>NaN</td>\n",
              "      <td>NaN</td>\n",
              "      <td>NaN</td>\n",
              "    </tr>\n",
              "  </tbody>\n",
              "</table>\n",
              "<p>5 rows × 23 columns</p>\n",
              "</div>"
            ],
            "text/plain": [
              "   Incident Occurrence\\nDate  Occurrence\\nHour NIBRS\\nClass  \\\n",
              "0      5619       2019-01-01               0.0          290   \n",
              "1     17319       2019-01-01               0.0          35A   \n",
              "2     18119       2019-01-01               0.0          290   \n",
              "3     19019       2019-01-01               0.0          520   \n",
              "4     20519       2019-01-01               0.0          13A   \n",
              "\n",
              "                 NIBRSDescription  Offense\\nCount   Beat  \\\n",
              "0  Destruction, damage, vandalism             1.0   9C30   \n",
              "1       Drug, narcotic violations             1.0   7C10   \n",
              "2  Destruction, damage, vandalism             1.0  16E40   \n",
              "3           Weapon law violations             1.0    NaN   \n",
              "4              Aggravated Assault             1.0  15E30   \n",
              "\n",
              "                                Premise Block Range  StreetName  ...  \\\n",
              "0  Residence, Home (Includes Apartment)        9622  SAN CARLOS  ...   \n",
              "1          Highway, Road, Street, Alley         NaN        EAST  ...   \n",
              "2  Residence, Home (Includes Apartment)       16718  LONE QUAIL  ...   \n",
              "3  Residence, Home (Includes Apartment)        1909   MELBOURNE  ...   \n",
              "4  Residence, Home (Includes Apartment)        4034        OSBY  ...   \n",
              "\n",
              "     ZIP Code RMSOccurrenceDate RMSOccurrenceHour NIBRSClass OffenseCount  \\\n",
              "0       77013               NaN               NaN        NaN          NaN   \n",
              "1       77020               NaN               NaN        NaN          NaN   \n",
              "2       77489               NaN               NaN        NaN          NaN   \n",
              "3  77026-0000               NaN               NaN        NaN          NaN   \n",
              "4       77025               NaN               NaN        NaN          NaN   \n",
              "\n",
              "   StreetNo StreetType  ZIPCode MapLongitude MapLatitude  \n",
              "0       NaN        NaN      NaN          NaN         NaN  \n",
              "1       NaN        NaN      NaN          NaN         NaN  \n",
              "2       NaN        NaN      NaN          NaN         NaN  \n",
              "3       NaN        NaN      NaN          NaN         NaN  \n",
              "4       NaN        NaN      NaN          NaN         NaN  \n",
              "\n",
              "[5 rows x 23 columns]"
            ]
          },
          "execution_count": 40,
          "metadata": {},
          "output_type": "execute_result"
        }
      ],
      "source": [
        "df_jan2019_jul2023.head()"
      ]
    },
    {
      "cell_type": "code",
      "execution_count": null,
      "metadata": {
        "id": "mfeZTAok_XTw",
        "outputId": "8e6b43e9-fab4-4297-ce7f-1031361a0e49"
      },
      "outputs": [
        {
          "data": {
            "text/plain": [
              "Index(['Incident', 'Occurrence\\nDate', 'Occurrence\\nHour', 'NIBRS\\nClass',\n",
              "       'NIBRSDescription', 'Offense\\nCount', 'Beat', 'Premise', 'Block Range',\n",
              "       'StreetName', 'Street\\nType', 'Suffix', 'City', 'ZIP Code',\n",
              "       'RMSOccurrenceDate', 'RMSOccurrenceHour', 'NIBRSClass', 'OffenseCount',\n",
              "       'StreetNo', 'StreetType', 'ZIPCode', 'MapLongitude', 'MapLatitude'],\n",
              "      dtype='object')"
            ]
          },
          "execution_count": 41,
          "metadata": {},
          "output_type": "execute_result"
        }
      ],
      "source": [
        "cols_jan2019_jul2023 = df_jan2019_jul2023.columns\n",
        "cols_jan2019_jul2023"
      ]
    },
    {
      "cell_type": "markdown",
      "metadata": {
        "id": "uc26CVW1_XTx"
      },
      "source": [
        "#### Restore Point"
      ]
    },
    {
      "cell_type": "code",
      "execution_count": null,
      "metadata": {
        "id": "Yivyqlvw_XTx"
      },
      "outputs": [],
      "source": [
        "temp = df_jan2019_jul2023.copy()"
      ]
    },
    {
      "cell_type": "markdown",
      "metadata": {
        "id": "NuCMDsZN_XTx"
      },
      "source": [
        "#### Rename Columns\n",
        "    * 'Occurrence\\nDate': 'Occurrence Date', 'Occurrence\\nHour': 'Occurrence Hour','NIBRS\\nClass': 'NIBRS Class', 'NIBRSDescription': 'NIBRS Description', 'Offense\\nCount': 'Offense Count', 'StreetName': 'Street Name', 'StreetNo': 'Street No', 'Street\\nType': 'Street Type'"
      ]
    },
    {
      "cell_type": "code",
      "execution_count": null,
      "metadata": {
        "id": "4ttGAHYH_XTx"
      },
      "outputs": [],
      "source": [
        "# Rename columns\n",
        "cols_to_rename = {'Occurrence\\nDate': 'Occurrence Date', 'Occurrence\\nHour': 'Occurrence Hour','NIBRS\\nClass': 'NIBRS Class',\n",
        "                  'NIBRSDescription': 'NIBRS Description', 'Offense\\nCount': 'Offense Count', 'StreetName': 'Street Name', 'StreetNo': 'Street No',\n",
        "                  'Street\\nType': 'Street Type'}\n",
        "df_jan2019_jul2023.rename(columns=cols_to_rename, inplace=True)"
      ]
    },
    {
      "cell_type": "code",
      "execution_count": null,
      "metadata": {
        "id": "z5SAiq59_XTx",
        "outputId": "af8b24e3-be94-4f51-85d5-8d99564b7f41"
      },
      "outputs": [
        {
          "data": {
            "text/html": [
              "<div>\n",
              "<style scoped>\n",
              "    .dataframe tbody tr th:only-of-type {\n",
              "        vertical-align: middle;\n",
              "    }\n",
              "\n",
              "    .dataframe tbody tr th {\n",
              "        vertical-align: top;\n",
              "    }\n",
              "\n",
              "    .dataframe thead th {\n",
              "        text-align: right;\n",
              "    }\n",
              "</style>\n",
              "<table border=\"1\" class=\"dataframe\">\n",
              "  <thead>\n",
              "    <tr style=\"text-align: right;\">\n",
              "      <th></th>\n",
              "      <th>Incident</th>\n",
              "      <th>Occurrence Date</th>\n",
              "      <th>Occurrence Hour</th>\n",
              "      <th>NIBRS Class</th>\n",
              "      <th>NIBRS Description</th>\n",
              "      <th>Offense Count</th>\n",
              "      <th>Beat</th>\n",
              "      <th>Premise</th>\n",
              "      <th>Block Range</th>\n",
              "      <th>Street Name</th>\n",
              "      <th>...</th>\n",
              "      <th>ZIP Code</th>\n",
              "      <th>RMSOccurrenceDate</th>\n",
              "      <th>RMSOccurrenceHour</th>\n",
              "      <th>NIBRSClass</th>\n",
              "      <th>OffenseCount</th>\n",
              "      <th>Street No</th>\n",
              "      <th>StreetType</th>\n",
              "      <th>ZIPCode</th>\n",
              "      <th>MapLongitude</th>\n",
              "      <th>MapLatitude</th>\n",
              "    </tr>\n",
              "  </thead>\n",
              "  <tbody>\n",
              "    <tr>\n",
              "      <th>0</th>\n",
              "      <td>5619</td>\n",
              "      <td>2019-01-01</td>\n",
              "      <td>0.0</td>\n",
              "      <td>290</td>\n",
              "      <td>Destruction, damage, vandalism</td>\n",
              "      <td>1.0</td>\n",
              "      <td>9C30</td>\n",
              "      <td>Residence, Home (Includes Apartment)</td>\n",
              "      <td>9622</td>\n",
              "      <td>SAN CARLOS</td>\n",
              "      <td>...</td>\n",
              "      <td>77013</td>\n",
              "      <td>NaN</td>\n",
              "      <td>NaN</td>\n",
              "      <td>NaN</td>\n",
              "      <td>NaN</td>\n",
              "      <td>NaN</td>\n",
              "      <td>NaN</td>\n",
              "      <td>NaN</td>\n",
              "      <td>NaN</td>\n",
              "      <td>NaN</td>\n",
              "    </tr>\n",
              "    <tr>\n",
              "      <th>1</th>\n",
              "      <td>17319</td>\n",
              "      <td>2019-01-01</td>\n",
              "      <td>0.0</td>\n",
              "      <td>35A</td>\n",
              "      <td>Drug, narcotic violations</td>\n",
              "      <td>1.0</td>\n",
              "      <td>7C10</td>\n",
              "      <td>Highway, Road, Street, Alley</td>\n",
              "      <td>NaN</td>\n",
              "      <td>EAST</td>\n",
              "      <td>...</td>\n",
              "      <td>77020</td>\n",
              "      <td>NaN</td>\n",
              "      <td>NaN</td>\n",
              "      <td>NaN</td>\n",
              "      <td>NaN</td>\n",
              "      <td>NaN</td>\n",
              "      <td>NaN</td>\n",
              "      <td>NaN</td>\n",
              "      <td>NaN</td>\n",
              "      <td>NaN</td>\n",
              "    </tr>\n",
              "    <tr>\n",
              "      <th>2</th>\n",
              "      <td>18119</td>\n",
              "      <td>2019-01-01</td>\n",
              "      <td>0.0</td>\n",
              "      <td>290</td>\n",
              "      <td>Destruction, damage, vandalism</td>\n",
              "      <td>1.0</td>\n",
              "      <td>16E40</td>\n",
              "      <td>Residence, Home (Includes Apartment)</td>\n",
              "      <td>16718</td>\n",
              "      <td>LONE QUAIL</td>\n",
              "      <td>...</td>\n",
              "      <td>77489</td>\n",
              "      <td>NaN</td>\n",
              "      <td>NaN</td>\n",
              "      <td>NaN</td>\n",
              "      <td>NaN</td>\n",
              "      <td>NaN</td>\n",
              "      <td>NaN</td>\n",
              "      <td>NaN</td>\n",
              "      <td>NaN</td>\n",
              "      <td>NaN</td>\n",
              "    </tr>\n",
              "    <tr>\n",
              "      <th>3</th>\n",
              "      <td>19019</td>\n",
              "      <td>2019-01-01</td>\n",
              "      <td>0.0</td>\n",
              "      <td>520</td>\n",
              "      <td>Weapon law violations</td>\n",
              "      <td>1.0</td>\n",
              "      <td>NaN</td>\n",
              "      <td>Residence, Home (Includes Apartment)</td>\n",
              "      <td>1909</td>\n",
              "      <td>MELBOURNE</td>\n",
              "      <td>...</td>\n",
              "      <td>77026-0000</td>\n",
              "      <td>NaN</td>\n",
              "      <td>NaN</td>\n",
              "      <td>NaN</td>\n",
              "      <td>NaN</td>\n",
              "      <td>NaN</td>\n",
              "      <td>NaN</td>\n",
              "      <td>NaN</td>\n",
              "      <td>NaN</td>\n",
              "      <td>NaN</td>\n",
              "    </tr>\n",
              "    <tr>\n",
              "      <th>4</th>\n",
              "      <td>20519</td>\n",
              "      <td>2019-01-01</td>\n",
              "      <td>0.0</td>\n",
              "      <td>13A</td>\n",
              "      <td>Aggravated Assault</td>\n",
              "      <td>1.0</td>\n",
              "      <td>15E30</td>\n",
              "      <td>Residence, Home (Includes Apartment)</td>\n",
              "      <td>4034</td>\n",
              "      <td>OSBY</td>\n",
              "      <td>...</td>\n",
              "      <td>77025</td>\n",
              "      <td>NaN</td>\n",
              "      <td>NaN</td>\n",
              "      <td>NaN</td>\n",
              "      <td>NaN</td>\n",
              "      <td>NaN</td>\n",
              "      <td>NaN</td>\n",
              "      <td>NaN</td>\n",
              "      <td>NaN</td>\n",
              "      <td>NaN</td>\n",
              "    </tr>\n",
              "  </tbody>\n",
              "</table>\n",
              "<p>5 rows × 23 columns</p>\n",
              "</div>"
            ],
            "text/plain": [
              "   Incident Occurrence Date  Occurrence Hour NIBRS Class  \\\n",
              "0      5619      2019-01-01              0.0         290   \n",
              "1     17319      2019-01-01              0.0         35A   \n",
              "2     18119      2019-01-01              0.0         290   \n",
              "3     19019      2019-01-01              0.0         520   \n",
              "4     20519      2019-01-01              0.0         13A   \n",
              "\n",
              "                NIBRS Description  Offense Count   Beat  \\\n",
              "0  Destruction, damage, vandalism            1.0   9C30   \n",
              "1       Drug, narcotic violations            1.0   7C10   \n",
              "2  Destruction, damage, vandalism            1.0  16E40   \n",
              "3           Weapon law violations            1.0    NaN   \n",
              "4              Aggravated Assault            1.0  15E30   \n",
              "\n",
              "                                Premise Block Range Street Name  ...  \\\n",
              "0  Residence, Home (Includes Apartment)        9622  SAN CARLOS  ...   \n",
              "1          Highway, Road, Street, Alley         NaN        EAST  ...   \n",
              "2  Residence, Home (Includes Apartment)       16718  LONE QUAIL  ...   \n",
              "3  Residence, Home (Includes Apartment)        1909   MELBOURNE  ...   \n",
              "4  Residence, Home (Includes Apartment)        4034        OSBY  ...   \n",
              "\n",
              "     ZIP Code RMSOccurrenceDate RMSOccurrenceHour NIBRSClass OffenseCount  \\\n",
              "0       77013               NaN               NaN        NaN          NaN   \n",
              "1       77020               NaN               NaN        NaN          NaN   \n",
              "2       77489               NaN               NaN        NaN          NaN   \n",
              "3  77026-0000               NaN               NaN        NaN          NaN   \n",
              "4       77025               NaN               NaN        NaN          NaN   \n",
              "\n",
              "   Street No StreetType  ZIPCode MapLongitude MapLatitude  \n",
              "0        NaN        NaN      NaN          NaN         NaN  \n",
              "1        NaN        NaN      NaN          NaN         NaN  \n",
              "2        NaN        NaN      NaN          NaN         NaN  \n",
              "3        NaN        NaN      NaN          NaN         NaN  \n",
              "4        NaN        NaN      NaN          NaN         NaN  \n",
              "\n",
              "[5 rows x 23 columns]"
            ]
          },
          "execution_count": 44,
          "metadata": {},
          "output_type": "execute_result"
        }
      ],
      "source": [
        "df_jan2019_jul2023.head()"
      ]
    },
    {
      "cell_type": "markdown",
      "metadata": {
        "id": "acApWlkY_XTy"
      },
      "source": [
        "#### Copy Values from One Column to Another Column                  \n",
        "    * 'RMSOccurrenceDate' --> 'Occurrence Date'\n",
        "    * 'RMSOccurrenceHour' --> 'Occurrence Hour'\n",
        "    * 'NIBRSClass' --> 'NIBRS Class'\n",
        "    * 'OffenseCount' --> 'Offense Count'\n",
        "    * 'ZIPCode' --> 'ZIP Code'\n",
        "    * 'StreetType' --> 'Street Type'"
      ]
    },
    {
      "cell_type": "code",
      "execution_count": null,
      "metadata": {
        "id": "qtsS2YdU_XTy"
      },
      "outputs": [],
      "source": [
        "# Copy values in 'RMSOccurrenceDate' to 'Occurrence Date'\n",
        "idx = df_jan2019_jul2023['Occurrence Date'].isnull() & ~df_jan2019_jul2023['RMSOccurrenceDate'].isnull()\n",
        "df_jan2019_jul2023['Occurrence Date'] = [df_jan2019_jul2023['RMSOccurrenceDate'][i] if idx[i] else df_jan2019_jul2023['Occurrence Date'][i] for i in range(len(df_jan2019_jul2023))]"
      ]
    },
    {
      "cell_type": "code",
      "execution_count": null,
      "metadata": {
        "id": "-3aA0x3G_XTy"
      },
      "outputs": [],
      "source": [
        "# Copy values in 'RMSOccurrenceHour' to 'Occurrence Hour'\n",
        "idx = df_jan2019_jul2023['Occurrence Hour'].isnull() & ~df_jan2019_jul2023['RMSOccurrenceHour'].isnull()\n",
        "df_jan2019_jul2023['Occurrence Hour'] = [df_jan2019_jul2023['RMSOccurrenceHour'][i] if idx[i] else df_jan2019_jul2023['Occurrence Hour'][i] for i in range(len(df_jan2019_jul2023))]"
      ]
    },
    {
      "cell_type": "code",
      "execution_count": null,
      "metadata": {
        "id": "hHmVpOvr_XTy"
      },
      "outputs": [],
      "source": [
        "# Copy values in 'NIBRSClass' to 'NIBRS Class'\n",
        "idx = df_jan2019_jul2023['NIBRS Class'].isnull() & ~df_jan2019_jul2023['NIBRSClass'].isnull()\n",
        "df_jan2019_jul2023['NIBRS Class'] = [df_jan2019_jul2023['NIBRSClass'][i] if idx[i] else df_jan2019_jul2023['NIBRS Class'][i] for i in range(len(df_jan2019_jul2023))]"
      ]
    },
    {
      "cell_type": "code",
      "execution_count": null,
      "metadata": {
        "id": "cpK_krQE_XTy"
      },
      "outputs": [],
      "source": [
        "# Copy values in 'OffenseCount' to 'Offense Count'\n",
        "idx = df_jan2019_jul2023['Offense Count'].isnull() & ~df_jan2019_jul2023['OffenseCount'].isnull()\n",
        "df_jan2019_jul2023['Offense Count'] = [df_jan2019_jul2023['OffenseCount'][i] if idx[i] else df_jan2019_jul2023['Offense Count'][i] for i in range(len(df_jan2019_jul2023))]"
      ]
    },
    {
      "cell_type": "code",
      "execution_count": null,
      "metadata": {
        "id": "mZXEr7Nz_XTy"
      },
      "outputs": [],
      "source": [
        "# Copy values in 'ZIPCode' to 'ZIP Code'\n",
        "idx = df_jan2019_jul2023['ZIP Code'].isnull() & ~df_jan2019_jul2023['ZIPCode'].isnull()\n",
        "df_jan2019_jul2023['ZIP Code'] = [df_jan2019_jul2023['ZIPCode'][i] if idx[i] else df_jan2019_jul2023['ZIP Code'][i] for i in range(len(df_jan2019_jul2023))]"
      ]
    },
    {
      "cell_type": "code",
      "execution_count": null,
      "metadata": {
        "id": "IvD2x95z_XTz"
      },
      "outputs": [],
      "source": [
        "# Copy values in 'StreetType' to 'Street Type'\n",
        "idx = df_jan2019_jul2023['Street Type'].isnull() & ~df_jan2019_jul2023['StreetType'].isnull()\n",
        "df_jan2019_jul2023['Street Type'] = [df_jan2019_jul2023['StreetType'][i] if idx[i] else df_jan2019_jul2023['Street Type'][i] for i in range(len(df_jan2019_jul2023))]"
      ]
    },
    {
      "cell_type": "code",
      "execution_count": null,
      "metadata": {
        "id": "q84Aic4e_XTz",
        "outputId": "dfe1126d-c321-490e-b232-d8be33225258"
      },
      "outputs": [
        {
          "data": {
            "text/html": [
              "<div>\n",
              "<style scoped>\n",
              "    .dataframe tbody tr th:only-of-type {\n",
              "        vertical-align: middle;\n",
              "    }\n",
              "\n",
              "    .dataframe tbody tr th {\n",
              "        vertical-align: top;\n",
              "    }\n",
              "\n",
              "    .dataframe thead th {\n",
              "        text-align: right;\n",
              "    }\n",
              "</style>\n",
              "<table border=\"1\" class=\"dataframe\">\n",
              "  <thead>\n",
              "    <tr style=\"text-align: right;\">\n",
              "      <th></th>\n",
              "      <th>Incident</th>\n",
              "      <th>Occurrence Date</th>\n",
              "      <th>Occurrence Hour</th>\n",
              "      <th>NIBRS Class</th>\n",
              "      <th>NIBRS Description</th>\n",
              "      <th>Offense Count</th>\n",
              "      <th>Beat</th>\n",
              "      <th>Premise</th>\n",
              "      <th>Block Range</th>\n",
              "      <th>Street Name</th>\n",
              "      <th>...</th>\n",
              "      <th>ZIP Code</th>\n",
              "      <th>RMSOccurrenceDate</th>\n",
              "      <th>RMSOccurrenceHour</th>\n",
              "      <th>NIBRSClass</th>\n",
              "      <th>OffenseCount</th>\n",
              "      <th>Street No</th>\n",
              "      <th>StreetType</th>\n",
              "      <th>ZIPCode</th>\n",
              "      <th>MapLongitude</th>\n",
              "      <th>MapLatitude</th>\n",
              "    </tr>\n",
              "  </thead>\n",
              "  <tbody>\n",
              "    <tr>\n",
              "      <th>0</th>\n",
              "      <td>5619</td>\n",
              "      <td>2019-01-01</td>\n",
              "      <td>0.0</td>\n",
              "      <td>290</td>\n",
              "      <td>Destruction, damage, vandalism</td>\n",
              "      <td>1.0</td>\n",
              "      <td>9C30</td>\n",
              "      <td>Residence, Home (Includes Apartment)</td>\n",
              "      <td>9622</td>\n",
              "      <td>SAN CARLOS</td>\n",
              "      <td>...</td>\n",
              "      <td>77013</td>\n",
              "      <td>NaN</td>\n",
              "      <td>NaN</td>\n",
              "      <td>NaN</td>\n",
              "      <td>NaN</td>\n",
              "      <td>NaN</td>\n",
              "      <td>NaN</td>\n",
              "      <td>NaN</td>\n",
              "      <td>NaN</td>\n",
              "      <td>NaN</td>\n",
              "    </tr>\n",
              "    <tr>\n",
              "      <th>1</th>\n",
              "      <td>17319</td>\n",
              "      <td>2019-01-01</td>\n",
              "      <td>0.0</td>\n",
              "      <td>35A</td>\n",
              "      <td>Drug, narcotic violations</td>\n",
              "      <td>1.0</td>\n",
              "      <td>7C10</td>\n",
              "      <td>Highway, Road, Street, Alley</td>\n",
              "      <td>NaN</td>\n",
              "      <td>EAST</td>\n",
              "      <td>...</td>\n",
              "      <td>77020</td>\n",
              "      <td>NaN</td>\n",
              "      <td>NaN</td>\n",
              "      <td>NaN</td>\n",
              "      <td>NaN</td>\n",
              "      <td>NaN</td>\n",
              "      <td>NaN</td>\n",
              "      <td>NaN</td>\n",
              "      <td>NaN</td>\n",
              "      <td>NaN</td>\n",
              "    </tr>\n",
              "    <tr>\n",
              "      <th>2</th>\n",
              "      <td>18119</td>\n",
              "      <td>2019-01-01</td>\n",
              "      <td>0.0</td>\n",
              "      <td>290</td>\n",
              "      <td>Destruction, damage, vandalism</td>\n",
              "      <td>1.0</td>\n",
              "      <td>16E40</td>\n",
              "      <td>Residence, Home (Includes Apartment)</td>\n",
              "      <td>16718</td>\n",
              "      <td>LONE QUAIL</td>\n",
              "      <td>...</td>\n",
              "      <td>77489</td>\n",
              "      <td>NaN</td>\n",
              "      <td>NaN</td>\n",
              "      <td>NaN</td>\n",
              "      <td>NaN</td>\n",
              "      <td>NaN</td>\n",
              "      <td>NaN</td>\n",
              "      <td>NaN</td>\n",
              "      <td>NaN</td>\n",
              "      <td>NaN</td>\n",
              "    </tr>\n",
              "    <tr>\n",
              "      <th>3</th>\n",
              "      <td>19019</td>\n",
              "      <td>2019-01-01</td>\n",
              "      <td>0.0</td>\n",
              "      <td>520</td>\n",
              "      <td>Weapon law violations</td>\n",
              "      <td>1.0</td>\n",
              "      <td>NaN</td>\n",
              "      <td>Residence, Home (Includes Apartment)</td>\n",
              "      <td>1909</td>\n",
              "      <td>MELBOURNE</td>\n",
              "      <td>...</td>\n",
              "      <td>77026-0000</td>\n",
              "      <td>NaN</td>\n",
              "      <td>NaN</td>\n",
              "      <td>NaN</td>\n",
              "      <td>NaN</td>\n",
              "      <td>NaN</td>\n",
              "      <td>NaN</td>\n",
              "      <td>NaN</td>\n",
              "      <td>NaN</td>\n",
              "      <td>NaN</td>\n",
              "    </tr>\n",
              "    <tr>\n",
              "      <th>4</th>\n",
              "      <td>20519</td>\n",
              "      <td>2019-01-01</td>\n",
              "      <td>0.0</td>\n",
              "      <td>13A</td>\n",
              "      <td>Aggravated Assault</td>\n",
              "      <td>1.0</td>\n",
              "      <td>15E30</td>\n",
              "      <td>Residence, Home (Includes Apartment)</td>\n",
              "      <td>4034</td>\n",
              "      <td>OSBY</td>\n",
              "      <td>...</td>\n",
              "      <td>77025</td>\n",
              "      <td>NaN</td>\n",
              "      <td>NaN</td>\n",
              "      <td>NaN</td>\n",
              "      <td>NaN</td>\n",
              "      <td>NaN</td>\n",
              "      <td>NaN</td>\n",
              "      <td>NaN</td>\n",
              "      <td>NaN</td>\n",
              "      <td>NaN</td>\n",
              "    </tr>\n",
              "  </tbody>\n",
              "</table>\n",
              "<p>5 rows × 23 columns</p>\n",
              "</div>"
            ],
            "text/plain": [
              "   Incident Occurrence Date  Occurrence Hour NIBRS Class  \\\n",
              "0      5619      2019-01-01              0.0         290   \n",
              "1     17319      2019-01-01              0.0         35A   \n",
              "2     18119      2019-01-01              0.0         290   \n",
              "3     19019      2019-01-01              0.0         520   \n",
              "4     20519      2019-01-01              0.0         13A   \n",
              "\n",
              "                NIBRS Description  Offense Count   Beat  \\\n",
              "0  Destruction, damage, vandalism            1.0   9C30   \n",
              "1       Drug, narcotic violations            1.0   7C10   \n",
              "2  Destruction, damage, vandalism            1.0  16E40   \n",
              "3           Weapon law violations            1.0    NaN   \n",
              "4              Aggravated Assault            1.0  15E30   \n",
              "\n",
              "                                Premise Block Range Street Name  ...  \\\n",
              "0  Residence, Home (Includes Apartment)        9622  SAN CARLOS  ...   \n",
              "1          Highway, Road, Street, Alley         NaN        EAST  ...   \n",
              "2  Residence, Home (Includes Apartment)       16718  LONE QUAIL  ...   \n",
              "3  Residence, Home (Includes Apartment)        1909   MELBOURNE  ...   \n",
              "4  Residence, Home (Includes Apartment)        4034        OSBY  ...   \n",
              "\n",
              "     ZIP Code RMSOccurrenceDate RMSOccurrenceHour NIBRSClass OffenseCount  \\\n",
              "0       77013               NaN               NaN        NaN          NaN   \n",
              "1       77020               NaN               NaN        NaN          NaN   \n",
              "2       77489               NaN               NaN        NaN          NaN   \n",
              "3  77026-0000               NaN               NaN        NaN          NaN   \n",
              "4       77025               NaN               NaN        NaN          NaN   \n",
              "\n",
              "   Street No StreetType  ZIPCode MapLongitude MapLatitude  \n",
              "0        NaN        NaN      NaN          NaN         NaN  \n",
              "1        NaN        NaN      NaN          NaN         NaN  \n",
              "2        NaN        NaN      NaN          NaN         NaN  \n",
              "3        NaN        NaN      NaN          NaN         NaN  \n",
              "4        NaN        NaN      NaN          NaN         NaN  \n",
              "\n",
              "[5 rows x 23 columns]"
            ]
          },
          "execution_count": 52,
          "metadata": {},
          "output_type": "execute_result"
        }
      ],
      "source": [
        "# Check df\n",
        "df_jan2019_jul2023.head()"
      ]
    },
    {
      "cell_type": "code",
      "execution_count": null,
      "metadata": {
        "id": "axk9rlIM_XTz",
        "outputId": "2842449a-1276-466c-dec9-859807d44b7e"
      },
      "outputs": [
        {
          "name": "stdout",
          "output_type": "stream",
          "text": [
            "<class 'pandas.core.frame.DataFrame'>\n",
            "RangeIndex: 1111335 entries, 0 to 1111334\n",
            "Data columns (total 23 columns):\n",
            " #   Column             Non-Null Count    Dtype  \n",
            "---  ------             --------------    -----  \n",
            " 0   Incident           1111335 non-null  int64  \n",
            " 1   Occurrence Date    1111335 non-null  object \n",
            " 2   Occurrence Hour    1111335 non-null  float64\n",
            " 3   NIBRS Class        1111335 non-null  object \n",
            " 4   NIBRS Description  1111335 non-null  object \n",
            " 5   Offense Count      1111335 non-null  float64\n",
            " 6   Beat               1110550 non-null  object \n",
            " 7   Premise            1111334 non-null  object \n",
            " 8   Block Range        465475 non-null   object \n",
            " 9   Street Name        1111335 non-null  object \n",
            " 10  Street Type        1025784 non-null  object \n",
            " 11  Suffix             162878 non-null   object \n",
            " 12  City               1111335 non-null  object \n",
            " 13  ZIP Code           1097813 non-null  object \n",
            " 14  RMSOccurrenceDate  644390 non-null   object \n",
            " 15  RMSOccurrenceHour  644390 non-null   float64\n",
            " 16  NIBRSClass         644390 non-null   object \n",
            " 17  OffenseCount       644390 non-null   float64\n",
            " 18  Street No          642415 non-null   object \n",
            " 19  StreetType         595982 non-null   object \n",
            " 20  ZIPCode            636335 non-null   object \n",
            " 21  MapLongitude       392147 non-null   float64\n",
            " 22  MapLatitude        392147 non-null   float64\n",
            "dtypes: float64(6), int64(1), object(16)\n",
            "memory usage: 195.0+ MB\n"
          ]
        }
      ],
      "source": [
        "# Check df_jan2010_may2018\n",
        "df_jan2019_jul2023.info()"
      ]
    },
    {
      "cell_type": "markdown",
      "metadata": {
        "id": "TZHRLHzo_XTz"
      },
      "source": [
        "#### Remove Duplicates and Drop Unnecesarry Columns\n",
        "    * 'RMSOccurrenceDate', 'RMSOccurrenceHour', 'NIBRSClass', 'OffenseCount', 'StreetType', 'ZIPCode'"
      ]
    },
    {
      "cell_type": "code",
      "execution_count": null,
      "metadata": {
        "id": "NWTR5iOL_XT0",
        "outputId": "07be3616-6204-4410-f148-80c6ffb24fb4"
      },
      "outputs": [
        {
          "name": "stdout",
          "output_type": "stream",
          "text": [
            "df_jan2019_jul2023 contains 0 duplicates\n"
          ]
        },
        {
          "data": {
            "text/html": [
              "<div>\n",
              "<style scoped>\n",
              "    .dataframe tbody tr th:only-of-type {\n",
              "        vertical-align: middle;\n",
              "    }\n",
              "\n",
              "    .dataframe tbody tr th {\n",
              "        vertical-align: top;\n",
              "    }\n",
              "\n",
              "    .dataframe thead th {\n",
              "        text-align: right;\n",
              "    }\n",
              "</style>\n",
              "<table border=\"1\" class=\"dataframe\">\n",
              "  <thead>\n",
              "    <tr style=\"text-align: right;\">\n",
              "      <th></th>\n",
              "      <th>Incident</th>\n",
              "      <th>Occurrence Date</th>\n",
              "      <th>Occurrence Hour</th>\n",
              "      <th>NIBRS Class</th>\n",
              "      <th>NIBRS Description</th>\n",
              "      <th>Offense Count</th>\n",
              "      <th>Beat</th>\n",
              "      <th>Premise</th>\n",
              "      <th>Block Range</th>\n",
              "      <th>Street Name</th>\n",
              "      <th>...</th>\n",
              "      <th>ZIP Code</th>\n",
              "      <th>RMSOccurrenceDate</th>\n",
              "      <th>RMSOccurrenceHour</th>\n",
              "      <th>NIBRSClass</th>\n",
              "      <th>OffenseCount</th>\n",
              "      <th>Street No</th>\n",
              "      <th>StreetType</th>\n",
              "      <th>ZIPCode</th>\n",
              "      <th>MapLongitude</th>\n",
              "      <th>MapLatitude</th>\n",
              "    </tr>\n",
              "  </thead>\n",
              "  <tbody>\n",
              "  </tbody>\n",
              "</table>\n",
              "<p>0 rows × 23 columns</p>\n",
              "</div>"
            ],
            "text/plain": [
              "Empty DataFrame\n",
              "Columns: [Incident, Occurrence Date, Occurrence Hour, NIBRS Class, NIBRS Description, Offense Count, Beat, Premise, Block Range, Street Name, Street Type, Suffix, City, ZIP Code, RMSOccurrenceDate, RMSOccurrenceHour, NIBRSClass, OffenseCount, Street No, StreetType, ZIPCode, MapLongitude, MapLatitude]\n",
              "Index: []\n",
              "\n",
              "[0 rows x 23 columns]"
            ]
          },
          "execution_count": 54,
          "metadata": {},
          "output_type": "execute_result"
        }
      ],
      "source": [
        "# Check duplicates\n",
        "print(f\"df_jan2019_jul2023 contains {df_jan2019_jul2023.duplicated().sum()} duplicates\")\n",
        "# Check all cuplicates\n",
        "duplicates = df_jan2019_jul2023.duplicated(keep=False)\n",
        "df_jan2019_jul2023[duplicates].sort_values('Occurrence Date')"
      ]
    },
    {
      "cell_type": "code",
      "execution_count": null,
      "metadata": {
        "id": "g9kHuYrw_XT0",
        "outputId": "f8155f41-7b8f-4fa9-e244-c37763e8da4d"
      },
      "outputs": [
        {
          "data": {
            "text/plain": [
              "Index(['Incident', 'Occurrence Date', 'Occurrence Hour', 'NIBRS Class',\n",
              "       'NIBRS Description', 'Offense Count', 'Beat', 'Premise', 'Block Range',\n",
              "       'Street Name', 'Street Type', 'Suffix', 'City', 'ZIP Code',\n",
              "       'RMSOccurrenceDate', 'RMSOccurrenceHour', 'NIBRSClass', 'OffenseCount',\n",
              "       'Street No', 'StreetType', 'ZIPCode', 'MapLongitude', 'MapLatitude'],\n",
              "      dtype='object')"
            ]
          },
          "execution_count": 55,
          "metadata": {},
          "output_type": "execute_result"
        }
      ],
      "source": [
        "df_jan2019_jul2023.columns"
      ]
    },
    {
      "cell_type": "code",
      "execution_count": null,
      "metadata": {
        "id": "U5TjFtj0_XT0"
      },
      "outputs": [],
      "source": [
        "# Drop 'RMSOccurrenceDate', 'RMSOccurrenceHour', 'NIBRSClass', 'OffenseCount', 'StreetType', 'ZIPCode'\n",
        "drop_cols = ['RMSOccurrenceDate', 'RMSOccurrenceHour', 'NIBRSClass', 'OffenseCount', 'StreetType', 'ZIPCode']\n",
        "cleaned_df_jan2019_jul2023 = df_jan2019_jul2023.drop(drop_cols, axis=1)"
      ]
    },
    {
      "cell_type": "code",
      "execution_count": null,
      "metadata": {
        "id": "EPpZdBC2_XT0"
      },
      "outputs": [],
      "source": [
        "# # Filter Houston Datapoints\n",
        "# cleaned_df_jan2019_jul2023 = cleaned_df_jan2019_jul2023[cleaned_df_jan2019_jul2023['City'] == 'HOUSTON']"
      ]
    },
    {
      "cell_type": "code",
      "execution_count": null,
      "metadata": {
        "id": "sTP-YUYI_XT0"
      },
      "outputs": [],
      "source": [
        "# # Drop 'City'\n",
        "# cleaned_df_jan2019_jul2023.drop('City', axis=1, inplace=True)"
      ]
    },
    {
      "cell_type": "code",
      "execution_count": null,
      "metadata": {
        "id": "R_CwzG6W_XT0",
        "outputId": "4569c740-547c-440e-fd29-7b5f665705ce"
      },
      "outputs": [
        {
          "name": "stdout",
          "output_type": "stream",
          "text": [
            "Start Date: 2019-01-01\n",
            "End Date: 2023-07-31\n"
          ]
        }
      ],
      "source": [
        "# Check the date range\n",
        "print(f\"Start Date: {cleaned_df_jan2019_jul2023['Occurrence Date'].min()}\")\n",
        "print(f\"End Date: {cleaned_df_jan2019_jul2023['Occurrence Date'].max()}\")"
      ]
    },
    {
      "cell_type": "code",
      "execution_count": null,
      "metadata": {
        "id": "XMQ5O0wK_XT1",
        "outputId": "38f1ecc7-9de0-45b3-ce98-a697d507979d"
      },
      "outputs": [
        {
          "data": {
            "text/plain": [
              "(1111335, 17)"
            ]
          },
          "execution_count": 60,
          "metadata": {},
          "output_type": "execute_result"
        }
      ],
      "source": [
        "# Check shape\n",
        "cleaned_df_jan2019_jul2023.shape"
      ]
    },
    {
      "cell_type": "code",
      "execution_count": null,
      "metadata": {
        "id": "DgFB7-hk_XT1",
        "outputId": "1e365f66-e503-455e-db55-0b849c45c70c"
      },
      "outputs": [
        {
          "name": "stdout",
          "output_type": "stream",
          "text": [
            "<class 'pandas.core.frame.DataFrame'>\n",
            "RangeIndex: 1111335 entries, 0 to 1111334\n",
            "Data columns (total 17 columns):\n",
            " #   Column             Non-Null Count    Dtype  \n",
            "---  ------             --------------    -----  \n",
            " 0   Incident           1111335 non-null  int64  \n",
            " 1   Occurrence Date    1111335 non-null  object \n",
            " 2   Occurrence Hour    1111335 non-null  float64\n",
            " 3   NIBRS Class        1111335 non-null  object \n",
            " 4   NIBRS Description  1111335 non-null  object \n",
            " 5   Offense Count      1111335 non-null  float64\n",
            " 6   Beat               1110550 non-null  object \n",
            " 7   Premise            1111334 non-null  object \n",
            " 8   Block Range        465475 non-null   object \n",
            " 9   Street Name        1111335 non-null  object \n",
            " 10  Street Type        1025784 non-null  object \n",
            " 11  Suffix             162878 non-null   object \n",
            " 12  City               1111335 non-null  object \n",
            " 13  ZIP Code           1097813 non-null  object \n",
            " 14  Street No          642415 non-null   object \n",
            " 15  MapLongitude       392147 non-null   float64\n",
            " 16  MapLatitude        392147 non-null   float64\n",
            "dtypes: float64(4), int64(1), object(12)\n",
            "memory usage: 144.1+ MB\n"
          ]
        }
      ],
      "source": [
        "cleaned_df_jan2019_jul2023.info()"
      ]
    },
    {
      "cell_type": "code",
      "execution_count": null,
      "metadata": {
        "id": "gDfNgXZe_XT1",
        "outputId": "d6de0863-410d-49d8-9eac-ba4293f02641"
      },
      "outputs": [
        {
          "data": {
            "text/html": [
              "<div>\n",
              "<style scoped>\n",
              "    .dataframe tbody tr th:only-of-type {\n",
              "        vertical-align: middle;\n",
              "    }\n",
              "\n",
              "    .dataframe tbody tr th {\n",
              "        vertical-align: top;\n",
              "    }\n",
              "\n",
              "    .dataframe thead th {\n",
              "        text-align: right;\n",
              "    }\n",
              "</style>\n",
              "<table border=\"1\" class=\"dataframe\">\n",
              "  <thead>\n",
              "    <tr style=\"text-align: right;\">\n",
              "      <th></th>\n",
              "      <th>Incident</th>\n",
              "      <th>Occurrence Date</th>\n",
              "      <th>Occurrence Hour</th>\n",
              "      <th>NIBRS Class</th>\n",
              "      <th>NIBRS Description</th>\n",
              "      <th>Offense Count</th>\n",
              "      <th>Beat</th>\n",
              "      <th>Premise</th>\n",
              "      <th>Block Range</th>\n",
              "      <th>Street Name</th>\n",
              "      <th>Street Type</th>\n",
              "      <th>Suffix</th>\n",
              "      <th>City</th>\n",
              "      <th>ZIP Code</th>\n",
              "      <th>Street No</th>\n",
              "      <th>MapLongitude</th>\n",
              "      <th>MapLatitude</th>\n",
              "    </tr>\n",
              "  </thead>\n",
              "  <tbody>\n",
              "    <tr>\n",
              "      <th>0</th>\n",
              "      <td>5619</td>\n",
              "      <td>2019-01-01</td>\n",
              "      <td>0.0</td>\n",
              "      <td>290</td>\n",
              "      <td>Destruction, damage, vandalism</td>\n",
              "      <td>1.0</td>\n",
              "      <td>9C30</td>\n",
              "      <td>Residence, Home (Includes Apartment)</td>\n",
              "      <td>9622</td>\n",
              "      <td>SAN CARLOS</td>\n",
              "      <td>NaN</td>\n",
              "      <td>NaN</td>\n",
              "      <td>HOUSTON</td>\n",
              "      <td>77013</td>\n",
              "      <td>NaN</td>\n",
              "      <td>NaN</td>\n",
              "      <td>NaN</td>\n",
              "    </tr>\n",
              "    <tr>\n",
              "      <th>1</th>\n",
              "      <td>17319</td>\n",
              "      <td>2019-01-01</td>\n",
              "      <td>0.0</td>\n",
              "      <td>35A</td>\n",
              "      <td>Drug, narcotic violations</td>\n",
              "      <td>1.0</td>\n",
              "      <td>7C10</td>\n",
              "      <td>Highway, Road, Street, Alley</td>\n",
              "      <td>NaN</td>\n",
              "      <td>EAST</td>\n",
              "      <td>FWY</td>\n",
              "      <td>NaN</td>\n",
              "      <td>HOUSTON</td>\n",
              "      <td>77020</td>\n",
              "      <td>NaN</td>\n",
              "      <td>NaN</td>\n",
              "      <td>NaN</td>\n",
              "    </tr>\n",
              "    <tr>\n",
              "      <th>2</th>\n",
              "      <td>18119</td>\n",
              "      <td>2019-01-01</td>\n",
              "      <td>0.0</td>\n",
              "      <td>290</td>\n",
              "      <td>Destruction, damage, vandalism</td>\n",
              "      <td>1.0</td>\n",
              "      <td>16E40</td>\n",
              "      <td>Residence, Home (Includes Apartment)</td>\n",
              "      <td>16718</td>\n",
              "      <td>LONE QUAIL</td>\n",
              "      <td>CT</td>\n",
              "      <td>NaN</td>\n",
              "      <td>HOUSTON</td>\n",
              "      <td>77489</td>\n",
              "      <td>NaN</td>\n",
              "      <td>NaN</td>\n",
              "      <td>NaN</td>\n",
              "    </tr>\n",
              "    <tr>\n",
              "      <th>3</th>\n",
              "      <td>19019</td>\n",
              "      <td>2019-01-01</td>\n",
              "      <td>0.0</td>\n",
              "      <td>520</td>\n",
              "      <td>Weapon law violations</td>\n",
              "      <td>1.0</td>\n",
              "      <td>NaN</td>\n",
              "      <td>Residence, Home (Includes Apartment)</td>\n",
              "      <td>1909</td>\n",
              "      <td>MELBOURNE</td>\n",
              "      <td>NaN</td>\n",
              "      <td>NaN</td>\n",
              "      <td>HOUSTON</td>\n",
              "      <td>77026-0000</td>\n",
              "      <td>NaN</td>\n",
              "      <td>NaN</td>\n",
              "      <td>NaN</td>\n",
              "    </tr>\n",
              "    <tr>\n",
              "      <th>4</th>\n",
              "      <td>20519</td>\n",
              "      <td>2019-01-01</td>\n",
              "      <td>0.0</td>\n",
              "      <td>13A</td>\n",
              "      <td>Aggravated Assault</td>\n",
              "      <td>1.0</td>\n",
              "      <td>15E30</td>\n",
              "      <td>Residence, Home (Includes Apartment)</td>\n",
              "      <td>4034</td>\n",
              "      <td>OSBY</td>\n",
              "      <td>DR</td>\n",
              "      <td>NaN</td>\n",
              "      <td>HOUSTON</td>\n",
              "      <td>77025</td>\n",
              "      <td>NaN</td>\n",
              "      <td>NaN</td>\n",
              "      <td>NaN</td>\n",
              "    </tr>\n",
              "  </tbody>\n",
              "</table>\n",
              "</div>"
            ],
            "text/plain": [
              "   Incident Occurrence Date  Occurrence Hour NIBRS Class  \\\n",
              "0      5619      2019-01-01              0.0         290   \n",
              "1     17319      2019-01-01              0.0         35A   \n",
              "2     18119      2019-01-01              0.0         290   \n",
              "3     19019      2019-01-01              0.0         520   \n",
              "4     20519      2019-01-01              0.0         13A   \n",
              "\n",
              "                NIBRS Description  Offense Count   Beat  \\\n",
              "0  Destruction, damage, vandalism            1.0   9C30   \n",
              "1       Drug, narcotic violations            1.0   7C10   \n",
              "2  Destruction, damage, vandalism            1.0  16E40   \n",
              "3           Weapon law violations            1.0    NaN   \n",
              "4              Aggravated Assault            1.0  15E30   \n",
              "\n",
              "                                Premise Block Range Street Name Street Type  \\\n",
              "0  Residence, Home (Includes Apartment)        9622  SAN CARLOS         NaN   \n",
              "1          Highway, Road, Street, Alley         NaN        EAST         FWY   \n",
              "2  Residence, Home (Includes Apartment)       16718  LONE QUAIL          CT   \n",
              "3  Residence, Home (Includes Apartment)        1909   MELBOURNE         NaN   \n",
              "4  Residence, Home (Includes Apartment)        4034        OSBY          DR   \n",
              "\n",
              "  Suffix     City    ZIP Code Street No  MapLongitude  MapLatitude  \n",
              "0    NaN  HOUSTON       77013       NaN           NaN          NaN  \n",
              "1    NaN  HOUSTON       77020       NaN           NaN          NaN  \n",
              "2    NaN  HOUSTON       77489       NaN           NaN          NaN  \n",
              "3    NaN  HOUSTON  77026-0000       NaN           NaN          NaN  \n",
              "4    NaN  HOUSTON       77025       NaN           NaN          NaN  "
            ]
          },
          "execution_count": 62,
          "metadata": {},
          "output_type": "execute_result"
        }
      ],
      "source": [
        "cleaned_df_jan2019_jul2023.head()"
      ]
    },
    {
      "cell_type": "markdown",
      "metadata": {
        "id": "3tsh84z3_XT1"
      },
      "source": [
        "#### Check Null"
      ]
    },
    {
      "cell_type": "code",
      "execution_count": null,
      "metadata": {
        "id": "zfUZX6O0_XT2",
        "outputId": "0cef0edb-ca52-4be7-b545-e547babf2690"
      },
      "outputs": [
        {
          "data": {
            "text/plain": [
              "Incident                  0\n",
              "Occurrence Date           0\n",
              "Occurrence Hour           0\n",
              "NIBRS Class               0\n",
              "NIBRS Description         0\n",
              "Offense Count             0\n",
              "Beat                    785\n",
              "Premise                   1\n",
              "Block Range          645860\n",
              "Street Name               0\n",
              "Street Type           85551\n",
              "Suffix               948457\n",
              "City                      0\n",
              "ZIP Code              13522\n",
              "Street No            468920\n",
              "MapLongitude         719188\n",
              "MapLatitude          719188\n",
              "dtype: int64"
            ]
          },
          "execution_count": 63,
          "metadata": {},
          "output_type": "execute_result"
        }
      ],
      "source": [
        "cleaned_df_jan2019_jul2023.isnull().sum()"
      ]
    },
    {
      "cell_type": "code",
      "execution_count": null,
      "metadata": {
        "id": "FWNr_ttE_XT2",
        "outputId": "92028762-7fa3-4a28-8f82-d6b2a906f05c"
      },
      "outputs": [
        {
          "data": {
            "text/plain": [
              "Index(['Incident', 'Occurrence Date', 'Occurrence Hour', 'NIBRS Class',\n",
              "       'NIBRS Description', 'Offense Count', 'Beat', 'Premise', 'Block Range',\n",
              "       'Street Name', 'Street Type', 'Suffix', 'City', 'ZIP Code', 'Street No',\n",
              "       'MapLongitude', 'MapLatitude'],\n",
              "      dtype='object')"
            ]
          },
          "execution_count": 64,
          "metadata": {},
          "output_type": "execute_result"
        }
      ],
      "source": [
        "cleaned_df_jan2019_jul2023.columns"
      ]
    },
    {
      "cell_type": "markdown",
      "metadata": {
        "id": "InGl8aJE_XT2"
      },
      "source": [
        "#### Save cleaned_df_jan2019_jul2023 to cleaned_jan2019_jul2023.csv"
      ]
    },
    {
      "cell_type": "code",
      "execution_count": null,
      "metadata": {
        "id": "PlipYy33_XT2"
      },
      "outputs": [],
      "source": [
        "# Save cleaned_df_jan2019_jul2023 to cleaned_jan2019_jul2023.csv\n",
        "cleaned_df_jan2019_jul2023.to_csv('data/cleaned_jan2019_jul2023.csv', index=False)"
      ]
    },
    {
      "cell_type": "markdown",
      "metadata": {
        "id": "nwpLn_ia_XT2"
      },
      "source": [
        "## **Verify Dataframes**"
      ]
    },
    {
      "cell_type": "code",
      "execution_count": null,
      "metadata": {
        "id": "RJ4natiU_XT2"
      },
      "outputs": [],
      "source": [
        "# Import cleaned_jan2010_may2018.csv', cleaned_jun2018_dec2018.csv', and cleaned_jan2019_jul2023.csv\n",
        "df1 = pd.read_csv('data/cleaned_jan2010_may2018.csv', parse_dates=['Occurrence Date'], dtype={'Beat': str, 'Offense Count': float})\n",
        "df2 = pd.read_csv('data/cleaned_jun2018_dec2018.csv', parse_dates=['Occurrence Date'], dtype={'Beat': str, 'Offense Count': float})\n",
        "df3 = pd.read_csv('data/cleaned_jan2019_jul2023.csv', parse_dates=['Occurrence Date'], dtype={'Beat': str, 'ZIP Code': str, 'Offense Count': float})"
      ]
    },
    {
      "cell_type": "code",
      "execution_count": null,
      "metadata": {
        "id": "2mf1pFLl_XT2",
        "outputId": "fe4bab11-dabc-4ac0-deb0-97b95587bc11"
      },
      "outputs": [
        {
          "data": {
            "text/html": [
              "<div>\n",
              "<style scoped>\n",
              "    .dataframe tbody tr th:only-of-type {\n",
              "        vertical-align: middle;\n",
              "    }\n",
              "\n",
              "    .dataframe tbody tr th {\n",
              "        vertical-align: top;\n",
              "    }\n",
              "\n",
              "    .dataframe thead th {\n",
              "        text-align: right;\n",
              "    }\n",
              "</style>\n",
              "<table border=\"1\" class=\"dataframe\">\n",
              "  <thead>\n",
              "    <tr style=\"text-align: right;\">\n",
              "      <th></th>\n",
              "      <th>Occurrence Date</th>\n",
              "      <th>Occurrence Hour</th>\n",
              "      <th>NIBRS Description</th>\n",
              "      <th>Offense Count</th>\n",
              "      <th>Beat</th>\n",
              "      <th>Premise</th>\n",
              "      <th>Block Range</th>\n",
              "      <th>Street Name</th>\n",
              "      <th>Street Type</th>\n",
              "      <th>Suffix</th>\n",
              "    </tr>\n",
              "  </thead>\n",
              "  <tbody>\n",
              "  </tbody>\n",
              "</table>\n",
              "</div>"
            ],
            "text/plain": [
              "Empty DataFrame\n",
              "Columns: [Occurrence Date, Occurrence Hour, NIBRS Description, Offense Count, Beat, Premise, Block Range, Street Name, Street Type, Suffix]\n",
              "Index: []"
            ]
          },
          "execution_count": 95,
          "metadata": {},
          "output_type": "execute_result"
        }
      ],
      "source": [
        "df1.sort_values('Occurrence Date').head()\n",
        "df1[df1['Occurrence Date'] == '1966-01-01']"
      ]
    },
    {
      "cell_type": "code",
      "execution_count": null,
      "metadata": {
        "id": "4tcxB_7V_XT3",
        "outputId": "0edb838b-f0de-489f-8fb3-a20cad39cf62"
      },
      "outputs": [
        {
          "name": "stdout",
          "output_type": "stream",
          "text": [
            "1050760 145055 1111335 2307150\n"
          ]
        }
      ],
      "source": [
        "numdf1 = len(df1)\n",
        "numdf2 = len(df2)\n",
        "numdf3 = len(df3)\n",
        "\n",
        "print(numdf1, numdf2, numdf3, numdf1+numdf2+numdf3)"
      ]
    },
    {
      "cell_type": "code",
      "execution_count": null,
      "metadata": {
        "id": "LWoNT5Gh_XT3"
      },
      "outputs": [],
      "source": []
    },
    {
      "cell_type": "code",
      "execution_count": null,
      "metadata": {
        "id": "CikOrzFS_XT3"
      },
      "outputs": [],
      "source": []
    },
    {
      "cell_type": "code",
      "execution_count": null,
      "metadata": {
        "id": "nOV5jkHr_XT3"
      },
      "outputs": [],
      "source": []
    },
    {
      "cell_type": "markdown",
      "metadata": {
        "id": "GWeXJNBZ_XT3"
      },
      "source": [
        "## **Save Dataframe to Pickle**"
      ]
    },
    {
      "cell_type": "code",
      "execution_count": null,
      "metadata": {
        "id": "7ZauJPlQ_XT3"
      },
      "outputs": [],
      "source": [
        "# Save dataframes in pickle format\n",
        "cleaned_df_jan2010_may2018.to_pickle('data/cleaned_jan2010_may2018.pkl')\n",
        "cleaned_df_jun2018_dec2018.to_pickle('data/cleaned_jun2018_dec2018.pkl')\n",
        "cleaned_df_jan2019_jul2023.to_pickle('data/cleaned_jan2019_jul2023.pkl')"
      ]
    },
    {
      "cell_type": "markdown",
      "metadata": {
        "id": "ACnFDwKY_XT3"
      },
      "source": [
        "## **Read Pickle Files**"
      ]
    },
    {
      "cell_type": "code",
      "execution_count": null,
      "metadata": {
        "id": "ITIhPRpG_XT3"
      },
      "outputs": [],
      "source": [
        "# with open('data/cleaned_jan2010_may2018.pkl', 'rb') as f:\n",
        "#   cleaned_df_jan2010_may2018 = pickle.load(f)\n",
        "\n",
        "# with open('data/cleaned_jun2018_dec2018.pkl', 'rb') as f:\n",
        "#   cleaned_df_jun2018_dec2018 = pickle.load(f)\n",
        "\n",
        "# with open('data/cleaned_jan2019_jul2023.pkl', 'rb') as f:\n",
        "#   cleaned_df_jan2019_jul2023 = pickle.load(f)"
      ]
    },
    {
      "cell_type": "code",
      "execution_count": null,
      "metadata": {
        "id": "Kt8bqi8y_XT3",
        "outputId": "0902e90e-b1b9-49db-cdff-4cfdfa3a660d"
      },
      "outputs": [
        {
          "data": {
            "text/plain": [
              "(1050760, 10)"
            ]
          },
          "execution_count": 71,
          "metadata": {},
          "output_type": "execute_result"
        }
      ],
      "source": [
        "cleaned_df_jan2010_may2018.shape"
      ]
    },
    {
      "cell_type": "code",
      "execution_count": null,
      "metadata": {
        "id": "RxHjhbmK_XT4",
        "outputId": "68a1c6f4-ff6a-4de7-b845-1305d14666f5"
      },
      "outputs": [
        {
          "data": {
            "text/html": [
              "<div>\n",
              "<style scoped>\n",
              "    .dataframe tbody tr th:only-of-type {\n",
              "        vertical-align: middle;\n",
              "    }\n",
              "\n",
              "    .dataframe tbody tr th {\n",
              "        vertical-align: top;\n",
              "    }\n",
              "\n",
              "    .dataframe thead th {\n",
              "        text-align: right;\n",
              "    }\n",
              "</style>\n",
              "<table border=\"1\" class=\"dataframe\">\n",
              "  <thead>\n",
              "    <tr style=\"text-align: right;\">\n",
              "      <th></th>\n",
              "      <th>Occurrence Date</th>\n",
              "      <th>Occurrence Hour</th>\n",
              "      <th>NIBRS Description</th>\n",
              "      <th>Offense Count</th>\n",
              "      <th>Beat</th>\n",
              "      <th>Premise</th>\n",
              "      <th>Block Range</th>\n",
              "      <th>Street Name</th>\n",
              "      <th>Street Type</th>\n",
              "      <th>Suffix</th>\n",
              "    </tr>\n",
              "  </thead>\n",
              "  <tbody>\n",
              "    <tr>\n",
              "      <th>387594</th>\n",
              "      <td>2010-01-01</td>\n",
              "      <td>8</td>\n",
              "      <td>Theft</td>\n",
              "      <td>1.0</td>\n",
              "      <td>3B10</td>\n",
              "      <td>20R</td>\n",
              "      <td>4900-4999</td>\n",
              "      <td>POINCIANA</td>\n",
              "      <td>DR</td>\n",
              "      <td>-</td>\n",
              "    </tr>\n",
              "    <tr>\n",
              "      <th>383540</th>\n",
              "      <td>2010-01-01</td>\n",
              "      <td>18</td>\n",
              "      <td>Theft</td>\n",
              "      <td>1.0</td>\n",
              "      <td>5F20</td>\n",
              "      <td>20D</td>\n",
              "      <td>8700-8799</td>\n",
              "      <td>HAMMERLY</td>\n",
              "      <td>-</td>\n",
              "      <td>-</td>\n",
              "    </tr>\n",
              "    <tr>\n",
              "      <th>563390</th>\n",
              "      <td>2010-01-01</td>\n",
              "      <td>0</td>\n",
              "      <td>Burglary</td>\n",
              "      <td>1.0</td>\n",
              "      <td>1A10</td>\n",
              "      <td>05O</td>\n",
              "      <td>400-499</td>\n",
              "      <td>MAIN</td>\n",
              "      <td>ST</td>\n",
              "      <td>-</td>\n",
              "    </tr>\n",
              "    <tr>\n",
              "      <th>387303</th>\n",
              "      <td>2010-01-01</td>\n",
              "      <td>0</td>\n",
              "      <td>Theft</td>\n",
              "      <td>1.0</td>\n",
              "      <td>7C10</td>\n",
              "      <td>20R</td>\n",
              "      <td>1900-1999</td>\n",
              "      <td>LOCKWOOD</td>\n",
              "      <td>DR</td>\n",
              "      <td>-</td>\n",
              "    </tr>\n",
              "    <tr>\n",
              "      <th>303450</th>\n",
              "      <td>2010-01-01</td>\n",
              "      <td>10</td>\n",
              "      <td>Theft</td>\n",
              "      <td>1.0</td>\n",
              "      <td>18F20</td>\n",
              "      <td>18A</td>\n",
              "      <td>3300-3399</td>\n",
              "      <td>MCCUE</td>\n",
              "      <td>RD</td>\n",
              "      <td>-</td>\n",
              "    </tr>\n",
              "  </tbody>\n",
              "</table>\n",
              "</div>"
            ],
            "text/plain": [
              "       Occurrence Date Occurrence Hour NIBRS Description  Offense Count  \\\n",
              "387594      2010-01-01               8             Theft            1.0   \n",
              "383540      2010-01-01              18             Theft            1.0   \n",
              "563390      2010-01-01               0          Burglary            1.0   \n",
              "387303      2010-01-01               0             Theft            1.0   \n",
              "303450      2010-01-01              10             Theft            1.0   \n",
              "\n",
              "         Beat Premise Block Range Street Name Street Type Suffix  \n",
              "387594   3B10     20R   4900-4999   POINCIANA          DR      -  \n",
              "383540   5F20     20D   8700-8799    HAMMERLY           -      -  \n",
              "563390   1A10     05O     400-499        MAIN          ST      -  \n",
              "387303   7C10     20R   1900-1999    LOCKWOOD          DR      -  \n",
              "303450  18F20     18A   3300-3399       MCCUE          RD      -  "
            ]
          },
          "execution_count": 72,
          "metadata": {},
          "output_type": "execute_result"
        }
      ],
      "source": [
        "cleaned_df_jan2010_may2018.head()"
      ]
    },
    {
      "cell_type": "code",
      "execution_count": null,
      "metadata": {
        "id": "eG9WXdzL_XT4",
        "outputId": "f25ec343-3552-46db-92d6-8ce44fedae6f"
      },
      "outputs": [
        {
          "name": "stdout",
          "output_type": "stream",
          "text": [
            "<class 'pandas.core.frame.DataFrame'>\n",
            "Int64Index: 1050760 entries, 387594 to 831912\n",
            "Data columns (total 10 columns):\n",
            " #   Column             Non-Null Count    Dtype         \n",
            "---  ------             --------------    -----         \n",
            " 0   Occurrence Date    1050760 non-null  datetime64[ns]\n",
            " 1   Occurrence Hour    1050760 non-null  object        \n",
            " 2   NIBRS Description  1050760 non-null  object        \n",
            " 3   Offense Count      1040450 non-null  float64       \n",
            " 4   Beat               1050744 non-null  object        \n",
            " 5   Premise            1017228 non-null  object        \n",
            " 6   Block Range        1050604 non-null  object        \n",
            " 7   Street Name        1050759 non-null  object        \n",
            " 8   Street Type        1050760 non-null  object        \n",
            " 9   Suffix             1050760 non-null  object        \n",
            "dtypes: datetime64[ns](1), float64(1), object(8)\n",
            "memory usage: 88.2+ MB\n"
          ]
        }
      ],
      "source": [
        "cleaned_df_jan2010_may2018.info()"
      ]
    },
    {
      "cell_type": "code",
      "execution_count": null,
      "metadata": {
        "id": "61ZUyuDo_XT4",
        "outputId": "c50fd6f8-1342-4830-ae5a-96be8335c477"
      },
      "outputs": [
        {
          "data": {
            "text/plain": [
              "(145055, 10)"
            ]
          },
          "execution_count": 74,
          "metadata": {},
          "output_type": "execute_result"
        }
      ],
      "source": [
        "cleaned_df_jun2018_dec2018.shape"
      ]
    },
    {
      "cell_type": "code",
      "execution_count": null,
      "metadata": {
        "id": "AmvYnxd2_XT4",
        "outputId": "793974cb-3708-4a7b-f8f4-2c7d8bf404aa"
      },
      "outputs": [
        {
          "data": {
            "text/html": [
              "<div>\n",
              "<style scoped>\n",
              "    .dataframe tbody tr th:only-of-type {\n",
              "        vertical-align: middle;\n",
              "    }\n",
              "\n",
              "    .dataframe tbody tr th {\n",
              "        vertical-align: top;\n",
              "    }\n",
              "\n",
              "    .dataframe thead th {\n",
              "        text-align: right;\n",
              "    }\n",
              "</style>\n",
              "<table border=\"1\" class=\"dataframe\">\n",
              "  <thead>\n",
              "    <tr style=\"text-align: right;\">\n",
              "      <th></th>\n",
              "      <th>Occurrence Date</th>\n",
              "      <th>Occurrence Hour</th>\n",
              "      <th>NIBRS Description</th>\n",
              "      <th>Offense Count</th>\n",
              "      <th>Beat</th>\n",
              "      <th>Premise</th>\n",
              "      <th>Block Range</th>\n",
              "      <th>Street Name</th>\n",
              "      <th>Street Type</th>\n",
              "      <th>Suffix</th>\n",
              "    </tr>\n",
              "  </thead>\n",
              "  <tbody>\n",
              "    <tr>\n",
              "      <th>82109</th>\n",
              "      <td>2018-06-01</td>\n",
              "      <td>20</td>\n",
              "      <td>Simple assault</td>\n",
              "      <td>1</td>\n",
              "      <td>20G40</td>\n",
              "      <td>Residence, Home (Includes Apartment)</td>\n",
              "      <td>11700-11799</td>\n",
              "      <td>WESTHEIMER</td>\n",
              "      <td>RD</td>\n",
              "      <td>NaN</td>\n",
              "    </tr>\n",
              "    <tr>\n",
              "      <th>81979</th>\n",
              "      <td>2018-06-01</td>\n",
              "      <td>17</td>\n",
              "      <td>All other offenses</td>\n",
              "      <td>1</td>\n",
              "      <td>8C20</td>\n",
              "      <td>Highway, Road, Street, Alley</td>\n",
              "      <td>8000-8099</td>\n",
              "      <td>DARIEN</td>\n",
              "      <td>ST</td>\n",
              "      <td>NaN</td>\n",
              "    </tr>\n",
              "    <tr>\n",
              "      <th>81980</th>\n",
              "      <td>2018-06-01</td>\n",
              "      <td>17</td>\n",
              "      <td>Simple assault</td>\n",
              "      <td>1</td>\n",
              "      <td>20G80</td>\n",
              "      <td>Residence, Home (Includes Apartment)</td>\n",
              "      <td>15100-15199</td>\n",
              "      <td>RICHMOND</td>\n",
              "      <td>AVE</td>\n",
              "      <td>NaN</td>\n",
              "    </tr>\n",
              "    <tr>\n",
              "      <th>81981</th>\n",
              "      <td>2018-06-01</td>\n",
              "      <td>17</td>\n",
              "      <td>Destruction, damage, vandalism</td>\n",
              "      <td>1</td>\n",
              "      <td>19G40</td>\n",
              "      <td>Residence, Home (Includes Apartment)</td>\n",
              "      <td>12000-12099</td>\n",
              "      <td>BISSONNET</td>\n",
              "      <td>ST</td>\n",
              "      <td>NaN</td>\n",
              "    </tr>\n",
              "    <tr>\n",
              "      <th>81982</th>\n",
              "      <td>2018-06-01</td>\n",
              "      <td>17</td>\n",
              "      <td>Shoplifting</td>\n",
              "      <td>1</td>\n",
              "      <td>18F20</td>\n",
              "      <td>Shopping Mall</td>\n",
              "      <td>5000-5099</td>\n",
              "      <td>WESTHEIMER</td>\n",
              "      <td>RD</td>\n",
              "      <td>NaN</td>\n",
              "    </tr>\n",
              "  </tbody>\n",
              "</table>\n",
              "</div>"
            ],
            "text/plain": [
              "      Occurrence Date  Occurrence Hour               NIBRS Description  \\\n",
              "82109      2018-06-01               20                  Simple assault   \n",
              "81979      2018-06-01               17              All other offenses   \n",
              "81980      2018-06-01               17                  Simple assault   \n",
              "81981      2018-06-01               17  Destruction, damage, vandalism   \n",
              "81982      2018-06-01               17                     Shoplifting   \n",
              "\n",
              "       Offense Count   Beat                               Premise  \\\n",
              "82109              1  20G40  Residence, Home (Includes Apartment)   \n",
              "81979              1   8C20          Highway, Road, Street, Alley   \n",
              "81980              1  20G80  Residence, Home (Includes Apartment)   \n",
              "81981              1  19G40  Residence, Home (Includes Apartment)   \n",
              "81982              1  18F20                         Shopping Mall   \n",
              "\n",
              "       Block Range Street Name Street Type Suffix  \n",
              "82109  11700-11799  WESTHEIMER          RD    NaN  \n",
              "81979    8000-8099      DARIEN          ST    NaN  \n",
              "81980  15100-15199    RICHMOND         AVE    NaN  \n",
              "81981  12000-12099   BISSONNET          ST    NaN  \n",
              "81982    5000-5099  WESTHEIMER          RD    NaN  "
            ]
          },
          "execution_count": 75,
          "metadata": {},
          "output_type": "execute_result"
        }
      ],
      "source": [
        "cleaned_df_jun2018_dec2018.head()"
      ]
    },
    {
      "cell_type": "code",
      "execution_count": null,
      "metadata": {
        "id": "Iyteg8Zd_XT4",
        "outputId": "ecc96667-744c-44f4-db00-442ba5a5174c"
      },
      "outputs": [
        {
          "name": "stdout",
          "output_type": "stream",
          "text": [
            "<class 'pandas.core.frame.DataFrame'>\n",
            "Int64Index: 145055 entries, 82109 to 80977\n",
            "Data columns (total 10 columns):\n",
            " #   Column             Non-Null Count   Dtype \n",
            "---  ------             --------------   ----- \n",
            " 0   Occurrence Date    145055 non-null  object\n",
            " 1   Occurrence Hour    145055 non-null  int64 \n",
            " 2   NIBRS Description  145055 non-null  object\n",
            " 3   Offense Count      145055 non-null  int64 \n",
            " 4   Beat               144906 non-null  object\n",
            " 5   Premise            145055 non-null  object\n",
            " 6   Block Range        144165 non-null  object\n",
            " 7   Street Name        145055 non-null  object\n",
            " 8   Street Type        133355 non-null  object\n",
            " 9   Suffix             20455 non-null   object\n",
            "dtypes: int64(2), object(8)\n",
            "memory usage: 12.2+ MB\n"
          ]
        }
      ],
      "source": [
        "cleaned_df_jun2018_dec2018.info()"
      ]
    },
    {
      "cell_type": "code",
      "execution_count": null,
      "metadata": {
        "id": "OucL3iIL_XT4",
        "outputId": "b8bb1290-d7ac-49c4-a679-a5ecb1626267"
      },
      "outputs": [
        {
          "data": {
            "text/plain": [
              "(1111335, 17)"
            ]
          },
          "execution_count": 77,
          "metadata": {},
          "output_type": "execute_result"
        }
      ],
      "source": [
        "cleaned_df_jan2019_jul2023.shape"
      ]
    },
    {
      "cell_type": "code",
      "execution_count": null,
      "metadata": {
        "id": "IUOmVuQ6_XT5",
        "outputId": "79039011-997c-42f7-c12e-fab102a35d18"
      },
      "outputs": [
        {
          "data": {
            "text/html": [
              "<div>\n",
              "<style scoped>\n",
              "    .dataframe tbody tr th:only-of-type {\n",
              "        vertical-align: middle;\n",
              "    }\n",
              "\n",
              "    .dataframe tbody tr th {\n",
              "        vertical-align: top;\n",
              "    }\n",
              "\n",
              "    .dataframe thead th {\n",
              "        text-align: right;\n",
              "    }\n",
              "</style>\n",
              "<table border=\"1\" class=\"dataframe\">\n",
              "  <thead>\n",
              "    <tr style=\"text-align: right;\">\n",
              "      <th></th>\n",
              "      <th>Incident</th>\n",
              "      <th>Occurrence Date</th>\n",
              "      <th>Occurrence Hour</th>\n",
              "      <th>NIBRS Class</th>\n",
              "      <th>NIBRS Description</th>\n",
              "      <th>Offense Count</th>\n",
              "      <th>Beat</th>\n",
              "      <th>Premise</th>\n",
              "      <th>Block Range</th>\n",
              "      <th>Street Name</th>\n",
              "      <th>Street Type</th>\n",
              "      <th>Suffix</th>\n",
              "      <th>City</th>\n",
              "      <th>ZIP Code</th>\n",
              "      <th>Street No</th>\n",
              "      <th>MapLongitude</th>\n",
              "      <th>MapLatitude</th>\n",
              "    </tr>\n",
              "  </thead>\n",
              "  <tbody>\n",
              "    <tr>\n",
              "      <th>0</th>\n",
              "      <td>5619</td>\n",
              "      <td>2019-01-01</td>\n",
              "      <td>0.0</td>\n",
              "      <td>290</td>\n",
              "      <td>Destruction, damage, vandalism</td>\n",
              "      <td>1.0</td>\n",
              "      <td>9C30</td>\n",
              "      <td>Residence, Home (Includes Apartment)</td>\n",
              "      <td>9622</td>\n",
              "      <td>SAN CARLOS</td>\n",
              "      <td>NaN</td>\n",
              "      <td>NaN</td>\n",
              "      <td>HOUSTON</td>\n",
              "      <td>77013</td>\n",
              "      <td>NaN</td>\n",
              "      <td>NaN</td>\n",
              "      <td>NaN</td>\n",
              "    </tr>\n",
              "    <tr>\n",
              "      <th>1</th>\n",
              "      <td>17319</td>\n",
              "      <td>2019-01-01</td>\n",
              "      <td>0.0</td>\n",
              "      <td>35A</td>\n",
              "      <td>Drug, narcotic violations</td>\n",
              "      <td>1.0</td>\n",
              "      <td>7C10</td>\n",
              "      <td>Highway, Road, Street, Alley</td>\n",
              "      <td>NaN</td>\n",
              "      <td>EAST</td>\n",
              "      <td>FWY</td>\n",
              "      <td>NaN</td>\n",
              "      <td>HOUSTON</td>\n",
              "      <td>77020</td>\n",
              "      <td>NaN</td>\n",
              "      <td>NaN</td>\n",
              "      <td>NaN</td>\n",
              "    </tr>\n",
              "    <tr>\n",
              "      <th>2</th>\n",
              "      <td>18119</td>\n",
              "      <td>2019-01-01</td>\n",
              "      <td>0.0</td>\n",
              "      <td>290</td>\n",
              "      <td>Destruction, damage, vandalism</td>\n",
              "      <td>1.0</td>\n",
              "      <td>16E40</td>\n",
              "      <td>Residence, Home (Includes Apartment)</td>\n",
              "      <td>16718</td>\n",
              "      <td>LONE QUAIL</td>\n",
              "      <td>CT</td>\n",
              "      <td>NaN</td>\n",
              "      <td>HOUSTON</td>\n",
              "      <td>77489</td>\n",
              "      <td>NaN</td>\n",
              "      <td>NaN</td>\n",
              "      <td>NaN</td>\n",
              "    </tr>\n",
              "    <tr>\n",
              "      <th>3</th>\n",
              "      <td>19019</td>\n",
              "      <td>2019-01-01</td>\n",
              "      <td>0.0</td>\n",
              "      <td>520</td>\n",
              "      <td>Weapon law violations</td>\n",
              "      <td>1.0</td>\n",
              "      <td>NaN</td>\n",
              "      <td>Residence, Home (Includes Apartment)</td>\n",
              "      <td>1909</td>\n",
              "      <td>MELBOURNE</td>\n",
              "      <td>NaN</td>\n",
              "      <td>NaN</td>\n",
              "      <td>HOUSTON</td>\n",
              "      <td>77026-0000</td>\n",
              "      <td>NaN</td>\n",
              "      <td>NaN</td>\n",
              "      <td>NaN</td>\n",
              "    </tr>\n",
              "    <tr>\n",
              "      <th>4</th>\n",
              "      <td>20519</td>\n",
              "      <td>2019-01-01</td>\n",
              "      <td>0.0</td>\n",
              "      <td>13A</td>\n",
              "      <td>Aggravated Assault</td>\n",
              "      <td>1.0</td>\n",
              "      <td>15E30</td>\n",
              "      <td>Residence, Home (Includes Apartment)</td>\n",
              "      <td>4034</td>\n",
              "      <td>OSBY</td>\n",
              "      <td>DR</td>\n",
              "      <td>NaN</td>\n",
              "      <td>HOUSTON</td>\n",
              "      <td>77025</td>\n",
              "      <td>NaN</td>\n",
              "      <td>NaN</td>\n",
              "      <td>NaN</td>\n",
              "    </tr>\n",
              "  </tbody>\n",
              "</table>\n",
              "</div>"
            ],
            "text/plain": [
              "   Incident Occurrence Date  Occurrence Hour NIBRS Class  \\\n",
              "0      5619      2019-01-01              0.0         290   \n",
              "1     17319      2019-01-01              0.0         35A   \n",
              "2     18119      2019-01-01              0.0         290   \n",
              "3     19019      2019-01-01              0.0         520   \n",
              "4     20519      2019-01-01              0.0         13A   \n",
              "\n",
              "                NIBRS Description  Offense Count   Beat  \\\n",
              "0  Destruction, damage, vandalism            1.0   9C30   \n",
              "1       Drug, narcotic violations            1.0   7C10   \n",
              "2  Destruction, damage, vandalism            1.0  16E40   \n",
              "3           Weapon law violations            1.0    NaN   \n",
              "4              Aggravated Assault            1.0  15E30   \n",
              "\n",
              "                                Premise Block Range Street Name Street Type  \\\n",
              "0  Residence, Home (Includes Apartment)        9622  SAN CARLOS         NaN   \n",
              "1          Highway, Road, Street, Alley         NaN        EAST         FWY   \n",
              "2  Residence, Home (Includes Apartment)       16718  LONE QUAIL          CT   \n",
              "3  Residence, Home (Includes Apartment)        1909   MELBOURNE         NaN   \n",
              "4  Residence, Home (Includes Apartment)        4034        OSBY          DR   \n",
              "\n",
              "  Suffix     City    ZIP Code Street No  MapLongitude  MapLatitude  \n",
              "0    NaN  HOUSTON       77013       NaN           NaN          NaN  \n",
              "1    NaN  HOUSTON       77020       NaN           NaN          NaN  \n",
              "2    NaN  HOUSTON       77489       NaN           NaN          NaN  \n",
              "3    NaN  HOUSTON  77026-0000       NaN           NaN          NaN  \n",
              "4    NaN  HOUSTON       77025       NaN           NaN          NaN  "
            ]
          },
          "execution_count": 78,
          "metadata": {},
          "output_type": "execute_result"
        }
      ],
      "source": [
        "cleaned_df_jan2019_jul2023.head()"
      ]
    },
    {
      "cell_type": "code",
      "execution_count": null,
      "metadata": {
        "id": "_ynOJAn7_XT5",
        "outputId": "e35cc584-984c-4603-80f5-6746201ddfff"
      },
      "outputs": [
        {
          "name": "stdout",
          "output_type": "stream",
          "text": [
            "<class 'pandas.core.frame.DataFrame'>\n",
            "RangeIndex: 1111335 entries, 0 to 1111334\n",
            "Data columns (total 17 columns):\n",
            " #   Column             Non-Null Count    Dtype  \n",
            "---  ------             --------------    -----  \n",
            " 0   Incident           1111335 non-null  int64  \n",
            " 1   Occurrence Date    1111335 non-null  object \n",
            " 2   Occurrence Hour    1111335 non-null  float64\n",
            " 3   NIBRS Class        1111335 non-null  object \n",
            " 4   NIBRS Description  1111335 non-null  object \n",
            " 5   Offense Count      1111335 non-null  float64\n",
            " 6   Beat               1110550 non-null  object \n",
            " 7   Premise            1111334 non-null  object \n",
            " 8   Block Range        465475 non-null   object \n",
            " 9   Street Name        1111335 non-null  object \n",
            " 10  Street Type        1025784 non-null  object \n",
            " 11  Suffix             162878 non-null   object \n",
            " 12  City               1111335 non-null  object \n",
            " 13  ZIP Code           1097813 non-null  object \n",
            " 14  Street No          642415 non-null   object \n",
            " 15  MapLongitude       392147 non-null   float64\n",
            " 16  MapLatitude        392147 non-null   float64\n",
            "dtypes: float64(4), int64(1), object(12)\n",
            "memory usage: 144.1+ MB\n"
          ]
        }
      ],
      "source": [
        "cleaned_df_jan2019_jul2023.info()"
      ]
    },
    {
      "cell_type": "markdown",
      "metadata": {
        "id": "OpnJJGUP_XT5"
      },
      "source": [
        "## **Merge cleaned_jan2010_may2018.csv, cleaned_jun2018_dec2018.csv, and cleaned_jan2019_jul2023.csv**"
      ]
    },
    {
      "cell_type": "code",
      "execution_count": null,
      "metadata": {
        "id": "Wf-zbEYm_XT5"
      },
      "outputs": [],
      "source": [
        "# Merge cleaned_jan2010_may2018.csv, cleaned_jun2018_dec2018.csv, and cleaned_jan2019_jul2023.csv\n",
        "merged_jan2010_Jul2023 = pd.concat([cleaned_df_jan2010_may2018, cleaned_df_jun2018_dec2018, cleaned_df_jan2019_jul2023])\n",
        ""
      ]
    },
    {
      "cell_type": "code",
      "execution_count": null,
      "metadata": {
        "id": "Oq6LU6yv_XT5",
        "outputId": "9170db1c-6c59-4c44-d7a6-e04f36fb35ed"
      },
      "outputs": [
        {
          "data": {
            "text/html": [
              "<div>\n",
              "<style scoped>\n",
              "    .dataframe tbody tr th:only-of-type {\n",
              "        vertical-align: middle;\n",
              "    }\n",
              "\n",
              "    .dataframe tbody tr th {\n",
              "        vertical-align: top;\n",
              "    }\n",
              "\n",
              "    .dataframe thead th {\n",
              "        text-align: right;\n",
              "    }\n",
              "</style>\n",
              "<table border=\"1\" class=\"dataframe\">\n",
              "  <thead>\n",
              "    <tr style=\"text-align: right;\">\n",
              "      <th></th>\n",
              "      <th>Occurrence Date</th>\n",
              "      <th>Occurrence Hour</th>\n",
              "      <th>NIBRS Description</th>\n",
              "      <th>Offense Count</th>\n",
              "      <th>Beat</th>\n",
              "      <th>Premise</th>\n",
              "      <th>Block Range</th>\n",
              "      <th>Street Name</th>\n",
              "      <th>Street Type</th>\n",
              "      <th>Suffix</th>\n",
              "      <th>Incident</th>\n",
              "      <th>NIBRS Class</th>\n",
              "      <th>City</th>\n",
              "      <th>ZIP Code</th>\n",
              "      <th>Street No</th>\n",
              "      <th>MapLongitude</th>\n",
              "      <th>MapLatitude</th>\n",
              "    </tr>\n",
              "  </thead>\n",
              "  <tbody>\n",
              "    <tr>\n",
              "      <th>387594</th>\n",
              "      <td>2010-01-01 00:00:00</td>\n",
              "      <td>8</td>\n",
              "      <td>Theft</td>\n",
              "      <td>1.0</td>\n",
              "      <td>3B10</td>\n",
              "      <td>20R</td>\n",
              "      <td>4900-4999</td>\n",
              "      <td>POINCIANA</td>\n",
              "      <td>DR</td>\n",
              "      <td>-</td>\n",
              "      <td>NaN</td>\n",
              "      <td>NaN</td>\n",
              "      <td>NaN</td>\n",
              "      <td>NaN</td>\n",
              "      <td>NaN</td>\n",
              "      <td>NaN</td>\n",
              "      <td>NaN</td>\n",
              "    </tr>\n",
              "    <tr>\n",
              "      <th>383540</th>\n",
              "      <td>2010-01-01 00:00:00</td>\n",
              "      <td>18</td>\n",
              "      <td>Theft</td>\n",
              "      <td>1.0</td>\n",
              "      <td>5F20</td>\n",
              "      <td>20D</td>\n",
              "      <td>8700-8799</td>\n",
              "      <td>HAMMERLY</td>\n",
              "      <td>-</td>\n",
              "      <td>-</td>\n",
              "      <td>NaN</td>\n",
              "      <td>NaN</td>\n",
              "      <td>NaN</td>\n",
              "      <td>NaN</td>\n",
              "      <td>NaN</td>\n",
              "      <td>NaN</td>\n",
              "      <td>NaN</td>\n",
              "    </tr>\n",
              "    <tr>\n",
              "      <th>563390</th>\n",
              "      <td>2010-01-01 00:00:00</td>\n",
              "      <td>0</td>\n",
              "      <td>Burglary</td>\n",
              "      <td>1.0</td>\n",
              "      <td>1A10</td>\n",
              "      <td>05O</td>\n",
              "      <td>400-499</td>\n",
              "      <td>MAIN</td>\n",
              "      <td>ST</td>\n",
              "      <td>-</td>\n",
              "      <td>NaN</td>\n",
              "      <td>NaN</td>\n",
              "      <td>NaN</td>\n",
              "      <td>NaN</td>\n",
              "      <td>NaN</td>\n",
              "      <td>NaN</td>\n",
              "      <td>NaN</td>\n",
              "    </tr>\n",
              "    <tr>\n",
              "      <th>387303</th>\n",
              "      <td>2010-01-01 00:00:00</td>\n",
              "      <td>0</td>\n",
              "      <td>Theft</td>\n",
              "      <td>1.0</td>\n",
              "      <td>7C10</td>\n",
              "      <td>20R</td>\n",
              "      <td>1900-1999</td>\n",
              "      <td>LOCKWOOD</td>\n",
              "      <td>DR</td>\n",
              "      <td>-</td>\n",
              "      <td>NaN</td>\n",
              "      <td>NaN</td>\n",
              "      <td>NaN</td>\n",
              "      <td>NaN</td>\n",
              "      <td>NaN</td>\n",
              "      <td>NaN</td>\n",
              "      <td>NaN</td>\n",
              "    </tr>\n",
              "    <tr>\n",
              "      <th>303450</th>\n",
              "      <td>2010-01-01 00:00:00</td>\n",
              "      <td>10</td>\n",
              "      <td>Theft</td>\n",
              "      <td>1.0</td>\n",
              "      <td>18F20</td>\n",
              "      <td>18A</td>\n",
              "      <td>3300-3399</td>\n",
              "      <td>MCCUE</td>\n",
              "      <td>RD</td>\n",
              "      <td>-</td>\n",
              "      <td>NaN</td>\n",
              "      <td>NaN</td>\n",
              "      <td>NaN</td>\n",
              "      <td>NaN</td>\n",
              "      <td>NaN</td>\n",
              "      <td>NaN</td>\n",
              "      <td>NaN</td>\n",
              "    </tr>\n",
              "  </tbody>\n",
              "</table>\n",
              "</div>"
            ],
            "text/plain": [
              "            Occurrence Date Occurrence Hour NIBRS Description  Offense Count  \\\n",
              "387594  2010-01-01 00:00:00               8             Theft            1.0   \n",
              "383540  2010-01-01 00:00:00              18             Theft            1.0   \n",
              "563390  2010-01-01 00:00:00               0          Burglary            1.0   \n",
              "387303  2010-01-01 00:00:00               0             Theft            1.0   \n",
              "303450  2010-01-01 00:00:00              10             Theft            1.0   \n",
              "\n",
              "         Beat Premise Block Range Street Name Street Type Suffix  Incident  \\\n",
              "387594   3B10     20R   4900-4999   POINCIANA          DR      -       NaN   \n",
              "383540   5F20     20D   8700-8799    HAMMERLY           -      -       NaN   \n",
              "563390   1A10     05O     400-499        MAIN          ST      -       NaN   \n",
              "387303   7C10     20R   1900-1999    LOCKWOOD          DR      -       NaN   \n",
              "303450  18F20     18A   3300-3399       MCCUE          RD      -       NaN   \n",
              "\n",
              "       NIBRS Class City ZIP Code Street No  MapLongitude  MapLatitude  \n",
              "387594         NaN  NaN      NaN       NaN           NaN          NaN  \n",
              "383540         NaN  NaN      NaN       NaN           NaN          NaN  \n",
              "563390         NaN  NaN      NaN       NaN           NaN          NaN  \n",
              "387303         NaN  NaN      NaN       NaN           NaN          NaN  \n",
              "303450         NaN  NaN      NaN       NaN           NaN          NaN  "
            ]
          },
          "execution_count": 81,
          "metadata": {},
          "output_type": "execute_result"
        }
      ],
      "source": [
        "# Check the merged dataframe\n",
        "merged_jan2010_Jul2023.head()"
      ]
    },
    {
      "cell_type": "code",
      "execution_count": null,
      "metadata": {
        "id": "4BScYPNk_XT5",
        "outputId": "ceb9d38a-54a0-4e06-8620-f16847e68eb9"
      },
      "outputs": [
        {
          "data": {
            "text/html": [
              "<div>\n",
              "<style scoped>\n",
              "    .dataframe tbody tr th:only-of-type {\n",
              "        vertical-align: middle;\n",
              "    }\n",
              "\n",
              "    .dataframe tbody tr th {\n",
              "        vertical-align: top;\n",
              "    }\n",
              "\n",
              "    .dataframe thead th {\n",
              "        text-align: right;\n",
              "    }\n",
              "</style>\n",
              "<table border=\"1\" class=\"dataframe\">\n",
              "  <thead>\n",
              "    <tr style=\"text-align: right;\">\n",
              "      <th></th>\n",
              "      <th>Occurrence Date</th>\n",
              "      <th>Occurrence Hour</th>\n",
              "      <th>NIBRS Description</th>\n",
              "      <th>Offense Count</th>\n",
              "      <th>Beat</th>\n",
              "      <th>Premise</th>\n",
              "      <th>Block Range</th>\n",
              "      <th>Street Name</th>\n",
              "      <th>Street Type</th>\n",
              "      <th>Suffix</th>\n",
              "      <th>Incident</th>\n",
              "      <th>NIBRS Class</th>\n",
              "      <th>City</th>\n",
              "      <th>ZIP Code</th>\n",
              "      <th>Street No</th>\n",
              "      <th>MapLongitude</th>\n",
              "      <th>MapLatitude</th>\n",
              "    </tr>\n",
              "  </thead>\n",
              "  <tbody>\n",
              "    <tr>\n",
              "      <th>1111330</th>\n",
              "      <td>2023-07-15</td>\n",
              "      <td>12.0</td>\n",
              "      <td>Theft from motor vehicle</td>\n",
              "      <td>1.0</td>\n",
              "      <td>NaN</td>\n",
              "      <td>Highway, Road, Street, Alley</td>\n",
              "      <td>NaN</td>\n",
              "      <td>VICTOR</td>\n",
              "      <td>ST</td>\n",
              "      <td>NaN</td>\n",
              "      <td>100500323.0</td>\n",
              "      <td>23F</td>\n",
              "      <td>HOUSTON</td>\n",
              "      <td>NaN</td>\n",
              "      <td>700</td>\n",
              "      <td>NaN</td>\n",
              "      <td>NaN</td>\n",
              "    </tr>\n",
              "    <tr>\n",
              "      <th>1111331</th>\n",
              "      <td>2023-07-15</td>\n",
              "      <td>12.0</td>\n",
              "      <td>Destruction, damage, vandalism</td>\n",
              "      <td>1.0</td>\n",
              "      <td>NaN</td>\n",
              "      <td>Highway, Road, Street, Alley</td>\n",
              "      <td>NaN</td>\n",
              "      <td>VICTOR</td>\n",
              "      <td>ST</td>\n",
              "      <td>NaN</td>\n",
              "      <td>100500323.0</td>\n",
              "      <td>290</td>\n",
              "      <td>HOUSTON</td>\n",
              "      <td>NaN</td>\n",
              "      <td>700</td>\n",
              "      <td>NaN</td>\n",
              "      <td>NaN</td>\n",
              "    </tr>\n",
              "    <tr>\n",
              "      <th>1111332</th>\n",
              "      <td>2023-07-16</td>\n",
              "      <td>16.0</td>\n",
              "      <td>Trespass of real property</td>\n",
              "      <td>1.0</td>\n",
              "      <td>NaN</td>\n",
              "      <td>Residence, Home (Includes Apartment)</td>\n",
              "      <td>NaN</td>\n",
              "      <td>CULLEN</td>\n",
              "      <td>BLVD</td>\n",
              "      <td>NaN</td>\n",
              "      <td>101013423.0</td>\n",
              "      <td>90J</td>\n",
              "      <td>CU</td>\n",
              "      <td>NaN</td>\n",
              "      <td>7300</td>\n",
              "      <td>-95.365814</td>\n",
              "      <td>29.683107</td>\n",
              "    </tr>\n",
              "    <tr>\n",
              "      <th>1111333</th>\n",
              "      <td>2023-07-28</td>\n",
              "      <td>7.0</td>\n",
              "      <td>Drug equipment violations</td>\n",
              "      <td>1.0</td>\n",
              "      <td>NaN</td>\n",
              "      <td>Highway, Road, Street, Alley</td>\n",
              "      <td>NaN</td>\n",
              "      <td>TIDWELL</td>\n",
              "      <td>RD</td>\n",
              "      <td>NaN</td>\n",
              "      <td>107036723.0</td>\n",
              "      <td>35B</td>\n",
              "      <td>HOUSTON</td>\n",
              "      <td>NaN</td>\n",
              "      <td>4840</td>\n",
              "      <td>NaN</td>\n",
              "      <td>NaN</td>\n",
              "    </tr>\n",
              "    <tr>\n",
              "      <th>1111334</th>\n",
              "      <td>2023-07-29</td>\n",
              "      <td>3.0</td>\n",
              "      <td>Aggravated Assault</td>\n",
              "      <td>1.0</td>\n",
              "      <td>NaN</td>\n",
              "      <td>Drug Store, Doctors Office, Hospital</td>\n",
              "      <td>NaN</td>\n",
              "      <td>SAINT JOSEPHS</td>\n",
              "      <td>PKWY</td>\n",
              "      <td>NaN</td>\n",
              "      <td>107531223.0</td>\n",
              "      <td>13A</td>\n",
              "      <td>HOUSTON</td>\n",
              "      <td>77002</td>\n",
              "      <td>1401</td>\n",
              "      <td>NaN</td>\n",
              "      <td>NaN</td>\n",
              "    </tr>\n",
              "  </tbody>\n",
              "</table>\n",
              "</div>"
            ],
            "text/plain": [
              "        Occurrence Date Occurrence Hour               NIBRS Description  \\\n",
              "1111330      2023-07-15            12.0        Theft from motor vehicle   \n",
              "1111331      2023-07-15            12.0  Destruction, damage, vandalism   \n",
              "1111332      2023-07-16            16.0       Trespass of real property   \n",
              "1111333      2023-07-28             7.0       Drug equipment violations   \n",
              "1111334      2023-07-29             3.0              Aggravated Assault   \n",
              "\n",
              "         Offense Count Beat                               Premise Block Range  \\\n",
              "1111330            1.0  NaN          Highway, Road, Street, Alley         NaN   \n",
              "1111331            1.0  NaN          Highway, Road, Street, Alley         NaN   \n",
              "1111332            1.0  NaN  Residence, Home (Includes Apartment)         NaN   \n",
              "1111333            1.0  NaN          Highway, Road, Street, Alley         NaN   \n",
              "1111334            1.0  NaN  Drug Store, Doctors Office, Hospital         NaN   \n",
              "\n",
              "           Street Name Street Type Suffix     Incident NIBRS Class     City  \\\n",
              "1111330         VICTOR          ST    NaN  100500323.0         23F  HOUSTON   \n",
              "1111331         VICTOR          ST    NaN  100500323.0         290  HOUSTON   \n",
              "1111332         CULLEN        BLVD    NaN  101013423.0         90J       CU   \n",
              "1111333        TIDWELL          RD    NaN  107036723.0         35B  HOUSTON   \n",
              "1111334  SAINT JOSEPHS        PKWY    NaN  107531223.0         13A  HOUSTON   \n",
              "\n",
              "        ZIP Code Street No  MapLongitude  MapLatitude  \n",
              "1111330      NaN       700           NaN          NaN  \n",
              "1111331      NaN       700           NaN          NaN  \n",
              "1111332      NaN      7300    -95.365814    29.683107  \n",
              "1111333      NaN      4840           NaN          NaN  \n",
              "1111334    77002      1401           NaN          NaN  "
            ]
          },
          "execution_count": 82,
          "metadata": {},
          "output_type": "execute_result"
        }
      ],
      "source": [
        "merged_jan2010_Jul2023.tail()"
      ]
    },
    {
      "cell_type": "code",
      "execution_count": null,
      "metadata": {
        "id": "STneA0jD_XT6",
        "outputId": "3a1393e3-e30a-4dd7-f9fb-cf6fb93be3da"
      },
      "outputs": [
        {
          "data": {
            "text/plain": [
              "(2307150, 17)"
            ]
          },
          "execution_count": 83,
          "metadata": {},
          "output_type": "execute_result"
        }
      ],
      "source": [
        "merged_jan2010_Jul2023.shape"
      ]
    },
    {
      "cell_type": "code",
      "execution_count": null,
      "metadata": {
        "id": "VYOCrISb_XT6",
        "outputId": "968507af-647f-4236-b72f-2a5403f715b8"
      },
      "outputs": [
        {
          "name": "stdout",
          "output_type": "stream",
          "text": [
            "<class 'pandas.core.frame.DataFrame'>\n",
            "Int64Index: 2307150 entries, 387594 to 1111334\n",
            "Data columns (total 17 columns):\n",
            " #   Column             Dtype  \n",
            "---  ------             -----  \n",
            " 0   Occurrence Date    object \n",
            " 1   Occurrence Hour    object \n",
            " 2   NIBRS Description  object \n",
            " 3   Offense Count      float64\n",
            " 4   Beat               object \n",
            " 5   Premise            object \n",
            " 6   Block Range        object \n",
            " 7   Street Name        object \n",
            " 8   Street Type        object \n",
            " 9   Suffix             object \n",
            " 10  Incident           float64\n",
            " 11  NIBRS Class        object \n",
            " 12  City               object \n",
            " 13  ZIP Code           object \n",
            " 14  Street No          object \n",
            " 15  MapLongitude       float64\n",
            " 16  MapLatitude        float64\n",
            "dtypes: float64(4), object(13)\n",
            "memory usage: 316.8+ MB\n"
          ]
        }
      ],
      "source": [
        "merged_jan2010_Jul2023.info()"
      ]
    },
    {
      "cell_type": "code",
      "execution_count": null,
      "metadata": {
        "id": "0OsDjCgs_XT6",
        "outputId": "95b76b00-79c6-4add-9424-682036d66a13"
      },
      "outputs": [
        {
          "data": {
            "text/plain": [
              "Occurrence Date            0\n",
              "Occurrence Hour            0\n",
              "NIBRS Description          0\n",
              "Offense Count          10310\n",
              "Beat                     950\n",
              "Premise                33533\n",
              "Block Range           646906\n",
              "Street Name                1\n",
              "Street Type            97251\n",
              "Suffix               1073057\n",
              "Incident             1195815\n",
              "NIBRS Class          1195815\n",
              "City                 1195815\n",
              "ZIP Code             1209337\n",
              "Street No            1664735\n",
              "MapLongitude         1915003\n",
              "MapLatitude          1915003\n",
              "dtype: int64"
            ]
          },
          "execution_count": 85,
          "metadata": {},
          "output_type": "execute_result"
        }
      ],
      "source": [
        "merged_jan2010_Jul2023.isna().sum()"
      ]
    },
    {
      "cell_type": "code",
      "execution_count": null,
      "metadata": {
        "id": "GxIJ_adY_XT6",
        "outputId": "37ffd940-583e-4607-caf3-aaea4f695f56"
      },
      "outputs": [
        {
          "data": {
            "text/html": [
              "<div>\n",
              "<style scoped>\n",
              "    .dataframe tbody tr th:only-of-type {\n",
              "        vertical-align: middle;\n",
              "    }\n",
              "\n",
              "    .dataframe tbody tr th {\n",
              "        vertical-align: top;\n",
              "    }\n",
              "\n",
              "    .dataframe thead th {\n",
              "        text-align: right;\n",
              "    }\n",
              "</style>\n",
              "<table border=\"1\" class=\"dataframe\">\n",
              "  <thead>\n",
              "    <tr style=\"text-align: right;\">\n",
              "      <th></th>\n",
              "      <th>Offense Count</th>\n",
              "      <th>Incident</th>\n",
              "      <th>MapLongitude</th>\n",
              "      <th>MapLatitude</th>\n",
              "    </tr>\n",
              "  </thead>\n",
              "  <tbody>\n",
              "    <tr>\n",
              "      <th>count</th>\n",
              "      <td>2.296840e+06</td>\n",
              "      <td>1.111335e+06</td>\n",
              "      <td>392147.000000</td>\n",
              "      <td>392147.000000</td>\n",
              "    </tr>\n",
              "    <tr>\n",
              "      <th>mean</th>\n",
              "      <td>1.026311e+00</td>\n",
              "      <td>8.318521e+07</td>\n",
              "      <td>-95.416751</td>\n",
              "      <td>29.755169</td>\n",
              "    </tr>\n",
              "    <tr>\n",
              "      <th>std</th>\n",
              "      <td>2.115527e-01</td>\n",
              "      <td>5.002611e+07</td>\n",
              "      <td>0.111731</td>\n",
              "      <td>0.093016</td>\n",
              "    </tr>\n",
              "    <tr>\n",
              "      <th>min</th>\n",
              "      <td>0.000000e+00</td>\n",
              "      <td>5.200000e+02</td>\n",
              "      <td>-95.997926</td>\n",
              "      <td>29.385800</td>\n",
              "    </tr>\n",
              "    <tr>\n",
              "      <th>25%</th>\n",
              "      <td>1.000000e+00</td>\n",
              "      <td>4.085922e+07</td>\n",
              "      <td>-95.504777</td>\n",
              "      <td>29.688916</td>\n",
              "    </tr>\n",
              "    <tr>\n",
              "      <th>50%</th>\n",
              "      <td>1.000000e+00</td>\n",
              "      <td>8.117652e+07</td>\n",
              "      <td>-95.411035</td>\n",
              "      <td>29.740215</td>\n",
              "    </tr>\n",
              "    <tr>\n",
              "      <th>75%</th>\n",
              "      <td>1.000000e+00</td>\n",
              "      <td>1.241803e+08</td>\n",
              "      <td>-95.342364</td>\n",
              "      <td>29.812019</td>\n",
              "    </tr>\n",
              "    <tr>\n",
              "      <th>max</th>\n",
              "      <td>6.500000e+01</td>\n",
              "      <td>9.962491e+08</td>\n",
              "      <td>-94.870391</td>\n",
              "      <td>30.219917</td>\n",
              "    </tr>\n",
              "  </tbody>\n",
              "</table>\n",
              "</div>"
            ],
            "text/plain": [
              "       Offense Count      Incident   MapLongitude    MapLatitude\n",
              "count   2.296840e+06  1.111335e+06  392147.000000  392147.000000\n",
              "mean    1.026311e+00  8.318521e+07     -95.416751      29.755169\n",
              "std     2.115527e-01  5.002611e+07       0.111731       0.093016\n",
              "min     0.000000e+00  5.200000e+02     -95.997926      29.385800\n",
              "25%     1.000000e+00  4.085922e+07     -95.504777      29.688916\n",
              "50%     1.000000e+00  8.117652e+07     -95.411035      29.740215\n",
              "75%     1.000000e+00  1.241803e+08     -95.342364      29.812019\n",
              "max     6.500000e+01  9.962491e+08     -94.870391      30.219917"
            ]
          },
          "execution_count": 86,
          "metadata": {},
          "output_type": "execute_result"
        }
      ],
      "source": [
        "merged_jan2010_Jul2023.describe()"
      ]
    },
    {
      "cell_type": "code",
      "execution_count": null,
      "metadata": {
        "id": "pTxKXAj6_XT6",
        "outputId": "de1ad72c-0b47-4624-e66f-da207294bbde"
      },
      "outputs": [
        {
          "data": {
            "text/html": [
              "<div>\n",
              "<style scoped>\n",
              "    .dataframe tbody tr th:only-of-type {\n",
              "        vertical-align: middle;\n",
              "    }\n",
              "\n",
              "    .dataframe tbody tr th {\n",
              "        vertical-align: top;\n",
              "    }\n",
              "\n",
              "    .dataframe thead th {\n",
              "        text-align: right;\n",
              "    }\n",
              "</style>\n",
              "<table border=\"1\" class=\"dataframe\">\n",
              "  <thead>\n",
              "    <tr style=\"text-align: right;\">\n",
              "      <th></th>\n",
              "      <th>Occurrence Date</th>\n",
              "      <th>Occurrence Hour</th>\n",
              "      <th>NIBRS Description</th>\n",
              "      <th>Beat</th>\n",
              "      <th>Premise</th>\n",
              "      <th>Block Range</th>\n",
              "      <th>Street Name</th>\n",
              "      <th>Street Type</th>\n",
              "      <th>Suffix</th>\n",
              "      <th>NIBRS Class</th>\n",
              "      <th>City</th>\n",
              "      <th>ZIP Code</th>\n",
              "      <th>Street No</th>\n",
              "    </tr>\n",
              "  </thead>\n",
              "  <tbody>\n",
              "    <tr>\n",
              "      <th>count</th>\n",
              "      <td>2307150</td>\n",
              "      <td>2307150</td>\n",
              "      <td>2307150</td>\n",
              "      <td>2306200</td>\n",
              "      <td>2273617</td>\n",
              "      <td>1660244</td>\n",
              "      <td>2307149</td>\n",
              "      <td>2209899</td>\n",
              "      <td>1234093</td>\n",
              "      <td>1111335</td>\n",
              "      <td>1111335</td>\n",
              "      <td>1097813</td>\n",
              "      <td>642415</td>\n",
              "    </tr>\n",
              "    <tr>\n",
              "      <th>unique</th>\n",
              "      <td>4960</td>\n",
              "      <td>83</td>\n",
              "      <td>77</td>\n",
              "      <td>368</td>\n",
              "      <td>428</td>\n",
              "      <td>14578</td>\n",
              "      <td>35934</td>\n",
              "      <td>56</td>\n",
              "      <td>5</td>\n",
              "      <td>62</td>\n",
              "      <td>308</td>\n",
              "      <td>479</td>\n",
              "      <td>15154</td>\n",
              "    </tr>\n",
              "    <tr>\n",
              "      <th>top</th>\n",
              "      <td>2022-04-01</td>\n",
              "      <td>12</td>\n",
              "      <td>Theft</td>\n",
              "      <td>12D10</td>\n",
              "      <td>Residence, Home (Includes Apartment)</td>\n",
              "      <td>900-999</td>\n",
              "      <td>WESTHEIMER</td>\n",
              "      <td>ST</td>\n",
              "      <td>-</td>\n",
              "      <td>23F</td>\n",
              "      <td>HOUSTON</td>\n",
              "      <td>77036</td>\n",
              "      <td>2800</td>\n",
              "    </tr>\n",
              "    <tr>\n",
              "      <th>freq</th>\n",
              "      <td>900</td>\n",
              "      <td>133998</td>\n",
              "      <td>573377</td>\n",
              "      <td>47541</td>\n",
              "      <td>460679</td>\n",
              "      <td>16556</td>\n",
              "      <td>63948</td>\n",
              "      <td>509835</td>\n",
              "      <td>908229</td>\n",
              "      <td>127621</td>\n",
              "      <td>1106033</td>\n",
              "      <td>37286</td>\n",
              "      <td>2273</td>\n",
              "    </tr>\n",
              "  </tbody>\n",
              "</table>\n",
              "</div>"
            ],
            "text/plain": [
              "       Occurrence Date  Occurrence Hour NIBRS Description     Beat  \\\n",
              "count          2307150          2307150           2307150  2306200   \n",
              "unique            4960               83                77      368   \n",
              "top         2022-04-01               12             Theft    12D10   \n",
              "freq               900           133998            573377    47541   \n",
              "\n",
              "                                     Premise Block Range Street Name  \\\n",
              "count                                2273617     1660244     2307149   \n",
              "unique                                   428       14578       35934   \n",
              "top     Residence, Home (Includes Apartment)     900-999  WESTHEIMER   \n",
              "freq                                  460679       16556       63948   \n",
              "\n",
              "       Street Type   Suffix NIBRS Class     City ZIP Code Street No  \n",
              "count      2209899  1234093     1111335  1111335  1097813    642415  \n",
              "unique          56        5          62      308      479     15154  \n",
              "top             ST        -         23F  HOUSTON    77036      2800  \n",
              "freq        509835   908229      127621  1106033    37286      2273  "
            ]
          },
          "execution_count": 87,
          "metadata": {},
          "output_type": "execute_result"
        }
      ],
      "source": [
        "merged_jan2010_Jul2023.describe(include='object')"
      ]
    },
    {
      "cell_type": "markdown",
      "metadata": {
        "id": "AkAvrhoh_XT6"
      },
      "source": [
        "## **Save Final Merged Dataframe to pkl and CSV**"
      ]
    },
    {
      "cell_type": "code",
      "execution_count": null,
      "metadata": {
        "id": "_q8bQ4iQ_XT9"
      },
      "outputs": [],
      "source": [
        "# Save dataframes in pickle format\n",
        "merged_jan2010_Jul2023.to_pickle('data/df_merged_jan2010_Jul2023.pkl')"
      ]
    },
    {
      "cell_type": "code",
      "execution_count": null,
      "metadata": {
        "id": "_GbatvuW_XT-"
      },
      "outputs": [],
      "source": [
        "merged_jan2010_Jul2023.to_csv('data/merged_jan2010_Jul2023.csv', index=False)"
      ]
    },
    {
      "cell_type": "markdown",
      "metadata": {
        "id": "X82_KbQI_XT-"
      },
      "source": [
        "## **Check merged_jan2010_jul2023.csv**"
      ]
    },
    {
      "cell_type": "code",
      "execution_count": null,
      "metadata": {
        "id": "GyP1ubh4_XT-"
      },
      "outputs": [],
      "source": [
        "final_df = pd.read_csv('data/merged_jan2010_Jul2023.csv', parse_dates=['Occurrence Date'], dtype={'Beat': str, 'ZIP Code': str, 'Offense Count': float, 'numeric': int})"
      ]
    },
    {
      "cell_type": "code",
      "execution_count": null,
      "metadata": {
        "id": "rWq4Uq8I_XT_",
        "outputId": "7a313f08-e6af-40f9-92b8-4b45353da7ff"
      },
      "outputs": [
        {
          "data": {
            "text/html": [
              "<div>\n",
              "<style scoped>\n",
              "    .dataframe tbody tr th:only-of-type {\n",
              "        vertical-align: middle;\n",
              "    }\n",
              "\n",
              "    .dataframe tbody tr th {\n",
              "        vertical-align: top;\n",
              "    }\n",
              "\n",
              "    .dataframe thead th {\n",
              "        text-align: right;\n",
              "    }\n",
              "</style>\n",
              "<table border=\"1\" class=\"dataframe\">\n",
              "  <thead>\n",
              "    <tr style=\"text-align: right;\">\n",
              "      <th></th>\n",
              "      <th>Occurrence Date</th>\n",
              "      <th>Occurrence Hour</th>\n",
              "      <th>NIBRS Description</th>\n",
              "      <th>Offense Count</th>\n",
              "      <th>Beat</th>\n",
              "      <th>Premise</th>\n",
              "      <th>Block Range</th>\n",
              "      <th>Street Name</th>\n",
              "      <th>Street Type</th>\n",
              "      <th>Suffix</th>\n",
              "      <th>Incident</th>\n",
              "      <th>NIBRS Class</th>\n",
              "      <th>City</th>\n",
              "      <th>ZIP Code</th>\n",
              "      <th>Street No</th>\n",
              "      <th>MapLongitude</th>\n",
              "      <th>MapLatitude</th>\n",
              "    </tr>\n",
              "  </thead>\n",
              "  <tbody>\n",
              "    <tr>\n",
              "      <th>0</th>\n",
              "      <td>2010-01-01</td>\n",
              "      <td>8.0</td>\n",
              "      <td>Theft</td>\n",
              "      <td>1.0</td>\n",
              "      <td>3B10</td>\n",
              "      <td>20R</td>\n",
              "      <td>4900-4999</td>\n",
              "      <td>POINCIANA</td>\n",
              "      <td>DR</td>\n",
              "      <td>-</td>\n",
              "      <td>NaN</td>\n",
              "      <td>NaN</td>\n",
              "      <td>NaN</td>\n",
              "      <td>NaN</td>\n",
              "      <td>NaN</td>\n",
              "      <td>NaN</td>\n",
              "      <td>NaN</td>\n",
              "    </tr>\n",
              "    <tr>\n",
              "      <th>1</th>\n",
              "      <td>2010-01-01</td>\n",
              "      <td>18.0</td>\n",
              "      <td>Theft</td>\n",
              "      <td>1.0</td>\n",
              "      <td>5F20</td>\n",
              "      <td>20D</td>\n",
              "      <td>8700-8799</td>\n",
              "      <td>HAMMERLY</td>\n",
              "      <td>-</td>\n",
              "      <td>-</td>\n",
              "      <td>NaN</td>\n",
              "      <td>NaN</td>\n",
              "      <td>NaN</td>\n",
              "      <td>NaN</td>\n",
              "      <td>NaN</td>\n",
              "      <td>NaN</td>\n",
              "      <td>NaN</td>\n",
              "    </tr>\n",
              "    <tr>\n",
              "      <th>2</th>\n",
              "      <td>2010-01-01</td>\n",
              "      <td>0.0</td>\n",
              "      <td>Burglary</td>\n",
              "      <td>1.0</td>\n",
              "      <td>1A10</td>\n",
              "      <td>05O</td>\n",
              "      <td>400-499</td>\n",
              "      <td>MAIN</td>\n",
              "      <td>ST</td>\n",
              "      <td>-</td>\n",
              "      <td>NaN</td>\n",
              "      <td>NaN</td>\n",
              "      <td>NaN</td>\n",
              "      <td>NaN</td>\n",
              "      <td>NaN</td>\n",
              "      <td>NaN</td>\n",
              "      <td>NaN</td>\n",
              "    </tr>\n",
              "    <tr>\n",
              "      <th>3</th>\n",
              "      <td>2010-01-01</td>\n",
              "      <td>0.0</td>\n",
              "      <td>Theft</td>\n",
              "      <td>1.0</td>\n",
              "      <td>7C10</td>\n",
              "      <td>20R</td>\n",
              "      <td>1900-1999</td>\n",
              "      <td>LOCKWOOD</td>\n",
              "      <td>DR</td>\n",
              "      <td>-</td>\n",
              "      <td>NaN</td>\n",
              "      <td>NaN</td>\n",
              "      <td>NaN</td>\n",
              "      <td>NaN</td>\n",
              "      <td>NaN</td>\n",
              "      <td>NaN</td>\n",
              "      <td>NaN</td>\n",
              "    </tr>\n",
              "    <tr>\n",
              "      <th>4</th>\n",
              "      <td>2010-01-01</td>\n",
              "      <td>10.0</td>\n",
              "      <td>Theft</td>\n",
              "      <td>1.0</td>\n",
              "      <td>18F20</td>\n",
              "      <td>18A</td>\n",
              "      <td>3300-3399</td>\n",
              "      <td>MCCUE</td>\n",
              "      <td>RD</td>\n",
              "      <td>-</td>\n",
              "      <td>NaN</td>\n",
              "      <td>NaN</td>\n",
              "      <td>NaN</td>\n",
              "      <td>NaN</td>\n",
              "      <td>NaN</td>\n",
              "      <td>NaN</td>\n",
              "      <td>NaN</td>\n",
              "    </tr>\n",
              "  </tbody>\n",
              "</table>\n",
              "</div>"
            ],
            "text/plain": [
              "  Occurrence Date Occurrence Hour NIBRS Description  Offense Count   Beat  \\\n",
              "0      2010-01-01             8.0             Theft            1.0   3B10   \n",
              "1      2010-01-01            18.0             Theft            1.0   5F20   \n",
              "2      2010-01-01             0.0          Burglary            1.0   1A10   \n",
              "3      2010-01-01             0.0             Theft            1.0   7C10   \n",
              "4      2010-01-01            10.0             Theft            1.0  18F20   \n",
              "\n",
              "  Premise Block Range Street Name Street Type Suffix  Incident NIBRS Class  \\\n",
              "0     20R   4900-4999   POINCIANA          DR      -       NaN         NaN   \n",
              "1     20D   8700-8799    HAMMERLY           -      -       NaN         NaN   \n",
              "2     05O     400-499        MAIN          ST      -       NaN         NaN   \n",
              "3     20R   1900-1999    LOCKWOOD          DR      -       NaN         NaN   \n",
              "4     18A   3300-3399       MCCUE          RD      -       NaN         NaN   \n",
              "\n",
              "  City ZIP Code Street No  MapLongitude  MapLatitude  \n",
              "0  NaN      NaN       NaN           NaN          NaN  \n",
              "1  NaN      NaN       NaN           NaN          NaN  \n",
              "2  NaN      NaN       NaN           NaN          NaN  \n",
              "3  NaN      NaN       NaN           NaN          NaN  \n",
              "4  NaN      NaN       NaN           NaN          NaN  "
            ]
          },
          "execution_count": 113,
          "metadata": {},
          "output_type": "execute_result"
        }
      ],
      "source": [
        "final_df.head()"
      ]
    },
    {
      "cell_type": "code",
      "execution_count": null,
      "metadata": {
        "id": "IE1SR62H_XT_",
        "outputId": "22776a5f-0a7c-443e-fdf1-7c1480c6a79d"
      },
      "outputs": [
        {
          "data": {
            "text/html": [
              "<div>\n",
              "<style scoped>\n",
              "    .dataframe tbody tr th:only-of-type {\n",
              "        vertical-align: middle;\n",
              "    }\n",
              "\n",
              "    .dataframe tbody tr th {\n",
              "        vertical-align: top;\n",
              "    }\n",
              "\n",
              "    .dataframe thead th {\n",
              "        text-align: right;\n",
              "    }\n",
              "</style>\n",
              "<table border=\"1\" class=\"dataframe\">\n",
              "  <thead>\n",
              "    <tr style=\"text-align: right;\">\n",
              "      <th></th>\n",
              "      <th>Occurrence Date</th>\n",
              "      <th>Occurrence Hour</th>\n",
              "      <th>NIBRS Description</th>\n",
              "      <th>Offense Count</th>\n",
              "      <th>Beat</th>\n",
              "      <th>Premise</th>\n",
              "      <th>Block Range</th>\n",
              "      <th>Street Name</th>\n",
              "      <th>Street Type</th>\n",
              "      <th>Suffix</th>\n",
              "      <th>Incident</th>\n",
              "      <th>NIBRS Class</th>\n",
              "      <th>City</th>\n",
              "      <th>ZIP Code</th>\n",
              "      <th>Street No</th>\n",
              "      <th>MapLongitude</th>\n",
              "      <th>MapLatitude</th>\n",
              "    </tr>\n",
              "  </thead>\n",
              "  <tbody>\n",
              "    <tr>\n",
              "      <th>2307145</th>\n",
              "      <td>2023-07-15</td>\n",
              "      <td>12.0</td>\n",
              "      <td>Theft from motor vehicle</td>\n",
              "      <td>1.0</td>\n",
              "      <td>NaN</td>\n",
              "      <td>Highway, Road, Street, Alley</td>\n",
              "      <td>NaN</td>\n",
              "      <td>VICTOR</td>\n",
              "      <td>ST</td>\n",
              "      <td>NaN</td>\n",
              "      <td>100500323.0</td>\n",
              "      <td>23F</td>\n",
              "      <td>HOUSTON</td>\n",
              "      <td>NaN</td>\n",
              "      <td>700</td>\n",
              "      <td>NaN</td>\n",
              "      <td>NaN</td>\n",
              "    </tr>\n",
              "    <tr>\n",
              "      <th>2307146</th>\n",
              "      <td>2023-07-15</td>\n",
              "      <td>12.0</td>\n",
              "      <td>Destruction, damage, vandalism</td>\n",
              "      <td>1.0</td>\n",
              "      <td>NaN</td>\n",
              "      <td>Highway, Road, Street, Alley</td>\n",
              "      <td>NaN</td>\n",
              "      <td>VICTOR</td>\n",
              "      <td>ST</td>\n",
              "      <td>NaN</td>\n",
              "      <td>100500323.0</td>\n",
              "      <td>290</td>\n",
              "      <td>HOUSTON</td>\n",
              "      <td>NaN</td>\n",
              "      <td>700</td>\n",
              "      <td>NaN</td>\n",
              "      <td>NaN</td>\n",
              "    </tr>\n",
              "    <tr>\n",
              "      <th>2307147</th>\n",
              "      <td>2023-07-16</td>\n",
              "      <td>16.0</td>\n",
              "      <td>Trespass of real property</td>\n",
              "      <td>1.0</td>\n",
              "      <td>NaN</td>\n",
              "      <td>Residence, Home (Includes Apartment)</td>\n",
              "      <td>NaN</td>\n",
              "      <td>CULLEN</td>\n",
              "      <td>BLVD</td>\n",
              "      <td>NaN</td>\n",
              "      <td>101013423.0</td>\n",
              "      <td>90J</td>\n",
              "      <td>CU</td>\n",
              "      <td>NaN</td>\n",
              "      <td>7300</td>\n",
              "      <td>-95.365814</td>\n",
              "      <td>29.683107</td>\n",
              "    </tr>\n",
              "    <tr>\n",
              "      <th>2307148</th>\n",
              "      <td>2023-07-28</td>\n",
              "      <td>7.0</td>\n",
              "      <td>Drug equipment violations</td>\n",
              "      <td>1.0</td>\n",
              "      <td>NaN</td>\n",
              "      <td>Highway, Road, Street, Alley</td>\n",
              "      <td>NaN</td>\n",
              "      <td>TIDWELL</td>\n",
              "      <td>RD</td>\n",
              "      <td>NaN</td>\n",
              "      <td>107036723.0</td>\n",
              "      <td>35B</td>\n",
              "      <td>HOUSTON</td>\n",
              "      <td>NaN</td>\n",
              "      <td>4840</td>\n",
              "      <td>NaN</td>\n",
              "      <td>NaN</td>\n",
              "    </tr>\n",
              "    <tr>\n",
              "      <th>2307149</th>\n",
              "      <td>2023-07-29</td>\n",
              "      <td>3.0</td>\n",
              "      <td>Aggravated Assault</td>\n",
              "      <td>1.0</td>\n",
              "      <td>NaN</td>\n",
              "      <td>Drug Store, Doctors Office, Hospital</td>\n",
              "      <td>NaN</td>\n",
              "      <td>SAINT JOSEPHS</td>\n",
              "      <td>PKWY</td>\n",
              "      <td>NaN</td>\n",
              "      <td>107531223.0</td>\n",
              "      <td>13A</td>\n",
              "      <td>HOUSTON</td>\n",
              "      <td>77002</td>\n",
              "      <td>1401</td>\n",
              "      <td>NaN</td>\n",
              "      <td>NaN</td>\n",
              "    </tr>\n",
              "  </tbody>\n",
              "</table>\n",
              "</div>"
            ],
            "text/plain": [
              "        Occurrence Date Occurrence Hour               NIBRS Description  \\\n",
              "2307145      2023-07-15            12.0        Theft from motor vehicle   \n",
              "2307146      2023-07-15            12.0  Destruction, damage, vandalism   \n",
              "2307147      2023-07-16            16.0       Trespass of real property   \n",
              "2307148      2023-07-28             7.0       Drug equipment violations   \n",
              "2307149      2023-07-29             3.0              Aggravated Assault   \n",
              "\n",
              "         Offense Count Beat                               Premise Block Range  \\\n",
              "2307145            1.0  NaN          Highway, Road, Street, Alley         NaN   \n",
              "2307146            1.0  NaN          Highway, Road, Street, Alley         NaN   \n",
              "2307147            1.0  NaN  Residence, Home (Includes Apartment)         NaN   \n",
              "2307148            1.0  NaN          Highway, Road, Street, Alley         NaN   \n",
              "2307149            1.0  NaN  Drug Store, Doctors Office, Hospital         NaN   \n",
              "\n",
              "           Street Name Street Type Suffix     Incident NIBRS Class     City  \\\n",
              "2307145         VICTOR          ST    NaN  100500323.0         23F  HOUSTON   \n",
              "2307146         VICTOR          ST    NaN  100500323.0         290  HOUSTON   \n",
              "2307147         CULLEN        BLVD    NaN  101013423.0         90J       CU   \n",
              "2307148        TIDWELL          RD    NaN  107036723.0         35B  HOUSTON   \n",
              "2307149  SAINT JOSEPHS        PKWY    NaN  107531223.0         13A  HOUSTON   \n",
              "\n",
              "        ZIP Code Street No  MapLongitude  MapLatitude  \n",
              "2307145      NaN       700           NaN          NaN  \n",
              "2307146      NaN       700           NaN          NaN  \n",
              "2307147      NaN      7300    -95.365814    29.683107  \n",
              "2307148      NaN      4840           NaN          NaN  \n",
              "2307149    77002      1401           NaN          NaN  "
            ]
          },
          "execution_count": 114,
          "metadata": {},
          "output_type": "execute_result"
        }
      ],
      "source": [
        "final_df.tail()"
      ]
    },
    {
      "cell_type": "code",
      "execution_count": null,
      "metadata": {
        "id": "Cpda3hoR_XT_",
        "outputId": "fa082f0b-8b0f-4add-cf5c-528537b26193"
      },
      "outputs": [
        {
          "name": "stdout",
          "output_type": "stream",
          "text": [
            "<class 'pandas.core.frame.DataFrame'>\n",
            "RangeIndex: 2307150 entries, 0 to 2307149\n",
            "Data columns (total 17 columns):\n",
            " #   Column             Dtype         \n",
            "---  ------             -----         \n",
            " 0   Occurrence Date    datetime64[ns]\n",
            " 1   Occurrence Hour    object        \n",
            " 2   NIBRS Description  object        \n",
            " 3   Offense Count      float64       \n",
            " 4   Beat               object        \n",
            " 5   Premise            object        \n",
            " 6   Block Range        object        \n",
            " 7   Street Name        object        \n",
            " 8   Street Type        object        \n",
            " 9   Suffix             object        \n",
            " 10  Incident           float64       \n",
            " 11  NIBRS Class        object        \n",
            " 12  City               object        \n",
            " 13  ZIP Code           object        \n",
            " 14  Street No          object        \n",
            " 15  MapLongitude       float64       \n",
            " 16  MapLatitude        float64       \n",
            "dtypes: datetime64[ns](1), float64(4), object(12)\n",
            "memory usage: 299.2+ MB\n"
          ]
        }
      ],
      "source": [
        "final_df.info()"
      ]
    },
    {
      "cell_type": "code",
      "execution_count": null,
      "metadata": {
        "id": "rUIswgtt_XUA",
        "outputId": "834f2010-c249-4b28-e316-b3d17d6af993"
      },
      "outputs": [
        {
          "data": {
            "text/html": [
              "<div>\n",
              "<style scoped>\n",
              "    .dataframe tbody tr th:only-of-type {\n",
              "        vertical-align: middle;\n",
              "    }\n",
              "\n",
              "    .dataframe tbody tr th {\n",
              "        vertical-align: top;\n",
              "    }\n",
              "\n",
              "    .dataframe thead th {\n",
              "        text-align: right;\n",
              "    }\n",
              "</style>\n",
              "<table border=\"1\" class=\"dataframe\">\n",
              "  <thead>\n",
              "    <tr style=\"text-align: right;\">\n",
              "      <th></th>\n",
              "      <th>Offense Count</th>\n",
              "      <th>Incident</th>\n",
              "      <th>MapLongitude</th>\n",
              "      <th>MapLatitude</th>\n",
              "    </tr>\n",
              "  </thead>\n",
              "  <tbody>\n",
              "    <tr>\n",
              "      <th>count</th>\n",
              "      <td>2.296840e+06</td>\n",
              "      <td>1.111335e+06</td>\n",
              "      <td>392147.000000</td>\n",
              "      <td>392147.000000</td>\n",
              "    </tr>\n",
              "    <tr>\n",
              "      <th>mean</th>\n",
              "      <td>1.026311e+00</td>\n",
              "      <td>8.318521e+07</td>\n",
              "      <td>-95.416751</td>\n",
              "      <td>29.755169</td>\n",
              "    </tr>\n",
              "    <tr>\n",
              "      <th>std</th>\n",
              "      <td>2.115527e-01</td>\n",
              "      <td>5.002611e+07</td>\n",
              "      <td>0.111731</td>\n",
              "      <td>0.093016</td>\n",
              "    </tr>\n",
              "    <tr>\n",
              "      <th>min</th>\n",
              "      <td>0.000000e+00</td>\n",
              "      <td>5.200000e+02</td>\n",
              "      <td>-95.997926</td>\n",
              "      <td>29.385800</td>\n",
              "    </tr>\n",
              "    <tr>\n",
              "      <th>25%</th>\n",
              "      <td>1.000000e+00</td>\n",
              "      <td>4.085922e+07</td>\n",
              "      <td>-95.504777</td>\n",
              "      <td>29.688916</td>\n",
              "    </tr>\n",
              "    <tr>\n",
              "      <th>50%</th>\n",
              "      <td>1.000000e+00</td>\n",
              "      <td>8.117652e+07</td>\n",
              "      <td>-95.411035</td>\n",
              "      <td>29.740215</td>\n",
              "    </tr>\n",
              "    <tr>\n",
              "      <th>75%</th>\n",
              "      <td>1.000000e+00</td>\n",
              "      <td>1.241803e+08</td>\n",
              "      <td>-95.342364</td>\n",
              "      <td>29.812019</td>\n",
              "    </tr>\n",
              "    <tr>\n",
              "      <th>max</th>\n",
              "      <td>6.500000e+01</td>\n",
              "      <td>9.962491e+08</td>\n",
              "      <td>-94.870391</td>\n",
              "      <td>30.219917</td>\n",
              "    </tr>\n",
              "  </tbody>\n",
              "</table>\n",
              "</div>"
            ],
            "text/plain": [
              "       Offense Count      Incident   MapLongitude    MapLatitude\n",
              "count   2.296840e+06  1.111335e+06  392147.000000  392147.000000\n",
              "mean    1.026311e+00  8.318521e+07     -95.416751      29.755169\n",
              "std     2.115527e-01  5.002611e+07       0.111731       0.093016\n",
              "min     0.000000e+00  5.200000e+02     -95.997926      29.385800\n",
              "25%     1.000000e+00  4.085922e+07     -95.504777      29.688916\n",
              "50%     1.000000e+00  8.117652e+07     -95.411035      29.740215\n",
              "75%     1.000000e+00  1.241803e+08     -95.342364      29.812019\n",
              "max     6.500000e+01  9.962491e+08     -94.870391      30.219917"
            ]
          },
          "execution_count": 106,
          "metadata": {},
          "output_type": "execute_result"
        }
      ],
      "source": [
        "final_df.describe()"
      ]
    },
    {
      "cell_type": "code",
      "execution_count": null,
      "metadata": {
        "id": "RBm5QJZX_XUA",
        "outputId": "ce121586-18ba-4e97-f7d3-5ca0acb5dadc"
      },
      "outputs": [
        {
          "data": {
            "text/html": [
              "<div>\n",
              "<style scoped>\n",
              "    .dataframe tbody tr th:only-of-type {\n",
              "        vertical-align: middle;\n",
              "    }\n",
              "\n",
              "    .dataframe tbody tr th {\n",
              "        vertical-align: top;\n",
              "    }\n",
              "\n",
              "    .dataframe thead th {\n",
              "        text-align: right;\n",
              "    }\n",
              "</style>\n",
              "<table border=\"1\" class=\"dataframe\">\n",
              "  <thead>\n",
              "    <tr style=\"text-align: right;\">\n",
              "      <th></th>\n",
              "      <th>Occurrence Date</th>\n",
              "      <th>Occurrence Hour</th>\n",
              "      <th>NIBRS Description</th>\n",
              "      <th>Offense Count</th>\n",
              "      <th>Beat</th>\n",
              "      <th>Premise</th>\n",
              "      <th>Block Range</th>\n",
              "      <th>Street Name</th>\n",
              "      <th>Street Type</th>\n",
              "      <th>Suffix</th>\n",
              "      <th>Incident</th>\n",
              "      <th>NIBRS Class</th>\n",
              "      <th>City</th>\n",
              "      <th>ZIP Code</th>\n",
              "      <th>Street No</th>\n",
              "      <th>MapLongitude</th>\n",
              "      <th>MapLatitude</th>\n",
              "    </tr>\n",
              "  </thead>\n",
              "  <tbody>\n",
              "    <tr>\n",
              "      <th>count</th>\n",
              "      <td>2307150</td>\n",
              "      <td>2307150.0</td>\n",
              "      <td>2307150</td>\n",
              "      <td>2.296840e+06</td>\n",
              "      <td>2306200</td>\n",
              "      <td>2273617</td>\n",
              "      <td>1660244</td>\n",
              "      <td>2307149</td>\n",
              "      <td>2209899</td>\n",
              "      <td>1234093</td>\n",
              "      <td>1.111335e+06</td>\n",
              "      <td>1111335</td>\n",
              "      <td>1111335</td>\n",
              "      <td>1097813</td>\n",
              "      <td>642415</td>\n",
              "      <td>392147.000000</td>\n",
              "      <td>392147.000000</td>\n",
              "    </tr>\n",
              "    <tr>\n",
              "      <th>unique</th>\n",
              "      <td>4960</td>\n",
              "      <td>100.0</td>\n",
              "      <td>77</td>\n",
              "      <td>NaN</td>\n",
              "      <td>368</td>\n",
              "      <td>428</td>\n",
              "      <td>14578</td>\n",
              "      <td>35934</td>\n",
              "      <td>56</td>\n",
              "      <td>5</td>\n",
              "      <td>NaN</td>\n",
              "      <td>62</td>\n",
              "      <td>308</td>\n",
              "      <td>479</td>\n",
              "      <td>15154</td>\n",
              "      <td>NaN</td>\n",
              "      <td>NaN</td>\n",
              "    </tr>\n",
              "    <tr>\n",
              "      <th>top</th>\n",
              "      <td>2022-04-01 00:00:00</td>\n",
              "      <td>12.0</td>\n",
              "      <td>Theft</td>\n",
              "      <td>NaN</td>\n",
              "      <td>12D10</td>\n",
              "      <td>Residence, Home (Includes Apartment)</td>\n",
              "      <td>900-999</td>\n",
              "      <td>WESTHEIMER</td>\n",
              "      <td>ST</td>\n",
              "      <td>-</td>\n",
              "      <td>NaN</td>\n",
              "      <td>23F</td>\n",
              "      <td>HOUSTON</td>\n",
              "      <td>77036</td>\n",
              "      <td>2800</td>\n",
              "      <td>NaN</td>\n",
              "      <td>NaN</td>\n",
              "    </tr>\n",
              "    <tr>\n",
              "      <th>freq</th>\n",
              "      <td>900</td>\n",
              "      <td>119378.0</td>\n",
              "      <td>573377</td>\n",
              "      <td>NaN</td>\n",
              "      <td>47541</td>\n",
              "      <td>460679</td>\n",
              "      <td>16556</td>\n",
              "      <td>63948</td>\n",
              "      <td>509835</td>\n",
              "      <td>908229</td>\n",
              "      <td>NaN</td>\n",
              "      <td>127621</td>\n",
              "      <td>1106033</td>\n",
              "      <td>37286</td>\n",
              "      <td>2273</td>\n",
              "      <td>NaN</td>\n",
              "      <td>NaN</td>\n",
              "    </tr>\n",
              "    <tr>\n",
              "      <th>first</th>\n",
              "      <td>2010-01-01 00:00:00</td>\n",
              "      <td>NaN</td>\n",
              "      <td>NaN</td>\n",
              "      <td>NaN</td>\n",
              "      <td>NaN</td>\n",
              "      <td>NaN</td>\n",
              "      <td>NaN</td>\n",
              "      <td>NaN</td>\n",
              "      <td>NaN</td>\n",
              "      <td>NaN</td>\n",
              "      <td>NaN</td>\n",
              "      <td>NaN</td>\n",
              "      <td>NaN</td>\n",
              "      <td>NaN</td>\n",
              "      <td>NaN</td>\n",
              "      <td>NaN</td>\n",
              "      <td>NaN</td>\n",
              "    </tr>\n",
              "    <tr>\n",
              "      <th>last</th>\n",
              "      <td>2023-07-31 00:00:00</td>\n",
              "      <td>NaN</td>\n",
              "      <td>NaN</td>\n",
              "      <td>NaN</td>\n",
              "      <td>NaN</td>\n",
              "      <td>NaN</td>\n",
              "      <td>NaN</td>\n",
              "      <td>NaN</td>\n",
              "      <td>NaN</td>\n",
              "      <td>NaN</td>\n",
              "      <td>NaN</td>\n",
              "      <td>NaN</td>\n",
              "      <td>NaN</td>\n",
              "      <td>NaN</td>\n",
              "      <td>NaN</td>\n",
              "      <td>NaN</td>\n",
              "      <td>NaN</td>\n",
              "    </tr>\n",
              "    <tr>\n",
              "      <th>mean</th>\n",
              "      <td>NaN</td>\n",
              "      <td>NaN</td>\n",
              "      <td>NaN</td>\n",
              "      <td>1.026311e+00</td>\n",
              "      <td>NaN</td>\n",
              "      <td>NaN</td>\n",
              "      <td>NaN</td>\n",
              "      <td>NaN</td>\n",
              "      <td>NaN</td>\n",
              "      <td>NaN</td>\n",
              "      <td>8.318521e+07</td>\n",
              "      <td>NaN</td>\n",
              "      <td>NaN</td>\n",
              "      <td>NaN</td>\n",
              "      <td>NaN</td>\n",
              "      <td>-95.416751</td>\n",
              "      <td>29.755169</td>\n",
              "    </tr>\n",
              "    <tr>\n",
              "      <th>std</th>\n",
              "      <td>NaN</td>\n",
              "      <td>NaN</td>\n",
              "      <td>NaN</td>\n",
              "      <td>2.115527e-01</td>\n",
              "      <td>NaN</td>\n",
              "      <td>NaN</td>\n",
              "      <td>NaN</td>\n",
              "      <td>NaN</td>\n",
              "      <td>NaN</td>\n",
              "      <td>NaN</td>\n",
              "      <td>5.002611e+07</td>\n",
              "      <td>NaN</td>\n",
              "      <td>NaN</td>\n",
              "      <td>NaN</td>\n",
              "      <td>NaN</td>\n",
              "      <td>0.111731</td>\n",
              "      <td>0.093016</td>\n",
              "    </tr>\n",
              "    <tr>\n",
              "      <th>min</th>\n",
              "      <td>NaN</td>\n",
              "      <td>NaN</td>\n",
              "      <td>NaN</td>\n",
              "      <td>0.000000e+00</td>\n",
              "      <td>NaN</td>\n",
              "      <td>NaN</td>\n",
              "      <td>NaN</td>\n",
              "      <td>NaN</td>\n",
              "      <td>NaN</td>\n",
              "      <td>NaN</td>\n",
              "      <td>5.200000e+02</td>\n",
              "      <td>NaN</td>\n",
              "      <td>NaN</td>\n",
              "      <td>NaN</td>\n",
              "      <td>NaN</td>\n",
              "      <td>-95.997926</td>\n",
              "      <td>29.385800</td>\n",
              "    </tr>\n",
              "    <tr>\n",
              "      <th>25%</th>\n",
              "      <td>NaN</td>\n",
              "      <td>NaN</td>\n",
              "      <td>NaN</td>\n",
              "      <td>1.000000e+00</td>\n",
              "      <td>NaN</td>\n",
              "      <td>NaN</td>\n",
              "      <td>NaN</td>\n",
              "      <td>NaN</td>\n",
              "      <td>NaN</td>\n",
              "      <td>NaN</td>\n",
              "      <td>4.085922e+07</td>\n",
              "      <td>NaN</td>\n",
              "      <td>NaN</td>\n",
              "      <td>NaN</td>\n",
              "      <td>NaN</td>\n",
              "      <td>-95.504777</td>\n",
              "      <td>29.688916</td>\n",
              "    </tr>\n",
              "    <tr>\n",
              "      <th>50%</th>\n",
              "      <td>NaN</td>\n",
              "      <td>NaN</td>\n",
              "      <td>NaN</td>\n",
              "      <td>1.000000e+00</td>\n",
              "      <td>NaN</td>\n",
              "      <td>NaN</td>\n",
              "      <td>NaN</td>\n",
              "      <td>NaN</td>\n",
              "      <td>NaN</td>\n",
              "      <td>NaN</td>\n",
              "      <td>8.117652e+07</td>\n",
              "      <td>NaN</td>\n",
              "      <td>NaN</td>\n",
              "      <td>NaN</td>\n",
              "      <td>NaN</td>\n",
              "      <td>-95.411035</td>\n",
              "      <td>29.740215</td>\n",
              "    </tr>\n",
              "    <tr>\n",
              "      <th>75%</th>\n",
              "      <td>NaN</td>\n",
              "      <td>NaN</td>\n",
              "      <td>NaN</td>\n",
              "      <td>1.000000e+00</td>\n",
              "      <td>NaN</td>\n",
              "      <td>NaN</td>\n",
              "      <td>NaN</td>\n",
              "      <td>NaN</td>\n",
              "      <td>NaN</td>\n",
              "      <td>NaN</td>\n",
              "      <td>1.241803e+08</td>\n",
              "      <td>NaN</td>\n",
              "      <td>NaN</td>\n",
              "      <td>NaN</td>\n",
              "      <td>NaN</td>\n",
              "      <td>-95.342364</td>\n",
              "      <td>29.812019</td>\n",
              "    </tr>\n",
              "    <tr>\n",
              "      <th>max</th>\n",
              "      <td>NaN</td>\n",
              "      <td>NaN</td>\n",
              "      <td>NaN</td>\n",
              "      <td>6.500000e+01</td>\n",
              "      <td>NaN</td>\n",
              "      <td>NaN</td>\n",
              "      <td>NaN</td>\n",
              "      <td>NaN</td>\n",
              "      <td>NaN</td>\n",
              "      <td>NaN</td>\n",
              "      <td>9.962491e+08</td>\n",
              "      <td>NaN</td>\n",
              "      <td>NaN</td>\n",
              "      <td>NaN</td>\n",
              "      <td>NaN</td>\n",
              "      <td>-94.870391</td>\n",
              "      <td>30.219917</td>\n",
              "    </tr>\n",
              "  </tbody>\n",
              "</table>\n",
              "</div>"
            ],
            "text/plain": [
              "            Occurrence Date  Occurrence Hour NIBRS Description  Offense Count  \\\n",
              "count               2307150        2307150.0           2307150   2.296840e+06   \n",
              "unique                 4960            100.0                77            NaN   \n",
              "top     2022-04-01 00:00:00             12.0             Theft            NaN   \n",
              "freq                    900         119378.0            573377            NaN   \n",
              "first   2010-01-01 00:00:00              NaN               NaN            NaN   \n",
              "last    2023-07-31 00:00:00              NaN               NaN            NaN   \n",
              "mean                    NaN              NaN               NaN   1.026311e+00   \n",
              "std                     NaN              NaN               NaN   2.115527e-01   \n",
              "min                     NaN              NaN               NaN   0.000000e+00   \n",
              "25%                     NaN              NaN               NaN   1.000000e+00   \n",
              "50%                     NaN              NaN               NaN   1.000000e+00   \n",
              "75%                     NaN              NaN               NaN   1.000000e+00   \n",
              "max                     NaN              NaN               NaN   6.500000e+01   \n",
              "\n",
              "           Beat                               Premise Block Range Street Name  \\\n",
              "count   2306200                               2273617     1660244     2307149   \n",
              "unique      368                                   428       14578       35934   \n",
              "top       12D10  Residence, Home (Includes Apartment)     900-999  WESTHEIMER   \n",
              "freq      47541                                460679       16556       63948   \n",
              "first       NaN                                   NaN         NaN         NaN   \n",
              "last        NaN                                   NaN         NaN         NaN   \n",
              "mean        NaN                                   NaN         NaN         NaN   \n",
              "std         NaN                                   NaN         NaN         NaN   \n",
              "min         NaN                                   NaN         NaN         NaN   \n",
              "25%         NaN                                   NaN         NaN         NaN   \n",
              "50%         NaN                                   NaN         NaN         NaN   \n",
              "75%         NaN                                   NaN         NaN         NaN   \n",
              "max         NaN                                   NaN         NaN         NaN   \n",
              "\n",
              "       Street Type   Suffix      Incident NIBRS Class     City ZIP Code  \\\n",
              "count      2209899  1234093  1.111335e+06     1111335  1111335  1097813   \n",
              "unique          56        5           NaN          62      308      479   \n",
              "top             ST        -           NaN         23F  HOUSTON    77036   \n",
              "freq        509835   908229           NaN      127621  1106033    37286   \n",
              "first          NaN      NaN           NaN         NaN      NaN      NaN   \n",
              "last           NaN      NaN           NaN         NaN      NaN      NaN   \n",
              "mean           NaN      NaN  8.318521e+07         NaN      NaN      NaN   \n",
              "std            NaN      NaN  5.002611e+07         NaN      NaN      NaN   \n",
              "min            NaN      NaN  5.200000e+02         NaN      NaN      NaN   \n",
              "25%            NaN      NaN  4.085922e+07         NaN      NaN      NaN   \n",
              "50%            NaN      NaN  8.117652e+07         NaN      NaN      NaN   \n",
              "75%            NaN      NaN  1.241803e+08         NaN      NaN      NaN   \n",
              "max            NaN      NaN  9.962491e+08         NaN      NaN      NaN   \n",
              "\n",
              "       Street No   MapLongitude    MapLatitude  \n",
              "count     642415  392147.000000  392147.000000  \n",
              "unique     15154            NaN            NaN  \n",
              "top         2800            NaN            NaN  \n",
              "freq        2273            NaN            NaN  \n",
              "first        NaN            NaN            NaN  \n",
              "last         NaN            NaN            NaN  \n",
              "mean         NaN     -95.416751      29.755169  \n",
              "std          NaN       0.111731       0.093016  \n",
              "min          NaN     -95.997926      29.385800  \n",
              "25%          NaN     -95.504777      29.688916  \n",
              "50%          NaN     -95.411035      29.740215  \n",
              "75%          NaN     -95.342364      29.812019  \n",
              "max          NaN     -94.870391      30.219917  "
            ]
          },
          "execution_count": 107,
          "metadata": {},
          "output_type": "execute_result"
        }
      ],
      "source": [
        "final_df.describe(include='all')"
      ]
    },
    {
      "cell_type": "code",
      "execution_count": null,
      "metadata": {
        "id": "KpAz-BQX_XUA",
        "outputId": "def0a7a0-a6dd-4f8d-b4fb-de74bf1b2f22"
      },
      "outputs": [
        {
          "data": {
            "text/plain": [
              "Occurrence Date            0\n",
              "Occurrence Hour            0\n",
              "NIBRS Description          0\n",
              "Offense Count          10310\n",
              "Beat                     950\n",
              "Premise                33533\n",
              "Block Range           646906\n",
              "Street Name                1\n",
              "Street Type            97251\n",
              "Suffix               1073057\n",
              "Incident             1195815\n",
              "NIBRS Class          1195815\n",
              "City                 1195815\n",
              "ZIP Code             1209337\n",
              "Street No            1664735\n",
              "MapLongitude         1915003\n",
              "MapLatitude          1915003\n",
              "dtype: int64"
            ]
          },
          "execution_count": 108,
          "metadata": {},
          "output_type": "execute_result"
        }
      ],
      "source": [
        "final_df.isna().sum()"
      ]
    }
  ],
  "metadata": {
    "kernelspec": {
      "display_name": "Python 3",
      "language": "python",
      "name": "python3"
    },
    "language_info": {
      "codemirror_mode": {
        "name": "ipython",
        "version": 3
      },
      "file_extension": ".py",
      "mimetype": "text/x-python",
      "name": "python",
      "nbconvert_exporter": "python",
      "pygments_lexer": "ipython3",
      "version": "3.9.13"
    },
    "orig_nbformat": 4,
    "colab": {
      "provenance": []
    }
  },
  "nbformat": 4,
  "nbformat_minor": 0
}