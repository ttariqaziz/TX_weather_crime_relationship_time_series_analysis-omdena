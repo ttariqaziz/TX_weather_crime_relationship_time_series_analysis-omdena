{
  "cells": [
    {
      "cell_type": "markdown",
      "id": "d9cc6189",
      "metadata": {
        "id": "d9cc6189"
      },
      "source": [
        "# Model Deployment"
      ]
    },
    {
      "cell_type": "code",
      "execution_count": null,
      "id": "58ad754c",
      "metadata": {
        "id": "58ad754c"
      },
      "outputs": [],
      "source": [
        "!pip install gradio"
      ]
    },
    {
      "cell_type": "markdown",
      "id": "d4644fef",
      "metadata": {
        "id": "d4644fef"
      },
      "source": [
        "Import the necessary library"
      ]
    },
    {
      "cell_type": "code",
      "source": [
        "!pip install interpret"
      ],
      "metadata": {
        "id": "tXpzaABP79C2"
      },
      "id": "tXpzaABP79C2",
      "execution_count": null,
      "outputs": []
    },
    {
      "cell_type": "code",
      "execution_count": 3,
      "id": "fc81ea29",
      "metadata": {
        "id": "fc81ea29"
      },
      "outputs": [],
      "source": [
        "import gradio as gr\n",
        "import matplotlib.pyplot as plt\n",
        "import pandas as pd\n",
        "import pickle\n",
        "import numpy as np"
      ]
    },
    {
      "cell_type": "code",
      "source": [
        "from google.colab import files\n",
        "upload=files.upload()"
      ],
      "metadata": {
        "colab": {
          "base_uri": "https://localhost:8080/",
          "height": 73
        },
        "id": "SGaeE736yD5c",
        "outputId": "df558c7f-6971-4256-f9b7-58f6cd5b4615"
      },
      "id": "SGaeE736yD5c",
      "execution_count": 5,
      "outputs": [
        {
          "output_type": "display_data",
          "data": {
            "text/plain": [
              "<IPython.core.display.HTML object>"
            ],
            "text/html": [
              "\n",
              "     <input type=\"file\" id=\"files-3dd55634-f6c0-4c8b-b4e9-0b3b01530f68\" name=\"files[]\" multiple disabled\n",
              "        style=\"border:none\" />\n",
              "     <output id=\"result-3dd55634-f6c0-4c8b-b4e9-0b3b01530f68\">\n",
              "      Upload widget is only available when the cell has been executed in the\n",
              "      current browser session. Please rerun this cell to enable.\n",
              "      </output>\n",
              "      <script>// Copyright 2017 Google LLC\n",
              "//\n",
              "// Licensed under the Apache License, Version 2.0 (the \"License\");\n",
              "// you may not use this file except in compliance with the License.\n",
              "// You may obtain a copy of the License at\n",
              "//\n",
              "//      http://www.apache.org/licenses/LICENSE-2.0\n",
              "//\n",
              "// Unless required by applicable law or agreed to in writing, software\n",
              "// distributed under the License is distributed on an \"AS IS\" BASIS,\n",
              "// WITHOUT WARRANTIES OR CONDITIONS OF ANY KIND, either express or implied.\n",
              "// See the License for the specific language governing permissions and\n",
              "// limitations under the License.\n",
              "\n",
              "/**\n",
              " * @fileoverview Helpers for google.colab Python module.\n",
              " */\n",
              "(function(scope) {\n",
              "function span(text, styleAttributes = {}) {\n",
              "  const element = document.createElement('span');\n",
              "  element.textContent = text;\n",
              "  for (const key of Object.keys(styleAttributes)) {\n",
              "    element.style[key] = styleAttributes[key];\n",
              "  }\n",
              "  return element;\n",
              "}\n",
              "\n",
              "// Max number of bytes which will be uploaded at a time.\n",
              "const MAX_PAYLOAD_SIZE = 100 * 1024;\n",
              "\n",
              "function _uploadFiles(inputId, outputId) {\n",
              "  const steps = uploadFilesStep(inputId, outputId);\n",
              "  const outputElement = document.getElementById(outputId);\n",
              "  // Cache steps on the outputElement to make it available for the next call\n",
              "  // to uploadFilesContinue from Python.\n",
              "  outputElement.steps = steps;\n",
              "\n",
              "  return _uploadFilesContinue(outputId);\n",
              "}\n",
              "\n",
              "// This is roughly an async generator (not supported in the browser yet),\n",
              "// where there are multiple asynchronous steps and the Python side is going\n",
              "// to poll for completion of each step.\n",
              "// This uses a Promise to block the python side on completion of each step,\n",
              "// then passes the result of the previous step as the input to the next step.\n",
              "function _uploadFilesContinue(outputId) {\n",
              "  const outputElement = document.getElementById(outputId);\n",
              "  const steps = outputElement.steps;\n",
              "\n",
              "  const next = steps.next(outputElement.lastPromiseValue);\n",
              "  return Promise.resolve(next.value.promise).then((value) => {\n",
              "    // Cache the last promise value to make it available to the next\n",
              "    // step of the generator.\n",
              "    outputElement.lastPromiseValue = value;\n",
              "    return next.value.response;\n",
              "  });\n",
              "}\n",
              "\n",
              "/**\n",
              " * Generator function which is called between each async step of the upload\n",
              " * process.\n",
              " * @param {string} inputId Element ID of the input file picker element.\n",
              " * @param {string} outputId Element ID of the output display.\n",
              " * @return {!Iterable<!Object>} Iterable of next steps.\n",
              " */\n",
              "function* uploadFilesStep(inputId, outputId) {\n",
              "  const inputElement = document.getElementById(inputId);\n",
              "  inputElement.disabled = false;\n",
              "\n",
              "  const outputElement = document.getElementById(outputId);\n",
              "  outputElement.innerHTML = '';\n",
              "\n",
              "  const pickedPromise = new Promise((resolve) => {\n",
              "    inputElement.addEventListener('change', (e) => {\n",
              "      resolve(e.target.files);\n",
              "    });\n",
              "  });\n",
              "\n",
              "  const cancel = document.createElement('button');\n",
              "  inputElement.parentElement.appendChild(cancel);\n",
              "  cancel.textContent = 'Cancel upload';\n",
              "  const cancelPromise = new Promise((resolve) => {\n",
              "    cancel.onclick = () => {\n",
              "      resolve(null);\n",
              "    };\n",
              "  });\n",
              "\n",
              "  // Wait for the user to pick the files.\n",
              "  const files = yield {\n",
              "    promise: Promise.race([pickedPromise, cancelPromise]),\n",
              "    response: {\n",
              "      action: 'starting',\n",
              "    }\n",
              "  };\n",
              "\n",
              "  cancel.remove();\n",
              "\n",
              "  // Disable the input element since further picks are not allowed.\n",
              "  inputElement.disabled = true;\n",
              "\n",
              "  if (!files) {\n",
              "    return {\n",
              "      response: {\n",
              "        action: 'complete',\n",
              "      }\n",
              "    };\n",
              "  }\n",
              "\n",
              "  for (const file of files) {\n",
              "    const li = document.createElement('li');\n",
              "    li.append(span(file.name, {fontWeight: 'bold'}));\n",
              "    li.append(span(\n",
              "        `(${file.type || 'n/a'}) - ${file.size} bytes, ` +\n",
              "        `last modified: ${\n",
              "            file.lastModifiedDate ? file.lastModifiedDate.toLocaleDateString() :\n",
              "                                    'n/a'} - `));\n",
              "    const percent = span('0% done');\n",
              "    li.appendChild(percent);\n",
              "\n",
              "    outputElement.appendChild(li);\n",
              "\n",
              "    const fileDataPromise = new Promise((resolve) => {\n",
              "      const reader = new FileReader();\n",
              "      reader.onload = (e) => {\n",
              "        resolve(e.target.result);\n",
              "      };\n",
              "      reader.readAsArrayBuffer(file);\n",
              "    });\n",
              "    // Wait for the data to be ready.\n",
              "    let fileData = yield {\n",
              "      promise: fileDataPromise,\n",
              "      response: {\n",
              "        action: 'continue',\n",
              "      }\n",
              "    };\n",
              "\n",
              "    // Use a chunked sending to avoid message size limits. See b/62115660.\n",
              "    let position = 0;\n",
              "    do {\n",
              "      const length = Math.min(fileData.byteLength - position, MAX_PAYLOAD_SIZE);\n",
              "      const chunk = new Uint8Array(fileData, position, length);\n",
              "      position += length;\n",
              "\n",
              "      const base64 = btoa(String.fromCharCode.apply(null, chunk));\n",
              "      yield {\n",
              "        response: {\n",
              "          action: 'append',\n",
              "          file: file.name,\n",
              "          data: base64,\n",
              "        },\n",
              "      };\n",
              "\n",
              "      let percentDone = fileData.byteLength === 0 ?\n",
              "          100 :\n",
              "          Math.round((position / fileData.byteLength) * 100);\n",
              "      percent.textContent = `${percentDone}% done`;\n",
              "\n",
              "    } while (position < fileData.byteLength);\n",
              "  }\n",
              "\n",
              "  // All done.\n",
              "  yield {\n",
              "    response: {\n",
              "      action: 'complete',\n",
              "    }\n",
              "  };\n",
              "}\n",
              "\n",
              "scope.google = scope.google || {};\n",
              "scope.google.colab = scope.google.colab || {};\n",
              "scope.google.colab._files = {\n",
              "  _uploadFiles,\n",
              "  _uploadFilesContinue,\n",
              "};\n",
              "})(self);\n",
              "</script> "
            ]
          },
          "metadata": {}
        },
        {
          "output_type": "stream",
          "name": "stdout",
          "text": [
            "Saving daily crime numbers and weather data for time series analysis 1.csv to daily crime numbers and weather data for time series analysis 1.csv\n"
          ]
        }
      ]
    },
    {
      "cell_type": "markdown",
      "id": "97f23e0e",
      "metadata": {
        "id": "97f23e0e"
      },
      "source": [
        "The idea was to have multiple model be deployed and also displayed the visualization page. In Gradio we can have multiple pages for our machine learning model. Currently I created 2 page, it can be added more."
      ]
    },
    {
      "cell_type": "markdown",
      "id": "469a1b41",
      "metadata": {
        "id": "469a1b41"
      },
      "source": [
        "First page is Visualization page (Remarks: This is just a very basic visualization, we would need help on this to create meaningful visualization)"
      ]
    },
    {
      "cell_type": "code",
      "execution_count": 12,
      "id": "f8472203",
      "metadata": {
        "id": "f8472203"
      },
      "outputs": [],
      "source": [
        "title = \"Crime Rate Prediction Based on Weather Forecast\"\n",
        "\n",
        "#app 1 Visualisation\n",
        "def visualization(name):\n",
        "    #df = pd.read_csv('daily crime numbers and weather data for time series analysis.csv', index_col='date', parse_dates=['date'])\n",
        "    df = pd.read_csv('daily crime numbers and weather data for time series analysis 1.csv', index_col='date', parse_dates=['date'])\n",
        "\n",
        "    fig, ax = plt.subplots(figsize=(15, 4))\n",
        "    df.plot(y='Offense Count', ax=ax, label='Dataset', title='Daily Crime Rate - Time Series Analysis', linewidth=1)\n",
        "    plt.xlabel(\"Date\")\n",
        "    plt.ylabel('Offense Count')\n",
        "    plt.grid()\n",
        "    return fig\n",
        "\n",
        "output = gr.Plot()\n"
      ]
    },
    {
      "cell_type": "markdown",
      "id": "4f4e8f1e",
      "metadata": {
        "id": "4f4e8f1e"
      },
      "source": [
        "Second page is the prediction page, we are using EBM model as of now. There are total of 47 features according to the notebook. However, I have manually reset the value to zero if the feature is missing."
      ]
    },
    {
      "cell_type": "code",
      "execution_count": 14,
      "id": "1628560e",
      "metadata": {
        "id": "1628560e"
      },
      "outputs": [],
      "source": [
        "#app 2 Prediction\n",
        "with open(\"ebm.pkl\", \"rb\") as model_file:\n",
        "    model = pickle.load(model_file)\n",
        "\n",
        "\n",
        "def predict_crime_rate(month, year, is_holiday, is_weekend, tempmax, tempmin,\n",
        "                       temp, feelslikemax, feelslikemin, feelslike, dew, humidity,\n",
        "                       precip, precipcover, windgust, windspeed, winddir,\n",
        "                       sealevelpressure, cloudcover, visibility, solarradiation,\n",
        "                       uvindex, moonphase, Clear, Overcast, Partiallycloudy, Rain,\n",
        "                       Snow, daytime_interval, lag_1_Offense_Count,\n",
        "                       lag_2_Offense_Count, lag_3_Offense_Count, lag_4_Offense_Count,\n",
        "                       lag_5_Offense_Count, lag_6_Offense_Count, lag_7_Offense_Count,\n",
        "                       week_Friday, week_Monday, week_Saturday, week_Sunday,\n",
        "                       week_Thursday, week_Tuesday, week_Wednesday, season_Autumn,\n",
        "                       season_Spring, season_Summer, season_Winter):\n",
        "    # Convert all inputs to a NumPy array\n",
        "    input_data = np.array([\n",
        "        [month, year, is_holiday, is_weekend, tempmax, tempmin, temp, feelslikemax, feelslikemin, feelslike, dew, humidity,\n",
        "         precip, precipcover, windgust, windspeed, winddir, sealevelpressure, cloudcover, visibility, solarradiation, uvindex,\n",
        "         moonphase, Clear, Overcast, Partiallycloudy, Rain, Snow, daytime_interval, lag_1_Offense_Count,\n",
        "         lag_2_Offense_Count, lag_3_Offense_Count, lag_4_Offense_Count, lag_5_Offense_Count, lag_6_Offense_Count, lag_7_Offense_Count,\n",
        "         week_Friday, week_Monday, week_Saturday, week_Sunday, week_Thursday, week_Tuesday, week_Wednesday, season_Autumn,\n",
        "         season_Spring, season_Summer, season_Winter]\n",
        "    ])\n",
        "\n",
        "    # Fill in missing values (None) with 0\n",
        "    input_data = np.nan_to_num(input_data)\n",
        "\n",
        "    # Make predictions using your model\n",
        "    prediction = model.predict(input_data)\n",
        "    return f\"Predicted Crime Rate: {prediction[0]:.2f}\"\n",
        "\n"
      ]
    },
    {
      "cell_type": "markdown",
      "id": "fff4b9ca",
      "metadata": {
        "id": "fff4b9ca"
      },
      "source": [
        "This is our input, I believe we need 47 inputs here to have a better prediction. As of now this is the base of it, you can try to create more."
      ]
    },
    {
      "cell_type": "code",
      "execution_count": 15,
      "id": "9fd1af17",
      "metadata": {
        "id": "9fd1af17"
      },
      "outputs": [],
      "source": [
        "input_components = [\n",
        "    gr.Dropdown([1,2,3,4,5,6,7,8,9,10,11,12], label=\"Month\"),\n",
        "    gr.Number(value=2023, label=\"Year\"),\n",
        "    gr.Checkbox(label=\"Is Holiday\"),\n",
        "    gr.Checkbox(label=\"Is Weekend\"),\n",
        "    gr.Slider(minimum=0, maximum=100, value=50, label=\"Temp Max (°C)\"),\n",
        "    gr.Slider(minimum=0, maximum=100, value=50, label=\"Temp Min (°C)\"),\n",
        "    gr.Slider(minimum=0, maximum=100, value=50, label=\"Temp (°C)\"),\n",
        "    gr.Slider(minimum=0, maximum=100, value=50, label=\"Feels Like Max (°C)\"),\n",
        "    gr.Slider(minimum=0, maximum=100, value=50, label=\"Feels Like Min (°C)\"),\n",
        "]"
      ]
    },
    {
      "cell_type": "code",
      "execution_count": null,
      "id": "c6ba6106",
      "metadata": {
        "id": "c6ba6106"
      },
      "outputs": [],
      "source": []
    },
    {
      "cell_type": "markdown",
      "id": "413b03d6",
      "metadata": {
        "id": "413b03d6"
      },
      "source": [
        "Putting everything together, this is how you launch the web application. Again, this is running on local, but i believe deployment of the web should be come next once we have a better idea on our web design."
      ]
    },
    {
      "cell_type": "code",
      "execution_count": 16,
      "id": "ec76440c",
      "metadata": {
        "id": "ec76440c",
        "outputId": "c482f77c-7489-4bfd-a6b1-e631419187d9",
        "colab": {
          "base_uri": "https://localhost:8080/"
        }
      },
      "outputs": [
        {
          "output_type": "stream",
          "name": "stderr",
          "text": [
            "/usr/local/lib/python3.10/dist-packages/gradio/utils.py:812: UserWarning: Expected 1 arguments for function <function visualization at 0x78c61d255f30>, received 0.\n",
            "  warnings.warn(\n",
            "/usr/local/lib/python3.10/dist-packages/gradio/utils.py:816: UserWarning: Expected at least 1 arguments for function <function visualization at 0x78c61d255f30>, received 0.\n",
            "  warnings.warn(\n",
            "/usr/local/lib/python3.10/dist-packages/gradio/utils.py:812: UserWarning: Expected 47 arguments for function <function predict_crime_rate at 0x78c61e1e9ea0>, received 9.\n",
            "  warnings.warn(\n",
            "/usr/local/lib/python3.10/dist-packages/gradio/utils.py:816: UserWarning: Expected at least 47 arguments for function <function predict_crime_rate at 0x78c61e1e9ea0>, received 9.\n",
            "  warnings.warn(\n",
            "/usr/local/lib/python3.10/dist-packages/gradio/blocks.py:1025: UserWarning: api_name predict already exists, using predict_1\n",
            "  warnings.warn(\n"
          ]
        }
      ],
      "source": [
        "#interface 1\n",
        "app1 =  gr.Interface(fn = visualization, inputs=None, outputs=output)\n",
        "\n",
        "#interface 2\n",
        "app2 = gr.Interface(\n",
        "    fn=predict_crime_rate,\n",
        "    inputs=input_components,\n",
        "    outputs=\"text\",\n",
        "    live=True,\n",
        "    title=\"Crime Rate Prediction App\",\n",
        "    description=\"Enter the features for prediction. Missing values will be filled with 0.\",\n",
        ")\n",
        "\n",
        "demo = gr.TabbedInterface([app1, app2], [\"Home Page\", \"EBM Prediction\"])\n"
      ]
    },
    {
      "cell_type": "code",
      "execution_count": 17,
      "id": "fc512525",
      "metadata": {
        "id": "fc512525",
        "outputId": "cb11d04f-57f0-4967-cf4f-d745bacb5390",
        "colab": {
          "base_uri": "https://localhost:8080/",
          "height": 646
        }
      },
      "outputs": [
        {
          "output_type": "stream",
          "name": "stdout",
          "text": [
            "Setting queue=True in a Colab notebook requires sharing enabled. Setting `share=True` (you can turn this off by setting `share=False` in `launch()` explicitly).\n",
            "\n",
            "Colab notebook detected. To show errors in colab notebook, set debug=True in launch()\n",
            "Running on public URL: https://c9fbb5c6407b7aa1fd.gradio.live\n",
            "\n",
            "This share link expires in 72 hours. For free permanent hosting and GPU upgrades, run `gradio deploy` from Terminal to deploy to Spaces (https://huggingface.co/spaces)\n"
          ]
        },
        {
          "output_type": "display_data",
          "data": {
            "text/plain": [
              "<IPython.core.display.HTML object>"
            ],
            "text/html": [
              "<div><iframe src=\"https://c9fbb5c6407b7aa1fd.gradio.live\" width=\"100%\" height=\"500\" allow=\"autoplay; camera; microphone; clipboard-read; clipboard-write;\" frameborder=\"0\" allowfullscreen></iframe></div>"
            ]
          },
          "metadata": {}
        },
        {
          "output_type": "execute_result",
          "data": {
            "text/plain": []
          },
          "metadata": {},
          "execution_count": 17
        }
      ],
      "source": [
        "demo.launch()"
      ]
    },
    {
      "cell_type": "code",
      "execution_count": null,
      "id": "71ed9fce",
      "metadata": {
        "id": "71ed9fce"
      },
      "outputs": [],
      "source": []
    },
    {
      "cell_type": "code",
      "execution_count": null,
      "id": "129d03e6",
      "metadata": {
        "id": "129d03e6"
      },
      "outputs": [],
      "source": []
    },
    {
      "cell_type": "code",
      "execution_count": null,
      "id": "1fbd084b",
      "metadata": {
        "id": "1fbd084b"
      },
      "outputs": [],
      "source": []
    },
    {
      "cell_type": "code",
      "execution_count": null,
      "id": "c0da0686",
      "metadata": {
        "id": "c0da0686"
      },
      "outputs": [],
      "source": []
    },
    {
      "cell_type": "code",
      "execution_count": null,
      "id": "039b2fbe",
      "metadata": {
        "id": "039b2fbe"
      },
      "outputs": [],
      "source": []
    },
    {
      "cell_type": "code",
      "execution_count": null,
      "id": "69155b13",
      "metadata": {
        "id": "69155b13"
      },
      "outputs": [],
      "source": []
    }
  ],
  "metadata": {
    "kernelspec": {
      "display_name": "Python 3 (ipykernel)",
      "language": "python",
      "name": "python3"
    },
    "language_info": {
      "codemirror_mode": {
        "name": "ipython",
        "version": 3
      },
      "file_extension": ".py",
      "mimetype": "text/x-python",
      "name": "python",
      "nbconvert_exporter": "python",
      "pygments_lexer": "ipython3",
      "version": "3.8.12"
    },
    "colab": {
      "provenance": []
    }
  },
  "nbformat": 4,
  "nbformat_minor": 5
}