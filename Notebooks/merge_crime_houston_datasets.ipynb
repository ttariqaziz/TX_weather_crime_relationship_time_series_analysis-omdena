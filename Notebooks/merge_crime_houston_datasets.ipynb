{
  "cells": [
    {
      "cell_type": "markdown",
      "metadata": {
        "id": "G2GJb2AJ_a5S"
      },
      "source": [
        "# **Weather and Crime Relationship in Houston**\n",
        "* Datasets are provided in 3 different formats: mmmyy.xls, mm-yyyy.NIBRS_Public_Data_Group_A&B.xlsx, NIBRSPublicViewMonyy.xlsx\n",
        "    * Ex: sep17.xls, 11-2018.NIBRS_Public_Data_Group_A&B.xlsx, NIBRSPublicViewDec21.xlsx\n",
        "*\n",
        "* Merge 113 files into 3 files by format\n",
        "* 'jan2010_may2018.csv', 'jun2018_dec2018.csv', and 'jan2019_jul2023.csv' will be created\n",
        "* Cleaning and merging 3 files into 1 will be done with clean_merge_crime_houston_datasets.ipynb\n",
        "\n",
        "\n",
        "### **Data Source**\n",
        "* City of Houston\n",
        "* https://www.houstontx.gov/police/cs/Monthly_Crime_Data_by_Street_and_Police_Beat.htm\n"
      ]
    },
    {
      "cell_type": "markdown",
      "metadata": {
        "id": "Hof8Mjmp_a5t"
      },
      "source": [
        "### **1. Import Libraries**"
      ]
    },
    {
      "cell_type": "code",
      "execution_count": null,
      "metadata": {
        "id": "eDW0fF3z_a5u"
      },
      "outputs": [],
      "source": [
        "# !pip install xlrd"
      ]
    },
    {
      "cell_type": "code",
      "execution_count": null,
      "metadata": {
        "id": "tDbw-3y__a5w"
      },
      "outputs": [],
      "source": [
        "#### Import the libraries needed\n",
        "import pickle\n",
        "import dill\n",
        "import json\n",
        "import glob\n",
        "import os\n",
        "from pathlib import Path\n",
        "import re\n",
        "\n",
        "import pandas as pd\n",
        "import numpy as np\n",
        "import matplotlib.pyplot as plt\n",
        "from matplotlib import rcParams\n",
        "import seaborn as sns\n",
        "\n",
        "import statsmodels.api as sm\n",
        "from statsmodels.stats.multicomp import pairwise_tukeyhsd\n",
        "from scipy import stats\n",
        "\n",
        "import warnings\n",
        "warnings.filterwarnings('ignore')\n",
        "%matplotlib inline"
      ]
    },
    {
      "cell_type": "markdown",
      "metadata": {
        "id": "0SSiwyBD_a51"
      },
      "source": [
        "### **2. Set up the Environment**"
      ]
    },
    {
      "cell_type": "code",
      "execution_count": null,
      "metadata": {
        "id": "fqkFGEGT_a52"
      },
      "outputs": [],
      "source": [
        "# Set pd.options to add slide bars\n",
        "pd.set_option('display.max_rows', 10)       # Display only 10  rows\n",
        "pd.set_option('display.max_columns', 10)    # Display only 10  columns\n",
        "pd.set_option(\"display.max_rows\", None)     # Add a vertical scroll bar\n",
        "pd.set_option('display.max_columns', None)  # Add a horizontal scroll bar"
      ]
    },
    {
      "cell_type": "code",
      "execution_count": null,
      "metadata": {
        "id": "MsxX6Lha_a53"
      },
      "outputs": [],
      "source": [
        "# Set default title color\n",
        "plt.style.use('fivethirtyeight')\n",
        "# Set default title color\n",
        "plt.rcParams.update({'text.color': \"#333333\", 'axes.labelcolor': \"#333333\"})\n",
        "\n",
        "# set default plt figure size\n",
        "plt.rcParams[\"figure.figsize\"] = [10, 5]\n",
        "# figure suptitle\n",
        "plt.rcParams[\"figure.titlesize\"] = 26\n",
        "plt.rcParams[\"figure.titleweight\"] = \"bold\"\n",
        "# set default plt font size\n",
        "# plt.rcParams[\"font.size\"] = 24\n",
        "# font weight\n",
        "# plt.rcParams[\"font.weight\"] = \"bold\"\n",
        "# title location\n",
        "plt.rcParams[\"axes.titlelocation\"] = \"left\"\n",
        "# title size\n",
        "plt.rcParams[\"axes.titlesize\"] = 18\n",
        "# title wight\n",
        "plt.rcParams[\"axes.titleweight\"] = \"bold\"\n",
        "# plt.rcParams[\"axes.labelweight\"] = \"bold\"\n",
        "# spines\n",
        "plt.rcParams[\"axes.spines.bottom\"] = True\n",
        "plt.rcParams[\"axes.spines.left\"] = True\n",
        "# axis labels\n",
        "# plt.rcParams[\"xaxis.labellocation\"] = \"left\"\n",
        "# plt.rcParams[\"yaxis.labellocation\"] = \"top\"\n",
        "plt.rcParams[\"axes.labelweight\"] = \"bold\"\n",
        "\n",
        "plt.rcParams.update({'text.color': \"#333333\", 'axes.labelcolor': \"#333333\", 'axes.labelweight': 'bold'})\n",
        "plt.rcParams[\"font.weight\"] = \"bold\""
      ]
    },
    {
      "cell_type": "markdown",
      "metadata": {
        "id": "bUNSAPIB_a54"
      },
      "source": [
        "### **3. Load Data**"
      ]
    },
    {
      "cell_type": "code",
      "execution_count": null,
      "metadata": {
        "id": "--FasPGX_a54"
      },
      "outputs": [],
      "source": [
        "# Current working directory\n",
        "PROJECT_ROOT_PATH = Path.cwd()\n",
        "\n",
        "# Define the data folder path\n",
        "RAW_DATA_PATH = os.path.join(PROJECT_ROOT_PATH, 'data')"
      ]
    },
    {
      "cell_type": "code",
      "execution_count": null,
      "metadata": {
        "id": "FnmUzE-Y_a55",
        "outputId": "b188791d-e99d-4610-e632-dc2706820cac"
      },
      "outputs": [
        {
          "name": "stdout",
          "output_type": "stream",
          "text": [
            "WARNING *** file size (3078551) not 512 + multiple of sector size (512)\n",
            "WARNING *** OLE2 inconsistency: SSCS size is 0 but SSAT size is non-zero\n",
            "WARNING *** file size (2752234) not 512 + multiple of sector size (512)\n",
            "WARNING *** OLE2 inconsistency: SSCS size is 0 but SSAT size is non-zero\n"
          ]
        }
      ],
      "source": [
        "# Open 101 xls files and combine them into one dataframe.\n",
        "df = pd.DataFrame()\n",
        "col_names_df = ['Occurrence Date', 'Occurrence Hour', 'NIBRS Description', 'Beat', 'Premise', 'Block Range',\n",
        "                'Street Name', 'Street Type', 'Suffix', 'Offense Count']\n",
        "for file in glob.glob('data/*.xls'):\n",
        "    if os.path.splitext(file)[1] != 'pdf' and os.path.isfile(file):\n",
        "        df = pd.concat([df, pd.read_excel(file, dtype={'Beat': str, 'Block Range':str})])"
      ]
    },
    {
      "cell_type": "code",
      "execution_count": null,
      "metadata": {
        "id": "VjypPs5P_a56"
      },
      "outputs": [],
      "source": [
        "# Open 12 xlsx files and combine them into one dataframe.\n",
        "df2 = pd.DataFrame()\n",
        "df3 = pd.DataFrame()\n",
        "col_names_df2 = ['Occurrence Date', 'Occurrence Hour', 'NIBRS Description' 'Offense Count', 'Beat', 'Premise', 'Block Range',\n",
        "                 'Street Name', 'Street Type', 'Suffix']\n",
        "col_names_df3 = ['Incident', 'Occurrence Date', 'Occurrence Hour', 'NIBRS Class', 'NIBRS Description', 'Offense Count', 'Beat',\n",
        "                 'Premise', 'Block Range', 'Street Name', 'Street Type', 'Suffix', 'City', 'ZIP Code', 'RMSOccurrenceDate',\n",
        "                 'RMSOccurrenceHour', 'NIBRS Class', 'Offense Count', 'Street No', 'Street Type', 'ZIP Code', 'Map Longitude', 'Map Latitude']\n",
        "\n",
        "for file in glob.glob('data/*.xlsx'):\n",
        "    if os.path.splitext(file)[1] != 'pdf' and os.path.isfile(file):\n",
        "        result = re.match(r\"[0-9]{2}-[0-9]{4}\", os.path.basename(file))\n",
        "        if  result:\n",
        "            df2 = pd.concat([df2, pd.read_excel(file, skiprows=11, index_col=0, dtype={'Beat': str, 'Block Range':str})])\n",
        "        else:\n",
        "            df3 = pd.concat([df3, pd.read_excel(file, dtype={'Beat': str})])"
      ]
    },
    {
      "cell_type": "markdown",
      "metadata": {
        "id": "pYqlWMZw_a57"
      },
      "source": [
        "### **4. Check Dataframes**"
      ]
    },
    {
      "cell_type": "code",
      "execution_count": null,
      "metadata": {
        "id": "yruBP6q6_a57",
        "outputId": "31fa7ef7-43b7-403f-9dc5-8860f88a8f0c"
      },
      "outputs": [
        {
          "name": "stdout",
          "output_type": "stream",
          "text": [
            "January 2010 to May 2018 --> jan2010_may2018.csv (1053346, 18)\n",
            "June 2018 to December 2018 --> jun2018_dec2018.csv (145713, 17)\n",
            "January 2019 to July 2023 --> jan2019_jul2023.csv (1111335, 23)\n"
          ]
        }
      ],
      "source": [
        "print(\"January 2010 to May 2018 --> jan2010_may2018.csv\", df.shape)\n",
        "print(\"June 2018 to December 2018 --> jun2018_dec2018.csv\", df2.shape)\n",
        "print(\"January 2019 to July 2023 --> jan2019_jul2023.csv\", df3.shape)"
      ]
    },
    {
      "cell_type": "code",
      "execution_count": null,
      "metadata": {
        "id": "jXea7zzF_a57",
        "outputId": "df1bf56a-a4dd-4377-86fa-8fe8048dcda4"
      },
      "outputs": [
        {
          "data": {
            "text/html": [
              "<div>\n",
              "<style scoped>\n",
              "    .dataframe tbody tr th:only-of-type {\n",
              "        vertical-align: middle;\n",
              "    }\n",
              "\n",
              "    .dataframe tbody tr th {\n",
              "        vertical-align: top;\n",
              "    }\n",
              "\n",
              "    .dataframe thead th {\n",
              "        text-align: right;\n",
              "    }\n",
              "</style>\n",
              "<table border=\"1\" class=\"dataframe\">\n",
              "  <thead>\n",
              "    <tr style=\"text-align: right;\">\n",
              "      <th></th>\n",
              "      <th>Date</th>\n",
              "      <th>Hour</th>\n",
              "      <th>Offense Type</th>\n",
              "      <th>Beat</th>\n",
              "      <th>Premise</th>\n",
              "      <th>Block Range</th>\n",
              "      <th>Street Name</th>\n",
              "      <th>Type</th>\n",
              "      <th>Suffix</th>\n",
              "      <th>Offenses</th>\n",
              "      <th>BlockRange</th>\n",
              "      <th>StreetName</th>\n",
              "      <th># offenses</th>\n",
              "      <th># Of Offenses</th>\n",
              "      <th># Offenses</th>\n",
              "      <th># Of</th>\n",
              "    </tr>\n",
              "  </thead>\n",
              "  <tbody>\n",
              "    <tr>\n",
              "      <th>0</th>\n",
              "      <td>01/16/2017</td>\n",
              "      <td>5</td>\n",
              "      <td>Theft</td>\n",
              "      <td>10H10</td>\n",
              "      <td>Commercial Parking Lot or Garage</td>\n",
              "      <td>6000-6099</td>\n",
              "      <td>CANAL</td>\n",
              "      <td>ST</td>\n",
              "      <td>-</td>\n",
              "      <td>1.0</td>\n",
              "      <td>NaN</td>\n",
              "      <td>NaN</td>\n",
              "      <td>NaN</td>\n",
              "      <td>NaN</td>\n",
              "      <td>NaN</td>\n",
              "      <td>NaN</td>\n",
              "    </tr>\n",
              "    <tr>\n",
              "      <th>1</th>\n",
              "      <td>03/31/2017</td>\n",
              "      <td>18</td>\n",
              "      <td>Rape</td>\n",
              "      <td>10H10</td>\n",
              "      <td>Residence or House</td>\n",
              "      <td>200-299</td>\n",
              "      <td>N LENOX ST</td>\n",
              "      <td>ST</td>\n",
              "      <td>-</td>\n",
              "      <td>1.0</td>\n",
              "      <td>NaN</td>\n",
              "      <td>NaN</td>\n",
              "      <td>NaN</td>\n",
              "      <td>NaN</td>\n",
              "      <td>NaN</td>\n",
              "      <td>NaN</td>\n",
              "    </tr>\n",
              "    <tr>\n",
              "      <th>2</th>\n",
              "      <td>09/03/2017</td>\n",
              "      <td>19</td>\n",
              "      <td>Burglary</td>\n",
              "      <td>10H10</td>\n",
              "      <td>Apartment</td>\n",
              "      <td>1900-1999</td>\n",
              "      <td>RUNNELS</td>\n",
              "      <td>-</td>\n",
              "      <td>-</td>\n",
              "      <td>1.0</td>\n",
              "      <td>NaN</td>\n",
              "      <td>NaN</td>\n",
              "      <td>NaN</td>\n",
              "      <td>NaN</td>\n",
              "      <td>NaN</td>\n",
              "      <td>NaN</td>\n",
              "    </tr>\n",
              "    <tr>\n",
              "      <th>3</th>\n",
              "      <td>09/03/2017</td>\n",
              "      <td>21</td>\n",
              "      <td>Aggravated Assault</td>\n",
              "      <td>10H10</td>\n",
              "      <td>Road, Street, or Sidewalk</td>\n",
              "      <td>2000-2099</td>\n",
              "      <td>RUNNELS</td>\n",
              "      <td>-</td>\n",
              "      <td>-</td>\n",
              "      <td>1.0</td>\n",
              "      <td>NaN</td>\n",
              "      <td>NaN</td>\n",
              "      <td>NaN</td>\n",
              "      <td>NaN</td>\n",
              "      <td>NaN</td>\n",
              "      <td>NaN</td>\n",
              "    </tr>\n",
              "    <tr>\n",
              "      <th>4</th>\n",
              "      <td>09/04/2017</td>\n",
              "      <td>13</td>\n",
              "      <td>Aggravated Assault</td>\n",
              "      <td>10H10</td>\n",
              "      <td>Road, Street, or Sidewalk</td>\n",
              "      <td>400-499</td>\n",
              "      <td>LOCKWOOD DR</td>\n",
              "      <td>-</td>\n",
              "      <td>-</td>\n",
              "      <td>1.0</td>\n",
              "      <td>NaN</td>\n",
              "      <td>NaN</td>\n",
              "      <td>NaN</td>\n",
              "      <td>NaN</td>\n",
              "      <td>NaN</td>\n",
              "      <td>NaN</td>\n",
              "    </tr>\n",
              "  </tbody>\n",
              "</table>\n",
              "</div>"
            ],
            "text/plain": [
              "         Date Hour        Offense Type   Beat  \\\n",
              "0  01/16/2017    5               Theft  10H10   \n",
              "1  03/31/2017   18                Rape  10H10   \n",
              "2  09/03/2017   19            Burglary  10H10   \n",
              "3  09/03/2017   21  Aggravated Assault  10H10   \n",
              "4  09/04/2017   13  Aggravated Assault  10H10   \n",
              "\n",
              "                            Premise Block Range  Street Name Type Suffix  \\\n",
              "0  Commercial Parking Lot or Garage   6000-6099        CANAL   ST      -   \n",
              "1                Residence or House     200-299   N LENOX ST   ST      -   \n",
              "2                         Apartment   1900-1999      RUNNELS    -      -   \n",
              "3         Road, Street, or Sidewalk   2000-2099      RUNNELS    -      -   \n",
              "4         Road, Street, or Sidewalk     400-499  LOCKWOOD DR    -      -   \n",
              "\n",
              "   Offenses BlockRange StreetName  # offenses  # Of Offenses  # Offenses  # Of  \n",
              "0       1.0        NaN        NaN         NaN            NaN         NaN   NaN  \n",
              "1       1.0        NaN        NaN         NaN            NaN         NaN   NaN  \n",
              "2       1.0        NaN        NaN         NaN            NaN         NaN   NaN  \n",
              "3       1.0        NaN        NaN         NaN            NaN         NaN   NaN  \n",
              "4       1.0        NaN        NaN         NaN            NaN         NaN   NaN  "
            ]
          },
          "execution_count": 38,
          "metadata": {},
          "output_type": "execute_result"
        }
      ],
      "source": [
        "df.head()"
      ]
    },
    {
      "cell_type": "code",
      "execution_count": null,
      "metadata": {
        "id": "7qXea3Bw_a58",
        "outputId": "b2afa3cd-c112-4f2c-9ac7-420fe0e23941"
      },
      "outputs": [
        {
          "name": "stdout",
          "output_type": "stream",
          "text": [
            "<class 'pandas.core.frame.DataFrame'>\n",
            "Int64Index: 1053346 entries, 0 to 10250\n",
            "Data columns (total 18 columns):\n",
            " #   Column         Non-Null Count    Dtype  \n",
            "---  ------         --------------    -----  \n",
            " 0   Date           1053341 non-null  object \n",
            " 1   Hour           1053345 non-null  object \n",
            " 2   Offense Type   1053345 non-null  object \n",
            " 3   Beat           1053329 non-null  object \n",
            " 4   Premise        1019749 non-null  object \n",
            " 5   Block Range    718504 non-null   object \n",
            " 6   Street Name    718660 non-null   object \n",
            " 7   Type           1053345 non-null  object \n",
            " 8   Suffix         1053345 non-null  object \n",
            " 9   Offenses       126364 non-null   float64\n",
            " 10  BlockRange     334684 non-null   object \n",
            " 11  StreetName     334684 non-null   object \n",
            " 12  # offenses     334684 non-null   float64\n",
            " 13  # Of Offenses  574365 non-null   float64\n",
            " 14  Unnamed: 1     0 non-null        float64\n",
            " 15  # Offenses     10319 non-null    float64\n",
            " 16  # Of           7613 non-null     float64\n",
            " 17  Field11        0 non-null        float64\n",
            "dtypes: float64(7), object(11)\n",
            "memory usage: 152.7+ MB\n"
          ]
        }
      ],
      "source": [
        "df.info()"
      ]
    },
    {
      "cell_type": "code",
      "execution_count": null,
      "metadata": {
        "id": "4hDOWCar_a58",
        "outputId": "2b7d4f60-b5a8-4393-e155-89e2737f8c65"
      },
      "outputs": [
        {
          "data": {
            "text/plain": [
              "Index(['Date', 'Hour', 'Offense Type', 'Beat', 'Premise', 'Block Range',\n",
              "       'Street Name', 'Type', 'Suffix', 'Offenses', 'BlockRange', 'StreetName',\n",
              "       '# offenses', '# Of Offenses', 'Unnamed: 1', '# Offenses', '# Of',\n",
              "       'Field11'],\n",
              "      dtype='object')"
            ]
          },
          "execution_count": 10,
          "metadata": {},
          "output_type": "execute_result"
        }
      ],
      "source": [
        "df_columns = df.columns\n",
        "df_columns"
      ]
    },
    {
      "cell_type": "code",
      "execution_count": null,
      "metadata": {
        "id": "4CNQYhYs_a59",
        "outputId": "87a940fd-eccc-4ffc-ae9c-f0babacdcec7"
      },
      "outputs": [
        {
          "name": "stdout",
          "output_type": "stream",
          "text": [
            "----- Null Count -----\n",
            "Date                   5\n",
            "Hour                   1\n",
            "Offense Type           1\n",
            "Beat                  17\n",
            "Premise            33597\n",
            "Block Range       334842\n",
            "Street Name       334686\n",
            "Type                   1\n",
            "Suffix                 1\n",
            "Offenses          926982\n",
            "BlockRange        718662\n",
            "StreetName        718662\n",
            "# offenses        718662\n",
            "# Of Offenses     478981\n",
            "# Offenses       1043027\n",
            "# Of             1045733\n",
            "dtype: int64\n"
          ]
        }
      ],
      "source": [
        "print(\"----- Null Count -----\")\n",
        "print(df.isna().sum())"
      ]
    },
    {
      "cell_type": "code",
      "execution_count": null,
      "metadata": {
        "id": "BNEz2xx__a59",
        "outputId": "38431ffb-ee21-4c0d-aa75-2ddead7e69a2"
      },
      "outputs": [
        {
          "name": "stdout",
          "output_type": "stream",
          "text": [
            "----- Null Ratio (%) -----\n",
            "Date              0.000475\n",
            "Hour              0.000095\n",
            "Offense Type      0.000095\n",
            "Beat              0.001614\n",
            "Premise           3.189550\n",
            "Block Range      31.788415\n",
            "Street Name      31.773605\n",
            "Type              0.000095\n",
            "Suffix            0.000095\n",
            "Offenses         88.003562\n",
            "BlockRange       68.226585\n",
            "StreetName       68.226585\n",
            "# offenses       68.226585\n",
            "# Of Offenses    45.472333\n",
            "# Offenses       99.020360\n",
            "# Of             99.277256\n",
            "dtype: float64\n"
          ]
        }
      ],
      "source": [
        "print(\"----- Null Ratio (%) -----\")\n",
        "print(df.isna().sum()/len(df)*100)"
      ]
    },
    {
      "cell_type": "code",
      "execution_count": null,
      "metadata": {
        "id": "dALpKnoW_a5-",
        "outputId": "b866d265-ecd8-43e7-d045-5589358e1e5f"
      },
      "outputs": [
        {
          "data": {
            "text/html": [
              "<div>\n",
              "<style scoped>\n",
              "    .dataframe tbody tr th:only-of-type {\n",
              "        vertical-align: middle;\n",
              "    }\n",
              "\n",
              "    .dataframe tbody tr th {\n",
              "        vertical-align: top;\n",
              "    }\n",
              "\n",
              "    .dataframe thead th {\n",
              "        text-align: right;\n",
              "    }\n",
              "</style>\n",
              "<table border=\"1\" class=\"dataframe\">\n",
              "  <thead>\n",
              "    <tr style=\"text-align: right;\">\n",
              "      <th></th>\n",
              "      <th>Occurrence Date</th>\n",
              "      <th>Unnamed: 2</th>\n",
              "      <th>Occurrence Hour</th>\n",
              "      <th>Unnamed: 4</th>\n",
              "      <th>NIBRS Description</th>\n",
              "      <th>Unnamed: 6</th>\n",
              "      <th>Offense Count</th>\n",
              "      <th>Beat</th>\n",
              "      <th>Premise</th>\n",
              "      <th>Block Range</th>\n",
              "      <th>Unnamed: 11</th>\n",
              "      <th>Street Name</th>\n",
              "      <th>Unnamed: 13</th>\n",
              "      <th>Unnamed: 14</th>\n",
              "      <th>Street Type</th>\n",
              "      <th>Unnamed: 16</th>\n",
              "      <th>Suffix</th>\n",
              "    </tr>\n",
              "  </thead>\n",
              "  <tbody>\n",
              "    <tr>\n",
              "      <th>NaN</th>\n",
              "      <td>2018-09-01</td>\n",
              "      <td>NaN</td>\n",
              "      <td>0</td>\n",
              "      <td>NaN</td>\n",
              "      <td>Credit card, ATM fraud</td>\n",
              "      <td>NaN</td>\n",
              "      <td>1</td>\n",
              "      <td>5F30</td>\n",
              "      <td>Auto Dealership New/Used</td>\n",
              "      <td>12800-12899</td>\n",
              "      <td>NaN</td>\n",
              "      <td>HEMPSTEAD</td>\n",
              "      <td>NaN</td>\n",
              "      <td>NaN</td>\n",
              "      <td>RD</td>\n",
              "      <td>NaN</td>\n",
              "      <td>NaN</td>\n",
              "    </tr>\n",
              "    <tr>\n",
              "      <th>NaN</th>\n",
              "      <td>2018-09-01</td>\n",
              "      <td>NaN</td>\n",
              "      <td>0</td>\n",
              "      <td>NaN</td>\n",
              "      <td>Intimidation</td>\n",
              "      <td>NaN</td>\n",
              "      <td>1</td>\n",
              "      <td>8C30</td>\n",
              "      <td>Residence, Home (Includes Apartment)</td>\n",
              "      <td>8100-8199</td>\n",
              "      <td>NaN</td>\n",
              "      <td>SNOWDEN</td>\n",
              "      <td>NaN</td>\n",
              "      <td>NaN</td>\n",
              "      <td>NaN</td>\n",
              "      <td>NaN</td>\n",
              "      <td>NaN</td>\n",
              "    </tr>\n",
              "    <tr>\n",
              "      <th>NaN</th>\n",
              "      <td>2018-09-01</td>\n",
              "      <td>NaN</td>\n",
              "      <td>0</td>\n",
              "      <td>NaN</td>\n",
              "      <td>Weapon law violations</td>\n",
              "      <td>NaN</td>\n",
              "      <td>1</td>\n",
              "      <td>14D10</td>\n",
              "      <td>Parking Lot, Garage</td>\n",
              "      <td>6600-6699</td>\n",
              "      <td>NaN</td>\n",
              "      <td>MADRID</td>\n",
              "      <td>NaN</td>\n",
              "      <td>NaN</td>\n",
              "      <td>ST</td>\n",
              "      <td>NaN</td>\n",
              "      <td>NaN</td>\n",
              "    </tr>\n",
              "    <tr>\n",
              "      <th>NaN</th>\n",
              "      <td>2018-09-01</td>\n",
              "      <td>NaN</td>\n",
              "      <td>0</td>\n",
              "      <td>NaN</td>\n",
              "      <td>Trespass of real property</td>\n",
              "      <td>NaN</td>\n",
              "      <td>1</td>\n",
              "      <td>10H40</td>\n",
              "      <td>Service, Gas Station</td>\n",
              "      <td>2100-2199</td>\n",
              "      <td>NaN</td>\n",
              "      <td>FANNIN</td>\n",
              "      <td>NaN</td>\n",
              "      <td>NaN</td>\n",
              "      <td>ST</td>\n",
              "      <td>NaN</td>\n",
              "      <td>NaN</td>\n",
              "    </tr>\n",
              "    <tr>\n",
              "      <th>NaN</th>\n",
              "      <td>2018-09-01</td>\n",
              "      <td>NaN</td>\n",
              "      <td>0</td>\n",
              "      <td>NaN</td>\n",
              "      <td>Driving under the influence</td>\n",
              "      <td>NaN</td>\n",
              "      <td>1</td>\n",
              "      <td>9C20</td>\n",
              "      <td>Highway, Road, Street, Alley</td>\n",
              "      <td>6100-6199</td>\n",
              "      <td>NaN</td>\n",
              "      <td>EAST</td>\n",
              "      <td>NaN</td>\n",
              "      <td>NaN</td>\n",
              "      <td>FWY</td>\n",
              "      <td>NaN</td>\n",
              "      <td>NaN</td>\n",
              "    </tr>\n",
              "  </tbody>\n",
              "</table>\n",
              "</div>"
            ],
            "text/plain": [
              "    Occurrence Date  Unnamed: 2  Occurrence Hour  Unnamed: 4  \\\n",
              "NaN      2018-09-01         NaN                0         NaN   \n",
              "NaN      2018-09-01         NaN                0         NaN   \n",
              "NaN      2018-09-01         NaN                0         NaN   \n",
              "NaN      2018-09-01         NaN                0         NaN   \n",
              "NaN      2018-09-01         NaN                0         NaN   \n",
              "\n",
              "               NIBRS Description  Unnamed: 6  Offense Count   Beat  \\\n",
              "NaN       Credit card, ATM fraud         NaN              1   5F30   \n",
              "NaN                 Intimidation         NaN              1   8C30   \n",
              "NaN        Weapon law violations         NaN              1  14D10   \n",
              "NaN    Trespass of real property         NaN              1  10H40   \n",
              "NaN  Driving under the influence         NaN              1   9C20   \n",
              "\n",
              "                                  Premise  Block Range  Unnamed: 11  \\\n",
              "NaN              Auto Dealership New/Used  12800-12899          NaN   \n",
              "NaN  Residence, Home (Includes Apartment)    8100-8199          NaN   \n",
              "NaN                   Parking Lot, Garage    6600-6699          NaN   \n",
              "NaN                  Service, Gas Station    2100-2199          NaN   \n",
              "NaN          Highway, Road, Street, Alley    6100-6199          NaN   \n",
              "\n",
              "    Street Name  Unnamed: 13  Unnamed: 14 Street Type  Unnamed: 16 Suffix  \n",
              "NaN   HEMPSTEAD          NaN          NaN          RD          NaN    NaN  \n",
              "NaN     SNOWDEN          NaN          NaN         NaN          NaN    NaN  \n",
              "NaN      MADRID          NaN          NaN          ST          NaN    NaN  \n",
              "NaN      FANNIN          NaN          NaN          ST          NaN    NaN  \n",
              "NaN        EAST          NaN          NaN         FWY          NaN    NaN  "
            ]
          },
          "execution_count": 17,
          "metadata": {},
          "output_type": "execute_result"
        }
      ],
      "source": [
        "df2.head()"
      ]
    },
    {
      "cell_type": "code",
      "execution_count": null,
      "metadata": {
        "id": "liaS1US6_a5-",
        "outputId": "babe0398-276b-467f-8eb1-888227916f61"
      },
      "outputs": [
        {
          "name": "stdout",
          "output_type": "stream",
          "text": [
            "<class 'pandas.core.frame.DataFrame'>\n",
            "Float64Index: 145713 entries, nan to nan\n",
            "Data columns (total 17 columns):\n",
            " #   Column             Non-Null Count   Dtype  \n",
            "---  ------             --------------   -----  \n",
            " 0   Occurrence Date    145713 non-null  object \n",
            " 1   Unnamed: 2         0 non-null       float64\n",
            " 2   Occurrence Hour    145713 non-null  int64  \n",
            " 3   Unnamed: 4         0 non-null       float64\n",
            " 4   NIBRS Description  145713 non-null  object \n",
            " 5   Unnamed: 6         0 non-null       float64\n",
            " 6   Offense Count      145713 non-null  int64  \n",
            " 7   Beat               145564 non-null  object \n",
            " 8   Premise            145713 non-null  object \n",
            " 9   Block Range        144823 non-null  object \n",
            " 10  Unnamed: 11        0 non-null       float64\n",
            " 11  Street Name        145713 non-null  object \n",
            " 12  Unnamed: 13        0 non-null       float64\n",
            " 13  Unnamed: 14        0 non-null       float64\n",
            " 14  Street Type        133976 non-null  object \n",
            " 15  Unnamed: 16        0 non-null       float64\n",
            " 16  Suffix             20532 non-null   object \n",
            "dtypes: float64(7), int64(2), object(8)\n",
            "memory usage: 20.0+ MB\n"
          ]
        }
      ],
      "source": [
        "df2.info()"
      ]
    },
    {
      "cell_type": "code",
      "execution_count": null,
      "metadata": {
        "id": "ENHhWXgF_a5_",
        "outputId": "4a07009c-5988-4fc4-9d0b-c2ca6f8c5291"
      },
      "outputs": [
        {
          "data": {
            "text/plain": [
              "Index(['Occurrence Date', 'Unnamed: 2', 'Occurrence Hour', 'Unnamed: 4',\n",
              "       'NIBRS Description', 'Unnamed: 6', 'Offense Count', 'Beat', 'Premise',\n",
              "       'Block Range', 'Unnamed: 11', 'Street Name', 'Unnamed: 13',\n",
              "       'Unnamed: 14', 'Street Type', 'Unnamed: 16', 'Suffix'],\n",
              "      dtype='object')"
            ]
          },
          "metadata": {},
          "output_type": "display_data"
        }
      ],
      "source": [
        "df2_columns = df2.columns\n",
        "df2_columns"
      ]
    },
    {
      "cell_type": "code",
      "execution_count": null,
      "metadata": {
        "id": "mol2w3jM_a5_"
      },
      "outputs": [],
      "source": [
        "col_names_df2 = ['Occurrence Date', 'Occurrence Hour', 'NIBRS Description' 'Offense Count', 'Beat', 'Premise',\n",
        " 'Block Range', 'Street Name', 'Street Type', 'Suffix']"
      ]
    },
    {
      "cell_type": "code",
      "execution_count": null,
      "metadata": {
        "id": "gZtnL9gu_a6A",
        "outputId": "719f4e62-14ef-496d-f71a-1a95199743c1"
      },
      "outputs": [
        {
          "name": "stdout",
          "output_type": "stream",
          "text": [
            "Null Count: Occurrence Date           0\n",
            "Occurrence Hour           0\n",
            "NIBRS Description         0\n",
            "Offense Count             0\n",
            "Beat                    149\n",
            "Premise                   0\n",
            "Block Range             890\n",
            "Street Name               0\n",
            "Street Type           11737\n",
            "Suffix               125181\n",
            "dtype: int64\n"
          ]
        }
      ],
      "source": [
        "print(\"----- Null Ratio (%) -----\")\n",
        "print(df2.isna().sum()/len(df2)*100)"
      ]
    },
    {
      "cell_type": "code",
      "execution_count": null,
      "metadata": {
        "id": "k9slzf3a_a6B",
        "outputId": "bb3fcc5b-523d-4e29-9e7a-151aa4c5bcd8"
      },
      "outputs": [
        {
          "data": {
            "text/html": [
              "<div>\n",
              "<style scoped>\n",
              "    .dataframe tbody tr th:only-of-type {\n",
              "        vertical-align: middle;\n",
              "    }\n",
              "\n",
              "    .dataframe tbody tr th {\n",
              "        vertical-align: top;\n",
              "    }\n",
              "\n",
              "    .dataframe thead th {\n",
              "        text-align: right;\n",
              "    }\n",
              "</style>\n",
              "<table border=\"1\" class=\"dataframe\">\n",
              "  <thead>\n",
              "    <tr style=\"text-align: right;\">\n",
              "      <th></th>\n",
              "      <th>Incident</th>\n",
              "      <th>Occurrence\\nDate</th>\n",
              "      <th>Occurrence\\nHour</th>\n",
              "      <th>NIBRS\\nClass</th>\n",
              "      <th>NIBRSDescription</th>\n",
              "      <th>Offense\\nCount</th>\n",
              "      <th>Beat</th>\n",
              "      <th>Premise</th>\n",
              "      <th>Block Range</th>\n",
              "      <th>StreetName</th>\n",
              "      <th>Street\\nType</th>\n",
              "      <th>Suffix</th>\n",
              "      <th>City</th>\n",
              "      <th>ZIP Code</th>\n",
              "      <th>RMSOccurrenceDate</th>\n",
              "      <th>RMSOccurrenceHour</th>\n",
              "      <th>NIBRSClass</th>\n",
              "      <th>OffenseCount</th>\n",
              "      <th>StreetNo</th>\n",
              "      <th>StreetType</th>\n",
              "      <th>ZIPCode</th>\n",
              "      <th>MapLongitude</th>\n",
              "      <th>MapLatitude</th>\n",
              "    </tr>\n",
              "  </thead>\n",
              "  <tbody>\n",
              "    <tr>\n",
              "      <th>0</th>\n",
              "      <td>5619</td>\n",
              "      <td>2019-01-01</td>\n",
              "      <td>0.0</td>\n",
              "      <td>290</td>\n",
              "      <td>Destruction, damage, vandalism</td>\n",
              "      <td>1.0</td>\n",
              "      <td>9C30</td>\n",
              "      <td>Residence, Home (Includes Apartment)</td>\n",
              "      <td>9622</td>\n",
              "      <td>SAN CARLOS</td>\n",
              "      <td>NaN</td>\n",
              "      <td>NaN</td>\n",
              "      <td>HOUSTON</td>\n",
              "      <td>77013</td>\n",
              "      <td>NaT</td>\n",
              "      <td>NaN</td>\n",
              "      <td>NaN</td>\n",
              "      <td>NaN</td>\n",
              "      <td>NaN</td>\n",
              "      <td>NaN</td>\n",
              "      <td>NaN</td>\n",
              "      <td>NaN</td>\n",
              "      <td>NaN</td>\n",
              "    </tr>\n",
              "    <tr>\n",
              "      <th>1</th>\n",
              "      <td>17319</td>\n",
              "      <td>2019-01-01</td>\n",
              "      <td>0.0</td>\n",
              "      <td>35A</td>\n",
              "      <td>Drug, narcotic violations</td>\n",
              "      <td>1.0</td>\n",
              "      <td>7C10</td>\n",
              "      <td>Highway, Road, Street, Alley</td>\n",
              "      <td>NaN</td>\n",
              "      <td>EAST</td>\n",
              "      <td>FWY</td>\n",
              "      <td>NaN</td>\n",
              "      <td>HOUSTON</td>\n",
              "      <td>77020</td>\n",
              "      <td>NaT</td>\n",
              "      <td>NaN</td>\n",
              "      <td>NaN</td>\n",
              "      <td>NaN</td>\n",
              "      <td>NaN</td>\n",
              "      <td>NaN</td>\n",
              "      <td>NaN</td>\n",
              "      <td>NaN</td>\n",
              "      <td>NaN</td>\n",
              "    </tr>\n",
              "    <tr>\n",
              "      <th>2</th>\n",
              "      <td>18119</td>\n",
              "      <td>2019-01-01</td>\n",
              "      <td>0.0</td>\n",
              "      <td>290</td>\n",
              "      <td>Destruction, damage, vandalism</td>\n",
              "      <td>1.0</td>\n",
              "      <td>16E40</td>\n",
              "      <td>Residence, Home (Includes Apartment)</td>\n",
              "      <td>16718</td>\n",
              "      <td>LONE QUAIL</td>\n",
              "      <td>CT</td>\n",
              "      <td>NaN</td>\n",
              "      <td>HOUSTON</td>\n",
              "      <td>77489</td>\n",
              "      <td>NaT</td>\n",
              "      <td>NaN</td>\n",
              "      <td>NaN</td>\n",
              "      <td>NaN</td>\n",
              "      <td>NaN</td>\n",
              "      <td>NaN</td>\n",
              "      <td>NaN</td>\n",
              "      <td>NaN</td>\n",
              "      <td>NaN</td>\n",
              "    </tr>\n",
              "    <tr>\n",
              "      <th>3</th>\n",
              "      <td>19019</td>\n",
              "      <td>2019-01-01</td>\n",
              "      <td>0.0</td>\n",
              "      <td>520</td>\n",
              "      <td>Weapon law violations</td>\n",
              "      <td>1.0</td>\n",
              "      <td>NaN</td>\n",
              "      <td>Residence, Home (Includes Apartment)</td>\n",
              "      <td>1909</td>\n",
              "      <td>MELBOURNE</td>\n",
              "      <td>NaN</td>\n",
              "      <td>NaN</td>\n",
              "      <td>HOUSTON</td>\n",
              "      <td>77026-0000</td>\n",
              "      <td>NaT</td>\n",
              "      <td>NaN</td>\n",
              "      <td>NaN</td>\n",
              "      <td>NaN</td>\n",
              "      <td>NaN</td>\n",
              "      <td>NaN</td>\n",
              "      <td>NaN</td>\n",
              "      <td>NaN</td>\n",
              "      <td>NaN</td>\n",
              "    </tr>\n",
              "    <tr>\n",
              "      <th>4</th>\n",
              "      <td>20519</td>\n",
              "      <td>2019-01-01</td>\n",
              "      <td>0.0</td>\n",
              "      <td>13A</td>\n",
              "      <td>Aggravated Assault</td>\n",
              "      <td>1.0</td>\n",
              "      <td>15E30</td>\n",
              "      <td>Residence, Home (Includes Apartment)</td>\n",
              "      <td>4034</td>\n",
              "      <td>OSBY</td>\n",
              "      <td>DR</td>\n",
              "      <td>NaN</td>\n",
              "      <td>HOUSTON</td>\n",
              "      <td>77025</td>\n",
              "      <td>NaT</td>\n",
              "      <td>NaN</td>\n",
              "      <td>NaN</td>\n",
              "      <td>NaN</td>\n",
              "      <td>NaN</td>\n",
              "      <td>NaN</td>\n",
              "      <td>NaN</td>\n",
              "      <td>NaN</td>\n",
              "      <td>NaN</td>\n",
              "    </tr>\n",
              "  </tbody>\n",
              "</table>\n",
              "</div>"
            ],
            "text/plain": [
              "   Incident Occurrence\\nDate  Occurrence\\nHour NIBRS\\nClass  \\\n",
              "0      5619       2019-01-01               0.0          290   \n",
              "1     17319       2019-01-01               0.0          35A   \n",
              "2     18119       2019-01-01               0.0          290   \n",
              "3     19019       2019-01-01               0.0          520   \n",
              "4     20519       2019-01-01               0.0          13A   \n",
              "\n",
              "                 NIBRSDescription  Offense\\nCount   Beat  \\\n",
              "0  Destruction, damage, vandalism             1.0   9C30   \n",
              "1       Drug, narcotic violations             1.0   7C10   \n",
              "2  Destruction, damage, vandalism             1.0  16E40   \n",
              "3           Weapon law violations             1.0    NaN   \n",
              "4              Aggravated Assault             1.0  15E30   \n",
              "\n",
              "                                Premise Block Range  StreetName Street\\nType  \\\n",
              "0  Residence, Home (Includes Apartment)        9622  SAN CARLOS          NaN   \n",
              "1          Highway, Road, Street, Alley         NaN        EAST          FWY   \n",
              "2  Residence, Home (Includes Apartment)       16718  LONE QUAIL           CT   \n",
              "3  Residence, Home (Includes Apartment)        1909   MELBOURNE          NaN   \n",
              "4  Residence, Home (Includes Apartment)        4034        OSBY           DR   \n",
              "\n",
              "  Suffix     City    ZIP Code RMSOccurrenceDate  RMSOccurrenceHour NIBRSClass  \\\n",
              "0    NaN  HOUSTON       77013               NaT                NaN        NaN   \n",
              "1    NaN  HOUSTON       77020               NaT                NaN        NaN   \n",
              "2    NaN  HOUSTON       77489               NaT                NaN        NaN   \n",
              "3    NaN  HOUSTON  77026-0000               NaT                NaN        NaN   \n",
              "4    NaN  HOUSTON       77025               NaT                NaN        NaN   \n",
              "\n",
              "   OffenseCount StreetNo StreetType ZIPCode  MapLongitude  MapLatitude  \n",
              "0           NaN      NaN        NaN     NaN           NaN          NaN  \n",
              "1           NaN      NaN        NaN     NaN           NaN          NaN  \n",
              "2           NaN      NaN        NaN     NaN           NaN          NaN  \n",
              "3           NaN      NaN        NaN     NaN           NaN          NaN  \n",
              "4           NaN      NaN        NaN     NaN           NaN          NaN  "
            ]
          },
          "execution_count": 19,
          "metadata": {},
          "output_type": "execute_result"
        }
      ],
      "source": [
        "df3.head()"
      ]
    },
    {
      "cell_type": "code",
      "execution_count": null,
      "metadata": {
        "id": "HjsRJH1b_a6B",
        "outputId": "27760f35-bf93-4c0c-8d26-1f543eb62bdd"
      },
      "outputs": [
        {
          "name": "stdout",
          "output_type": "stream",
          "text": [
            "<class 'pandas.core.frame.DataFrame'>\n",
            "Int64Index: 1111335 entries, 0 to 147498\n",
            "Data columns (total 23 columns):\n",
            " #   Column             Non-Null Count    Dtype         \n",
            "---  ------             --------------    -----         \n",
            " 0   Incident           1111335 non-null  int64         \n",
            " 1   Occurrence\n",
            "Date    466945 non-null   datetime64[ns]\n",
            " 2   Occurrence\n",
            "Hour    466945 non-null   float64       \n",
            " 3   NIBRS\n",
            "Class        466945 non-null   object        \n",
            " 4   NIBRSDescription   1111335 non-null  object        \n",
            " 5   Offense\n",
            "Count      466945 non-null   float64       \n",
            " 6   Beat               1110550 non-null  object        \n",
            " 7   Premise            1111334 non-null  object        \n",
            " 8   Block Range        465475 non-null   object        \n",
            " 9   StreetName         1111335 non-null  object        \n",
            " 10  Street\n",
            "Type        429802 non-null   object        \n",
            " 11  Suffix             162878 non-null   object        \n",
            " 12  City               1111335 non-null  object        \n",
            " 13  ZIP Code           461478 non-null   object        \n",
            " 14  RMSOccurrenceDate  644390 non-null   datetime64[ns]\n",
            " 15  RMSOccurrenceHour  644390 non-null   float64       \n",
            " 16  NIBRSClass         644390 non-null   object        \n",
            " 17  OffenseCount       644390 non-null   float64       \n",
            " 18  StreetNo           642415 non-null   object        \n",
            " 19  StreetType         595982 non-null   object        \n",
            " 20  ZIPCode            636335 non-null   object        \n",
            " 21  MapLongitude       392147 non-null   float64       \n",
            " 22  MapLatitude        392147 non-null   float64       \n",
            "dtypes: datetime64[ns](2), float64(6), int64(1), object(14)\n",
            "memory usage: 203.5+ MB\n"
          ]
        }
      ],
      "source": [
        "df3.info()"
      ]
    },
    {
      "cell_type": "code",
      "execution_count": null,
      "metadata": {
        "id": "gHSNXkEr_a6B",
        "outputId": "d1e26586-5c68-4ace-c491-6b712acb8965"
      },
      "outputs": [
        {
          "data": {
            "text/plain": [
              "Index(['Incident', 'Occurrence\\nDate', 'Occurrence\\nHour', 'NIBRS\\nClass',\n",
              "       'NIBRSDescription', 'Offense\\nCount', 'Beat', 'Premise', 'Block Range',\n",
              "       'StreetName', 'Street\\nType', 'Suffix', 'City', 'ZIP Code',\n",
              "       'RMSOccurrenceDate', 'RMSOccurrenceHour', 'NIBRSClass', 'OffenseCount',\n",
              "       'StreetNo', 'StreetType', 'ZIPCode', 'MapLongitude', 'MapLatitude'],\n",
              "      dtype='object')"
            ]
          },
          "metadata": {},
          "output_type": "display_data"
        }
      ],
      "source": [
        "df3_columns = df3.columns\n",
        "df3_columns"
      ]
    },
    {
      "cell_type": "code",
      "execution_count": null,
      "metadata": {
        "id": "bSSjSiqT_a6B"
      },
      "outputs": [],
      "source": [
        "col_names_df3 = ['Incident', 'Occurrence Date', 'Occurrence Hour', 'NIBRS Class',\n",
        "       'NIBRS Description', 'Offense Count', 'Beat', 'Premise', 'Block Range',\n",
        "       'Street Name', 'Street Type', 'Suffix', 'City', 'ZIP Code',\n",
        "       'RMSOccurrenceDate', 'RMSOccurrenceHour', 'NIBRS Class', 'Offense Count',\n",
        "       'Street No', 'Street Type', 'ZIP Code', 'Map Longitude', 'Map Latitude']"
      ]
    },
    {
      "cell_type": "code",
      "execution_count": null,
      "metadata": {
        "id": "RwysVSiw_a6C",
        "outputId": "272ab28d-4dce-4483-9311-fe9cc29dfffb"
      },
      "outputs": [
        {
          "name": "stdout",
          "output_type": "stream",
          "text": [
            "Null Count: Incident                  0\n",
            "Occurrence\\nDate     644390\n",
            "Occurrence\\nHour     644390\n",
            "NIBRS\\nClass         644390\n",
            "NIBRSDescription          0\n",
            "Offense\\nCount       644390\n",
            "Beat                    785\n",
            "Premise                   1\n",
            "Block Range          645860\n",
            "StreetName                0\n",
            "Street\\nType         681533\n",
            "Suffix               948457\n",
            "City                      0\n",
            "ZIP Code             649857\n",
            "RMSOccurrenceDate    466945\n",
            "RMSOccurrenceHour    466945\n",
            "NIBRSClass           466945\n",
            "OffenseCount         466945\n",
            "StreetNo             468920\n",
            "StreetType           515353\n",
            "ZIPCode              475000\n",
            "MapLongitude         719188\n",
            "MapLatitude          719188\n",
            "dtype: int64\n"
          ]
        }
      ],
      "source": [
        "print(\"----- Null Ratio (%) -----\")\n",
        "print(df3.isna().sum()/len(df3)*100)"
      ]
    },
    {
      "cell_type": "markdown",
      "metadata": {
        "id": "uC-HF0GX_a6C"
      },
      "source": [
        "### **5. Clean Dataframes**"
      ]
    },
    {
      "cell_type": "markdown",
      "metadata": {
        "id": "hwGsKOow_a6C"
      },
      "source": [
        "#### Drop all Null Value Columns\n",
        "* These columns are automatically created when loading Excel files"
      ]
    },
    {
      "cell_type": "code",
      "execution_count": null,
      "metadata": {
        "id": "nxeIfYPw_a6C"
      },
      "outputs": [],
      "source": [
        "# Drop columns that have all nulls\n",
        "df.drop(['Unnamed: 1', 'Field11'], axis=1, inplace=True)\n",
        "df2.drop(['Unnamed: 2', 'Unnamed: 4', 'Unnamed: 6', 'Unnamed: 11', 'Unnamed: 13', 'Unnamed: 14', 'Unnamed: 16'], axis=1, inplace=True)"
      ]
    },
    {
      "cell_type": "code",
      "execution_count": null,
      "metadata": {
        "id": "zY6JsW2Z_a6C",
        "outputId": "5fa09f48-5604-4c6d-e35a-baf932c0e4e8"
      },
      "outputs": [
        {
          "name": "stdout",
          "output_type": "stream",
          "text": [
            "<class 'pandas.core.frame.DataFrame'>\n",
            "Int64Index: 1053346 entries, 0 to 10250\n",
            "Data columns (total 16 columns):\n",
            " #   Column         Non-Null Count    Dtype  \n",
            "---  ------         --------------    -----  \n",
            " 0   Date           1053341 non-null  object \n",
            " 1   Hour           1053345 non-null  object \n",
            " 2   Offense Type   1053345 non-null  object \n",
            " 3   Beat           1053329 non-null  object \n",
            " 4   Premise        1019749 non-null  object \n",
            " 5   Block Range    718504 non-null   object \n",
            " 6   Street Name    718660 non-null   object \n",
            " 7   Type           1053345 non-null  object \n",
            " 8   Suffix         1053345 non-null  object \n",
            " 9   Offenses       126364 non-null   float64\n",
            " 10  BlockRange     334684 non-null   object \n",
            " 11  StreetName     334684 non-null   object \n",
            " 12  # offenses     334684 non-null   float64\n",
            " 13  # Of Offenses  574365 non-null   float64\n",
            " 14  # Offenses     10319 non-null    float64\n",
            " 15  # Of           7613 non-null     float64\n",
            "dtypes: float64(5), object(11)\n",
            "memory usage: 136.6+ MB\n"
          ]
        }
      ],
      "source": [
        "# Check df\n",
        "df.info()"
      ]
    },
    {
      "cell_type": "code",
      "execution_count": null,
      "metadata": {
        "id": "u24ogtep_a6D",
        "outputId": "5498cd87-6ce7-4d1b-bbad-dc60f85467be"
      },
      "outputs": [
        {
          "name": "stdout",
          "output_type": "stream",
          "text": [
            "<class 'pandas.core.frame.DataFrame'>\n",
            "Float64Index: 145713 entries, nan to nan\n",
            "Data columns (total 10 columns):\n",
            " #   Column             Non-Null Count   Dtype \n",
            "---  ------             --------------   ----- \n",
            " 0   Occurrence Date    145713 non-null  object\n",
            " 1   Occurrence Hour    145713 non-null  int64 \n",
            " 2   NIBRS Description  145713 non-null  object\n",
            " 3   Offense Count      145713 non-null  int64 \n",
            " 4   Beat               145564 non-null  object\n",
            " 5   Premise            145713 non-null  object\n",
            " 6   Block Range        144823 non-null  object\n",
            " 7   Street Name        145713 non-null  object\n",
            " 8   Street Type        133976 non-null  object\n",
            " 9   Suffix             20532 non-null   object\n",
            "dtypes: int64(2), object(8)\n",
            "memory usage: 12.2+ MB\n"
          ]
        }
      ],
      "source": [
        "# Check df2\n",
        "df2.info()"
      ]
    },
    {
      "cell_type": "markdown",
      "metadata": {
        "id": "N6Ypd-e7_a6D"
      },
      "source": [
        "#### Check Duplicates"
      ]
    },
    {
      "cell_type": "code",
      "execution_count": null,
      "metadata": {
        "id": "kR63CN2h_a6D",
        "outputId": "28d0e0a7-1dd1-4f33-debb-cef2ddf481f2"
      },
      "outputs": [
        {
          "name": "stdout",
          "output_type": "stream",
          "text": [
            "January 2010 to May 2018 --> jan2010_may2018.csv 3569\n",
            "June 2018 to December 2018 --> jun2018_dec2018.csv 658\n",
            "January 2019 to July 2023 --> jan2019_jul2023.csv 0\n"
          ]
        }
      ],
      "source": [
        "# Check duplicates\n",
        "print(\"January 2010 to May 2018 --> jan2010_may2018.csv\", df.duplicated().sum())\n",
        "print(\"June 2018 to December 2018 --> jun2018_dec2018.csv\", df2.duplicated().sum())\n",
        "print(\"January 2019 to July 2023 --> jan2019_jul2023.csv\", df3.duplicated().sum())"
      ]
    },
    {
      "cell_type": "code",
      "execution_count": null,
      "metadata": {
        "id": "jgQONKvZ_a6D",
        "outputId": "5c0adec8-a3de-430d-d1b7-274ccb042140"
      },
      "outputs": [
        {
          "data": {
            "text/html": [
              "<div>\n",
              "<style scoped>\n",
              "    .dataframe tbody tr th:only-of-type {\n",
              "        vertical-align: middle;\n",
              "    }\n",
              "\n",
              "    .dataframe tbody tr th {\n",
              "        vertical-align: top;\n",
              "    }\n",
              "\n",
              "    .dataframe thead th {\n",
              "        text-align: right;\n",
              "    }\n",
              "</style>\n",
              "<table border=\"1\" class=\"dataframe\">\n",
              "  <thead>\n",
              "    <tr style=\"text-align: right;\">\n",
              "      <th></th>\n",
              "      <th>Date</th>\n",
              "      <th>Hour</th>\n",
              "      <th>Offense Type</th>\n",
              "      <th>Beat</th>\n",
              "      <th>Premise</th>\n",
              "      <th>Block Range</th>\n",
              "      <th>Street Name</th>\n",
              "      <th>Type</th>\n",
              "      <th>Suffix</th>\n",
              "      <th>Offenses</th>\n",
              "      <th>BlockRange</th>\n",
              "      <th>StreetName</th>\n",
              "      <th># offenses</th>\n",
              "      <th># Of Offenses</th>\n",
              "      <th># Offenses</th>\n",
              "      <th># Of</th>\n",
              "    </tr>\n",
              "  </thead>\n",
              "  <tbody>\n",
              "    <tr>\n",
              "      <th>0</th>\n",
              "      <td>01/16/2017</td>\n",
              "      <td>5</td>\n",
              "      <td>Theft</td>\n",
              "      <td>10H10</td>\n",
              "      <td>Commercial Parking Lot or Garage</td>\n",
              "      <td>6000-6099</td>\n",
              "      <td>CANAL</td>\n",
              "      <td>ST</td>\n",
              "      <td>-</td>\n",
              "      <td>1.0</td>\n",
              "      <td>NaN</td>\n",
              "      <td>NaN</td>\n",
              "      <td>NaN</td>\n",
              "      <td>NaN</td>\n",
              "      <td>NaN</td>\n",
              "      <td>NaN</td>\n",
              "    </tr>\n",
              "    <tr>\n",
              "      <th>1</th>\n",
              "      <td>03/31/2017</td>\n",
              "      <td>18</td>\n",
              "      <td>Rape</td>\n",
              "      <td>10H10</td>\n",
              "      <td>Residence or House</td>\n",
              "      <td>200-299</td>\n",
              "      <td>N LENOX ST</td>\n",
              "      <td>ST</td>\n",
              "      <td>-</td>\n",
              "      <td>1.0</td>\n",
              "      <td>NaN</td>\n",
              "      <td>NaN</td>\n",
              "      <td>NaN</td>\n",
              "      <td>NaN</td>\n",
              "      <td>NaN</td>\n",
              "      <td>NaN</td>\n",
              "    </tr>\n",
              "    <tr>\n",
              "      <th>2</th>\n",
              "      <td>09/03/2017</td>\n",
              "      <td>19</td>\n",
              "      <td>Burglary</td>\n",
              "      <td>10H10</td>\n",
              "      <td>Apartment</td>\n",
              "      <td>1900-1999</td>\n",
              "      <td>RUNNELS</td>\n",
              "      <td>-</td>\n",
              "      <td>-</td>\n",
              "      <td>1.0</td>\n",
              "      <td>NaN</td>\n",
              "      <td>NaN</td>\n",
              "      <td>NaN</td>\n",
              "      <td>NaN</td>\n",
              "      <td>NaN</td>\n",
              "      <td>NaN</td>\n",
              "    </tr>\n",
              "  </tbody>\n",
              "</table>\n",
              "</div>"
            ],
            "text/plain": [
              "         Date Hour Offense Type   Beat                           Premise  \\\n",
              "0  01/16/2017    5        Theft  10H10  Commercial Parking Lot or Garage   \n",
              "1  03/31/2017   18         Rape  10H10                Residence or House   \n",
              "2  09/03/2017   19     Burglary  10H10                         Apartment   \n",
              "\n",
              "  Block Range Street Name Type Suffix  Offenses BlockRange StreetName  \\\n",
              "0   6000-6099       CANAL   ST      -       1.0        NaN        NaN   \n",
              "1     200-299  N LENOX ST   ST      -       1.0        NaN        NaN   \n",
              "2   1900-1999     RUNNELS    -      -       1.0        NaN        NaN   \n",
              "\n",
              "   # offenses  # Of Offenses  # Offenses  # Of  \n",
              "0         NaN            NaN         NaN   NaN  \n",
              "1         NaN            NaN         NaN   NaN  \n",
              "2         NaN            NaN         NaN   NaN  "
            ]
          },
          "execution_count": 25,
          "metadata": {},
          "output_type": "execute_result"
        }
      ],
      "source": [
        "df.head(3)"
      ]
    },
    {
      "cell_type": "code",
      "execution_count": null,
      "metadata": {
        "id": "zSI4iBqX_a6F",
        "outputId": "5e7dd60d-d18f-4b77-e33b-5109be42417a"
      },
      "outputs": [
        {
          "data": {
            "text/html": [
              "<div>\n",
              "<style scoped>\n",
              "    .dataframe tbody tr th:only-of-type {\n",
              "        vertical-align: middle;\n",
              "    }\n",
              "\n",
              "    .dataframe tbody tr th {\n",
              "        vertical-align: top;\n",
              "    }\n",
              "\n",
              "    .dataframe thead th {\n",
              "        text-align: right;\n",
              "    }\n",
              "</style>\n",
              "<table border=\"1\" class=\"dataframe\">\n",
              "  <thead>\n",
              "    <tr style=\"text-align: right;\">\n",
              "      <th></th>\n",
              "      <th>Occurrence Date</th>\n",
              "      <th>Occurrence Hour</th>\n",
              "      <th>NIBRS Description</th>\n",
              "      <th>Offense Count</th>\n",
              "      <th>Beat</th>\n",
              "      <th>Premise</th>\n",
              "      <th>Block Range</th>\n",
              "      <th>Street Name</th>\n",
              "      <th>Street Type</th>\n",
              "      <th>Suffix</th>\n",
              "    </tr>\n",
              "  </thead>\n",
              "  <tbody>\n",
              "    <tr>\n",
              "      <th>NaN</th>\n",
              "      <td>2018-09-01</td>\n",
              "      <td>0</td>\n",
              "      <td>Credit card, ATM fraud</td>\n",
              "      <td>1</td>\n",
              "      <td>5F30</td>\n",
              "      <td>Auto Dealership New/Used</td>\n",
              "      <td>12800-12899</td>\n",
              "      <td>HEMPSTEAD</td>\n",
              "      <td>RD</td>\n",
              "      <td>NaN</td>\n",
              "    </tr>\n",
              "    <tr>\n",
              "      <th>NaN</th>\n",
              "      <td>2018-09-01</td>\n",
              "      <td>0</td>\n",
              "      <td>Intimidation</td>\n",
              "      <td>1</td>\n",
              "      <td>8C30</td>\n",
              "      <td>Residence, Home (Includes Apartment)</td>\n",
              "      <td>8100-8199</td>\n",
              "      <td>SNOWDEN</td>\n",
              "      <td>NaN</td>\n",
              "      <td>NaN</td>\n",
              "    </tr>\n",
              "    <tr>\n",
              "      <th>NaN</th>\n",
              "      <td>2018-09-01</td>\n",
              "      <td>0</td>\n",
              "      <td>Weapon law violations</td>\n",
              "      <td>1</td>\n",
              "      <td>14D10</td>\n",
              "      <td>Parking Lot, Garage</td>\n",
              "      <td>6600-6699</td>\n",
              "      <td>MADRID</td>\n",
              "      <td>ST</td>\n",
              "      <td>NaN</td>\n",
              "    </tr>\n",
              "  </tbody>\n",
              "</table>\n",
              "</div>"
            ],
            "text/plain": [
              "    Occurrence Date  Occurrence Hour       NIBRS Description  Offense Count  \\\n",
              "NaN      2018-09-01                0  Credit card, ATM fraud              1   \n",
              "NaN      2018-09-01                0            Intimidation              1   \n",
              "NaN      2018-09-01                0   Weapon law violations              1   \n",
              "\n",
              "      Beat                               Premise  Block Range Street Name  \\\n",
              "NaN   5F30              Auto Dealership New/Used  12800-12899   HEMPSTEAD   \n",
              "NaN   8C30  Residence, Home (Includes Apartment)    8100-8199     SNOWDEN   \n",
              "NaN  14D10                   Parking Lot, Garage    6600-6699      MADRID   \n",
              "\n",
              "    Street Type Suffix  \n",
              "NaN          RD    NaN  \n",
              "NaN         NaN    NaN  \n",
              "NaN          ST    NaN  "
            ]
          },
          "execution_count": 26,
          "metadata": {},
          "output_type": "execute_result"
        }
      ],
      "source": [
        "df2.head(3)"
      ]
    },
    {
      "cell_type": "markdown",
      "metadata": {
        "id": "7GeHCmsD_a6G"
      },
      "source": [
        "### **6. Save Dataframes to CSV Files**"
      ]
    },
    {
      "cell_type": "code",
      "execution_count": null,
      "metadata": {
        "id": "Akhysj5n_a6G"
      },
      "outputs": [],
      "source": [
        "# Save df, df2, df3 as jan2010_may2018.csv, jun2018_dec2018.csv and jan2019_jul2023.csv respectively\n",
        "df.to_csv('data/jan2010_may2018.csv', index=False)\n",
        "df2.to_csv('data/jun2018_dec2018.csv', index=False)\n",
        "df3.to_csv('data/jan2019_jul2023.csv', index=False)"
      ]
    },
    {
      "cell_type": "markdown",
      "metadata": {
        "id": "DUD9Aq7k_a6N"
      },
      "source": [
        "### **7. Load CSV Files**"
      ]
    },
    {
      "cell_type": "code",
      "execution_count": null,
      "metadata": {
        "id": "xg7Aqs32_a6O"
      },
      "outputs": [],
      "source": [
        "# Check jan2010_may2018.csv, jun2018_dec2018.csv and jan2019_jul2023.csv\n",
        "df_jan2010_may2018 = pd.read_csv('data/jan2010_may2018.csv', dtype={'Beat': str, 'Block Range':str})\n",
        "df_jun2018_dec2018 = pd.read_csv('data/jun2018_dec2018.csv', dtype={'Beat': str, 'Block Range':str})\n",
        "df_jan2019_jul2023 = pd.read_csv('data/jan2019_jul2023.csv', dtype={'Beat': str})"
      ]
    },
    {
      "cell_type": "code",
      "execution_count": null,
      "metadata": {
        "id": "z8DrH9LK_a6O"
      },
      "outputs": [],
      "source": [
        "print(\"df_jan2010_may2018\", df_jan2010_may2018.shape)\n",
        "print(\"df_jun2018_dec2018\", df_jun2018_dec2018.shape)\n",
        "print(\"df_jan2019_jul2023\", df_jan2019_jul2023.shape)"
      ]
    },
    {
      "cell_type": "code",
      "execution_count": null,
      "metadata": {
        "id": "LhmuEsVF_a6O"
      },
      "outputs": [],
      "source": [
        "# Check duplicates\n",
        "print(\"df_jan2010_may2018\", df_jan2010_may2018.duplicated().sum())\n",
        "print(\"df_jun2018_dec2018\", df_jun2018_dec2018.duplicated().sum())\n",
        "print(\"df_jan2019_jul2023\", df_jan2019_jul2023.duplicated().sum())"
      ]
    },
    {
      "cell_type": "code",
      "execution_count": null,
      "metadata": {
        "id": "Nm3voN_u_a6P"
      },
      "outputs": [],
      "source": [
        "# Check jan2010_may2018.csv\n",
        "df_jan2010_may2018.head()"
      ]
    },
    {
      "cell_type": "code",
      "execution_count": null,
      "metadata": {
        "id": "4UvTEpxk_a6P"
      },
      "outputs": [],
      "source": [
        "# Check df_jun2018_dec2018\n",
        "df_jun2018_dec2018.head()"
      ]
    },
    {
      "cell_type": "code",
      "execution_count": null,
      "metadata": {
        "id": "LX7HLtk-_a6P"
      },
      "outputs": [],
      "source": [
        "# Check df_jun2018_dec2018\n",
        "df_jan2019_jul2023.head()"
      ]
    }
  ],
  "metadata": {
    "kernelspec": {
      "display_name": "Python 3",
      "language": "python",
      "name": "python3"
    },
    "language_info": {
      "codemirror_mode": {
        "name": "ipython",
        "version": 3
      },
      "file_extension": ".py",
      "mimetype": "text/x-python",
      "name": "python",
      "nbconvert_exporter": "python",
      "pygments_lexer": "ipython3",
      "version": "3.9.13"
    },
    "orig_nbformat": 4,
    "colab": {
      "provenance": []
    }
  },
  "nbformat": 4,
  "nbformat_minor": 0
}